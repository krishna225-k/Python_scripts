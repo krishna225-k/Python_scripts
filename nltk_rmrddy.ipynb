{
  "nbformat": 4,
  "nbformat_minor": 0,
  "metadata": {
    "colab": {
      "name": "nltk_rmrddy.ipynb",
      "provenance": [],
      "collapsed_sections": [],
      "toc_visible": true
    },
    "kernelspec": {
      "name": "python3",
      "display_name": "Python 3"
    }
  },
  "cells": [
    {
      "cell_type": "code",
      "metadata": {
        "id": "cZHCXENs3t1i",
        "colab_type": "code",
        "colab": {}
      },
      "source": [
        " "
      ],
      "execution_count": 0,
      "outputs": []
    },
    {
      "cell_type": "markdown",
      "metadata": {
        "id": "F79GWdWh4Tv0",
        "colab_type": "text"
      },
      "source": [
        "# Fallowing code is part of ram reddy datascience notebook\n",
        "- re.findall()"
      ]
    },
    {
      "cell_type": "code",
      "metadata": {
        "id": "Skb9HA794b-D",
        "colab_type": "code",
        "colab": {
          "base_uri": "https://localhost:8080/",
          "height": 54
        },
        "outputId": "15da5230-adec-4859-c1b9-1e64a3b35787"
      },
      "source": [
        "# Excercise: practice expression: re.split, re.findall()\n",
        "import re\n",
        "my_string = 'Let\\'s write RegEx! Won\\'t that be fun? I sure thins so. Can you find 4 sentences? Or perphase, all 19 words??'\n",
        "\n",
        "# write a pattern to match sentance ending with sentence_ending\n",
        "sentences_ending = r\"[.?]\" # \".\" inicates --> match any character without new line and which ends with \"?\" \n",
        "# split my_string on sentence ending and print the result\n",
        "\n",
        "print(re.split(sentences_ending,my_string))"
      ],
      "execution_count": 73,
      "outputs": [
        {
          "output_type": "stream",
          "text": [
            "[\"Let's write RegEx! Won't that be fun\", ' I sure thins so', ' Can you find 4 sentences', ' Or perphase, all 19 words', '', '']\n"
          ],
          "name": "stdout"
        }
      ]
    },
    {
      "cell_type": "code",
      "metadata": {
        "id": "CCfWx6zo5t87",
        "colab_type": "code",
        "colab": {
          "base_uri": "https://localhost:8080/",
          "height": 34
        },
        "outputId": "cf4f113d-6c18-4e58-a4b2-72cfa8e8cd34"
      },
      "source": [
        "# Find the all capitalized words in my_string and prints the results\n",
        "capitalized =r'[A-Z]\\w+' # here [A-Z]-- all upper case and \\w alphares word \n",
        "print(re.findall(capitalized,my_string))"
      ],
      "execution_count": 74,
      "outputs": [
        {
          "output_type": "stream",
          "text": [
            "['Let', 'RegEx', 'Won', 'Can', 'Or']\n"
          ],
          "name": "stdout"
        }
      ]
    },
    {
      "cell_type": "code",
      "metadata": {
        "id": "zqYBNJBq7gnL",
        "colab_type": "code",
        "colab": {
          "base_uri": "https://localhost:8080/",
          "height": 54
        },
        "outputId": "a40373c5-dc93-40d2-c5b2-f1bc571f9a28"
      },
      "source": [
        "# splits my_strings on spaces and print the result\n",
        "spaces = r'\\s+'\n",
        "print(re.findall(spaces,my_string))"
      ],
      "execution_count": 75,
      "outputs": [
        {
          "output_type": "stream",
          "text": [
            "[' ', ' ', ' ', ' ', ' ', ' ', ' ', ' ', ' ', ' ', ' ', ' ', ' ', ' ', ' ', ' ', ' ', ' ', ' ', ' ']\n"
          ],
          "name": "stdout"
        }
      ]
    },
    {
      "cell_type": "code",
      "metadata": {
        "id": "uxvC-5tv7x-z",
        "colab_type": "code",
        "colab": {
          "base_uri": "https://localhost:8080/",
          "height": 34
        },
        "outputId": "71319075-6c05-4cbe-f4c4-01fa63ea0b89"
      },
      "source": [
        "# Find the all digits in  mystring and print the results \n",
        "digits = r'\\d+' # \"+\" means atleast one time\n",
        "print(re.findall(digits,my_string))"
      ],
      "execution_count": 76,
      "outputs": [
        {
          "output_type": "stream",
          "text": [
            "['4', '19']\n"
          ],
          "name": "stdout"
        }
      ]
    },
    {
      "cell_type": "markdown",
      "metadata": {
        "id": "OpkX3tCx8Ry6",
        "colab_type": "text"
      },
      "source": [
        "# Explore re.match vs re.search\n"
      ]
    },
    {
      "cell_type": "code",
      "metadata": {
        "id": "ooreur-T8PqD",
        "colab_type": "code",
        "colab": {
          "base_uri": "https://localhost:8080/",
          "height": 50
        },
        "outputId": "abe0e391-ea70-4a95-f4e3-1827b7bcbd8b"
      },
      "source": [
        "\n",
        "import re\n",
        "x = re.match(\"b\",'abcdef')\n",
        "print(x)\n",
        "y = re.search('b','abcdef')\n",
        "print(y)"
      ],
      "execution_count": 77,
      "outputs": [
        {
          "output_type": "stream",
          "text": [
            "None\n",
            "<_sre.SRE_Match object; span=(1, 2), match='b'>\n"
          ],
          "name": "stdout"
        }
      ]
    },
    {
      "cell_type": "markdown",
      "metadata": {
        "id": "buWWhvYw83-m",
        "colab_type": "text"
      },
      "source": [
        "# Tokenization\n",
        "- Dividing a string or document into tokens (smaller chunks)\n",
        "- First step in preparation a tex for NLP\n",
        "- Many different therories and rules available in creting tokesn , YOu can create your own rules using regular expression\n",
        "\n",
        "\n",
        "## Some of NLtK tokenization are \n",
        "    a. word_tokenize: to split into words\n",
        "    b. sent_tokenize: tokenize a sentence into sentences\n",
        "    c.regexp_tokenize: tokenize based on regural expression pattern\n",
        "    d. Tweet_tokenize: special calss just for tweet tokenizeon , allowing you to separate hashtags mentions and lots exclamation ponts!!\n"
      ]
    },
    {
      "cell_type": "code",
      "metadata": {
        "id": "3CncPcnZ8ker",
        "colab_type": "code",
        "colab": {
          "base_uri": "https://localhost:8080/",
          "height": 50
        },
        "outputId": "49f9acaf-e8f4-4310-9bad-e8845d9a44bc"
      },
      "source": [
        "# import nltk\n",
        "# nltk.download('punkt')\n",
        "# Excercise: Sentensce and word tokenization\n",
        "# import necessary libraries\n",
        "from nltk.tokenize import sent_tokenize\n",
        "from nltk.tokenize import word_tokenize\n",
        "scene_one = 'I like data science. I like PRITEC training'\n",
        "sentences = sent_tokenize(scene_one) \n",
        "print(sentences)\n",
        "print('Total Number of tokens in sentences',len(sentences))"
      ],
      "execution_count": 79,
      "outputs": [
        {
          "output_type": "stream",
          "text": [
            "['I like data science.', 'I like PRITEC training']\n",
            "Total Number of tokens in sentences 2\n"
          ],
          "name": "stdout"
        }
      ]
    },
    {
      "cell_type": "code",
      "metadata": {
        "id": "S8yNmKz-_vrG",
        "colab_type": "code",
        "colab": {
          "base_uri": "https://localhost:8080/",
          "height": 50
        },
        "outputId": "d8cbc9ec-5710-4732-8571-fba0e42b50ce"
      },
      "source": [
        "# word tokenize?\n",
        "tokenize_sent = word_tokenize(sentences[1])\n",
        "print(tokenize_sent)\n",
        "print('Total number tokens in tokenize_sent:  ',len(tokenize_sent))"
      ],
      "execution_count": 80,
      "outputs": [
        {
          "output_type": "stream",
          "text": [
            "['I', 'like', 'PRITEC', 'training']\n",
            "Total number tokens in tokenize_sent:   4\n"
          ],
          "name": "stdout"
        }
      ]
    },
    {
      "cell_type": "code",
      "metadata": {
        "id": "dDRTMEXiAfwq",
        "colab_type": "code",
        "colab": {
          "base_uri": "https://localhost:8080/",
          "height": 50
        },
        "outputId": "b942832a-b919-42c7-9ea1-d8d26df3a3a0"
      },
      "source": [
        "# unique tokens in entire scene_one\n",
        "unique_tokens = set(word_tokenize(scene_one))\n",
        "print(unique_tokens)\n",
        "print('Total number of unique tokens',len(unique_tokens))"
      ],
      "execution_count": 81,
      "outputs": [
        {
          "output_type": "stream",
          "text": [
            "{'.', 'science', 'I', 'training', 'PRITEC', 'data', 'like'}\n",
            "Total number of unique tokens 7\n"
          ],
          "name": "stdout"
        }
      ]
    },
    {
      "cell_type": "markdown",
      "metadata": {
        "id": "YS3sxjb9BVcV",
        "colab_type": "text"
      },
      "source": [
        "# Advanced tokenization with regex\n",
        "1. Regex groups using \"|\" or \"OR\"\n",
        "2. YOu can define group using ()\n",
        "3. regex range [] and groups()"
      ]
    },
    {
      "cell_type": "code",
      "metadata": {
        "id": "oRzUpeA3A9Ki",
        "colab_type": "code",
        "colab": {
          "base_uri": "https://localhost:8080/",
          "height": 34
        },
        "outputId": "7adb00d9-13d1-49e6-b938-2608583be4b2"
      },
      "source": [
        "# Only digits\n",
        "tokenize_digits_and_words = ('\\d+')\n",
        "re.findall(tokenize_digits_and_words,'he has 8 dogs nad 11 cats')"
      ],
      "execution_count": 85,
      "outputs": [
        {
          "output_type": "execute_result",
          "data": {
            "text/plain": [
              "['8', '11']"
            ]
          },
          "metadata": {
            "tags": []
          },
          "execution_count": 85
        }
      ]
    },
    {
      "cell_type": "code",
      "metadata": {
        "id": "UREneJ-uGQpz",
        "colab_type": "code",
        "colab": {
          "base_uri": "https://localhost:8080/",
          "height": 34
        },
        "outputId": "1d8a3d57-0a06-42dd-db41-18b0af65ff54"
      },
      "source": [
        "#Only alphabets\n",
        "tokenize_digits_and_words = ('[a-z]\\w+') # \\w+\n",
        "re.findall(tokenize_digits_and_words,'He has 8 dogs and 11 cats')"
      ],
      "execution_count": 86,
      "outputs": [
        {
          "output_type": "execute_result",
          "data": {
            "text/plain": [
              "['has', 'dogs', 'and', 'cats']"
            ]
          },
          "metadata": {
            "tags": []
          },
          "execution_count": 86
        }
      ]
    },
    {
      "cell_type": "code",
      "metadata": {
        "id": "r5Ba0SnbGtkR",
        "colab_type": "code",
        "colab": {
          "base_uri": "https://localhost:8080/",
          "height": 34
        },
        "outputId": "841c4b69-976f-49b4-c42b-d91802f71c43"
      },
      "source": [
        "tokenize_digits_and_words = ('[a-z]+') # []\n",
        "re.findall(tokenize_digits_and_words,'He has 8 dogs and 11 cats')"
      ],
      "execution_count": 87,
      "outputs": [
        {
          "output_type": "execute_result",
          "data": {
            "text/plain": [
              "['e', 'has', 'dogs', 'and', 'cats']"
            ]
          },
          "metadata": {
            "tags": []
          },
          "execution_count": 87
        }
      ]
    },
    {
      "cell_type": "code",
      "metadata": {
        "id": "Q-y0gFa4GzF5",
        "colab_type": "code",
        "colab": {
          "base_uri": "https://localhost:8080/",
          "height": 34
        },
        "outputId": "31efb8ba-322c-4f52-c91b-99e4e0d4efda"
      },
      "source": [
        "# BOth digits and alphabets \n",
        "tokenize_digits_and_words = ('[a-z]+| \\d+')\n",
        "\n",
        "re.findall(tokenize_digits_and_words,'He has 8 dogs and 11 cats')"
      ],
      "execution_count": 91,
      "outputs": [
        {
          "output_type": "execute_result",
          "data": {
            "text/plain": [
              "['e', 'has', ' 8', 'dogs', 'and', ' 11', 'cats']"
            ]
          },
          "metadata": {
            "tags": []
          },
          "execution_count": 91
        }
      ]
    },
    {
      "cell_type": "code",
      "metadata": {
        "id": "HiY78FF6HWZB",
        "colab_type": "code",
        "colab": {
          "base_uri": "https://localhost:8080/",
          "height": 34
        },
        "outputId": "8cbe6632-ae8a-4f13-ecaa-eb1819d6913e"
      },
      "source": [
        "tokenize_digits_and_words = ('\\w+ | \\d') # another way of featching both number and words \n",
        "re.findall(tokenize_digits_and_words,'He has 8 dogs and 11 cats')"
      ],
      "execution_count": 89,
      "outputs": [
        {
          "output_type": "execute_result",
          "data": {
            "text/plain": [
              "['He ', 'has ', '8 ', 'dogs ', 'and ', '11 ']"
            ]
          },
          "metadata": {
            "tags": []
          },
          "execution_count": 89
        }
      ]
    },
    {
      "cell_type": "markdown",
      "metadata": {
        "id": "ITY8EVb6IDh7",
        "colab_type": "text"
      },
      "source": [
        "# Example 2\n"
      ]
    },
    {
      "cell_type": "code",
      "metadata": {
        "id": "BRXMPDQUHaaJ",
        "colab_type": "code",
        "colab": {
          "base_uri": "https://localhost:8080/",
          "height": 34
        },
        "outputId": "1ca2a5e9-9ea8-4cb3-915d-a891500362c2"
      },
      "source": [
        "my_str = 'match lowercase spaces and nums \\'like\\' \\'12\\' ,but no commas'\n",
        "re.match('[a-z0-9]+',my_str) # \"+\" indicates atlest one match"
      ],
      "execution_count": 94,
      "outputs": [
        {
          "output_type": "execute_result",
          "data": {
            "text/plain": [
              "<_sre.SRE_Match object; span=(0, 5), match='match'>"
            ]
          },
          "metadata": {
            "tags": []
          },
          "execution_count": 94
        }
      ]
    },
    {
      "cell_type": "code",
      "metadata": {
        "id": "6xwwANDSId7X",
        "colab_type": "code",
        "colab": {
          "base_uri": "https://localhost:8080/",
          "height": 319
        },
        "outputId": "e1907a25-5b72-4a6a-d283-e117c0e2519e"
      },
      "source": [
        "from nltk import regexp_tokenize\n",
        "my_string = 'SOLDIER#1: Found them? in Mercea? The coconut\\'s tropical!'\n",
        "# pattern1 = r'(w+| # | \\d | ? |!)' # match the w+ words, #-tages,\\d digits, ? --> marks. !--> exclamation\n",
        "# regexp_tokenize(my_string,pattern=pattern1)\n",
        "# blackslahs is complusary\n",
        "pattern1 = r'(\\w+| # | \\d | ? |!)' # match the w+ words, #-tages,\\d digits, ? --> marks. !--> exclamation\n",
        "regexp_tokenize(my_string,pattern=pattern1)\n"
      ],
      "execution_count": 95,
      "outputs": [
        {
          "output_type": "execute_result",
          "data": {
            "text/plain": [
              "['SOLDIER',\n",
              " '1',\n",
              " ' ',\n",
              " 'Found',\n",
              " ' ',\n",
              " 'them',\n",
              " ' ',\n",
              " 'in',\n",
              " ' ',\n",
              " 'Mercea',\n",
              " ' ',\n",
              " 'The',\n",
              " ' ',\n",
              " 'coconut',\n",
              " 's',\n",
              " ' ',\n",
              " 'tropical',\n",
              " '!']"
            ]
          },
          "metadata": {
            "tags": []
          },
          "execution_count": 95
        }
      ]
    },
    {
      "cell_type": "code",
      "metadata": {
        "id": "NU3qcKADKT6w",
        "colab_type": "code",
        "colab": {}
      },
      "source": [
        "# Regex with NLTK tweet modules\n",
        "from nltk.tokenize import  regexp_tokenize\n",
        "from nltk.tokenize import TweetTokenizer\n",
        "tweets = ['This is the best #nlp execrise ive found online! #python','#NLP is super fun! <3 #learning','Thanks @RRITEC:) #nlp #python']"
      ],
      "execution_count": 0,
      "outputs": []
    },
    {
      "cell_type": "code",
      "metadata": {
        "id": "tdGYr6W3LY7x",
        "colab_type": "code",
        "colab": {
          "base_uri": "https://localhost:8080/",
          "height": 34
        },
        "outputId": "104e309d-6de9-41d9-a908-936f5865a952"
      },
      "source": [
        "# define the regexp pattern to find hashtags: patter1\n",
        "pattern1 = r'#\\w+' \n",
        "regexp_tokenize(tweets[0],pattern=pattern1)"
      ],
      "execution_count": 105,
      "outputs": [
        {
          "output_type": "execute_result",
          "data": {
            "text/plain": [
              "['#nlp', '#python']"
            ]
          },
          "metadata": {
            "tags": []
          },
          "execution_count": 105
        }
      ]
    },
    {
      "cell_type": "code",
      "metadata": {
        "id": "Y5cQxEyTVg-g",
        "colab_type": "code",
        "colab": {
          "base_uri": "https://localhost:8080/",
          "height": 34
        },
        "outputId": "767a0033-065a-4e81-8aab-8fb1dd71e4f1"
      },
      "source": [
        "#Use the pattern that matches in second index \n",
        "regexp_tokenize(tweets[1],pattern=pattern1)"
      ],
      "execution_count": 106,
      "outputs": [
        {
          "output_type": "execute_result",
          "data": {
            "text/plain": [
              "['#NLP', '#learning']"
            ]
          },
          "metadata": {
            "tags": []
          },
          "execution_count": 106
        }
      ]
    },
    {
      "cell_type": "code",
      "metadata": {
        "id": "Fexmhg4wVune",
        "colab_type": "code",
        "colab": {
          "base_uri": "https://localhost:8080/",
          "height": 34
        },
        "outputId": "9d19dc38-bf5c-413d-a757-e3e76fa9a6f0"
      },
      "source": [
        "# write a pattern for matches both @ and hashtages\n",
        "pattern2 = r'([@ | #]\\w+)'\n",
        "regexp_tokenize(tweets[2],pattern2)"
      ],
      "execution_count": 117,
      "outputs": [
        {
          "output_type": "execute_result",
          "data": {
            "text/plain": [
              "['@RRITEC', '#nlp', '#python']"
            ]
          },
          "metadata": {
            "tags": []
          },
          "execution_count": 117
        }
      ]
    },
    {
      "cell_type": "code",
      "metadata": {
        "id": "ZbFfRxMOWnfO",
        "colab_type": "code",
        "colab": {
          "base_uri": "https://localhost:8080/",
          "height": 34
        },
        "outputId": "5e72f806-f0a9-471e-d6b7-afe4d774e341"
      },
      "source": [
        "# use the pattern on the last tweet in the tweets list\n",
        "regexp_tokenize(tweets[-1],pattern2)"
      ],
      "execution_count": 118,
      "outputs": [
        {
          "output_type": "execute_result",
          "data": {
            "text/plain": [
              "['@RRITEC', '#nlp', '#python']"
            ]
          },
          "metadata": {
            "tags": []
          },
          "execution_count": 118
        }
      ]
    },
    {
      "cell_type": "code",
      "metadata": {
        "id": "-NtBntQQXtf_",
        "colab_type": "code",
        "colab": {
          "base_uri": "https://localhost:8080/",
          "height": 235
        },
        "outputId": "3c90268b-cf9d-49ee-c785-b729fcdbccb0"
      },
      "source": [
        "# tokenize all tweets into tokens\n",
        "tknzr = TweetTokenizer()\n",
        "all_tokens = [tknzr.tokenize(t) for t in tweets]\n",
        "all_tokens"
      ],
      "execution_count": 121,
      "outputs": [
        {
          "output_type": "execute_result",
          "data": {
            "text/plain": [
              "[['This',\n",
              "  'is',\n",
              "  'the',\n",
              "  'best',\n",
              "  '#nlp',\n",
              "  'execrise',\n",
              "  'ive',\n",
              "  'found',\n",
              "  'online',\n",
              "  '!',\n",
              "  '#python'],\n",
              " ['#NLP', 'is', 'super', 'fun', '!', '<3', '#learning'],\n",
              " ['Thanks', '@RRITEC', ':)', '#nlp', '#python']]"
            ]
          },
          "metadata": {
            "tags": []
          },
          "execution_count": 121
        }
      ]
    },
    {
      "cell_type": "markdown",
      "metadata": {
        "id": "m-2EcQ2aaEUP",
        "colab_type": "text"
      },
      "source": [
        "# Charting word length with nltk"
      ]
    },
    {
      "cell_type": "code",
      "metadata": {
        "id": "HyNSZQaUYQoF",
        "colab_type": "code",
        "colab": {
          "base_uri": "https://localhost:8080/",
          "height": 315
        },
        "outputId": "a40167f0-68f7-4c63-8623-8624ab0d18ed"
      },
      "source": [
        "from matplotlib import pyplot as plt\n",
        "plt.hist([1,5,5,7,7,7,9])"
      ],
      "execution_count": 122,
      "outputs": [
        {
          "output_type": "execute_result",
          "data": {
            "text/plain": [
              "(array([1., 0., 0., 0., 0., 2., 0., 3., 0., 1.]),\n",
              " array([1. , 1.8, 2.6, 3.4, 4.2, 5. , 5.8, 6.6, 7.4, 8.2, 9. ]),\n",
              " <a list of 10 Patch objects>)"
            ]
          },
          "metadata": {
            "tags": []
          },
          "execution_count": 122
        },
        {
          "output_type": "display_data",
          "data": {
            "image/png": "[encoded data removed]",
            "text/plain": [
              "<Figure size 432x288 with 1 Axes>"
            ]
          },
          "metadata": {
            "tags": []
          }
        }
      ]
    },
    {
      "cell_type": "markdown",
      "metadata": {
        "id": "FNDO6jbnaoJf",
        "colab_type": "text"
      },
      "source": [
        "# NLTk plotting "
      ]
    },
    {
      "cell_type": "code",
      "metadata": {
        "id": "ja92xgXwai0E",
        "colab_type": "code",
        "colab": {
          "base_uri": "https://localhost:8080/",
          "height": 302
        },
        "outputId": "2b93edd4-0747-4e3e-98af-7be41d5fbe5d"
      },
      "source": [
        "from nltk.tokenize import word_tokenize\n",
        "from nltk.tokenize import sent_tokenize\n",
        "words = open('/content/shakespeare-alls-11.txt')\n",
        "words_lenght = [len(w) for w in words]\n",
        "print(words_lenght)\n",
        "plt.hist(words_lenght)\n",
        "plt.show()"
      ],
      "execution_count": 136,
      "outputs": [
        {
          "output_type": "stream",
          "text": [
            "[27, 1, 19, 1, 23, 1, 25, 1, 28, 1, 19, 1, 32, 1, 10, 43, 8, 1, 17, 1, 12, 41, 1, 48, 1, 36, 1, 29, 1, 11, 41, 10, 1, 56, 15, 16, 16, 20, 21, 18, 14, 1, 46, 1, 27, 1, 6, 1, 39, 1, 52, 26, 1, 64, 1, 59, 51, 48, 1, 56, 53, 54, 52, 45, 1, 56, 1, 59, 50, 54, 25, 1, 55, 49, 53, 49, 51, 50, 34, 1, 50, 1, 59, 45, 1, 52, 51, 54, 36, 1, 58, 1, 26, 1, 34, 1, 58, 35, 1, 55, 50, 46, 52, 51, 50, 52, 64, 1, 53, 1, 60, 52, 52, 53, 54, 24, 1, 55, 1, 53, 42, 1, 57, 23, 1, 42, 1, 30, 1, 56, 47, 46, 51, 43, 47, 52, 52, 50, 38, 44, 13, 1, 40, 29, 1, 46, 1, 8, 1, 59, 50, 52, 1, 57, 14, 1, 28, 1, 51, 50, 46, 35, 39, 40, 36, 45, 41, 45, 41, 46, 42, 49, 40, 47, 41, 46, 44, 45, 1, 18, 1, 9, 1, 50, 38, 46, 42, 50, 54, 43, 1, 31, 1, 25, 1, 13, 1, 15, 1, 42, 1, 57, 52, 34, 1, 23, 1, 58, 47, 21, 1, 59, 32, 1, 53, 46, 28, 1, 59, 50, 52, 49, 51, 46, 52, 53, 51, 53, 1, 70, 1, 60, 52, 53, 50, 50, 54, 52, 49, 51, 53, 51, 49, 49, 49, 52, 1, 60, 1, 59, 50, 53, 50, 52, 49, 52, 47, 50, 47, 53, 47, 61, 1, 40, 48, 39, 34, 38, 40, 38, 46, 45, 42, 45, 46, 47, 1, 29, 1, 37, 1, 22, 1, 46, 48, 44, 48, 48, 19, 1, 14, 1, 47, 1, 8, 1, 59, 30, 1, 65, 1, 24, 1, 39, 1, 25, 1, 59, 21, 1, 34, 1, 48, 1, 27, 1, 47, 1, 31, 1, 58, 53, 62, 1, 58, 49, 49, 47, 54, 52, 49, 52, 54, 44, 1, 8, 1, 45, 43, 46, 46, 48, 46, 46, 49, 41, 48, 43, 44, 48, 49, 1, 8, 1, 27, 1, 6, 1, 35, 1, 49, 38, 1, 49, 45, 16, 1, 52, 1, 50, 47, 47, 44, 42, 25, 1, 32, 40, 23, 1, 31, 41, 41, 44, 26, 1, 30, 39, 28, 1, 27, 1, 38, 1, 52, 16, 1, 62, 45, 51, 43, 1, 47, 1, 48, 45, 46, 38, 43, 41, 44, 43, 41, 46, 45, 43, 45, 47, 44, 44, 43, 48, 39, 47, 36, 45, 41, 50, 21, 1, 35, 48, 37, 26, 1, 50, 45, 45, 50, 37, 41, 48, 44, 47, 49, 51, 48, 36, 43, 40, 30, 1, 32, 51, 1, 53, 44, 20, 1, 58, 1, 45, 43, 48, 45, 21, 1, 28, 1, 20, 1, 27, 1, 6, 1, 41, 1, 38, 1, 60, 1, 59, 48, 52, 47, 28, 1, 58, 49, 53, 53, 38, 1, 58, 1, 20, 1, 57, 49, 53, 36, 1, 38, 1, 44, 1, 23, 1, 50, 46, 51, 32, 1, 49, 1, 55, 59, 1, 44, 1, 59, 6, 1, 34, 1, 56, 50, 20, 1, 51, 1, 53, 29, 1, 48, 1, 55, 53, 50, 52, 51, 51, 54, 52, 52, 51, 50, 48, 51, 44, 1, 64, 1, 57, 6, 31, 33, 33, 28, 1, 58, 1, 60, 28, 1, 61, 16, 1, 52, 31, 23, 28, 36, 36, 30, 32, 32, 30, 1, 62, 1, 57, 53, 53, 51, 52, 53, 50, 6, 1, 61, 1, 56, 49, 47, 51, 60, 1, 8, 1, 20, 1, 59, 1, 59, 52, 51, 53, 25, 1, 58, 51, 47, 51, 53, 49, 52, 50, 54, 49, 50, 48, 53, 47, 52, 27, 1, 55, 48, 53, 49, 53, 59, 1, 16, 1, 16, 1, 42, 53, 43, 45, 44, 52, 39, 53, 42, 1, 37, 1, 26, 23, 1, 33, 1, 24, 43, 50, 48, 39, 42, 48, 41, 47, 39, 45, 44, 41, 43, 32, 1, 22, 1, 34, 1, 22, 43, 42, 41, 38, 44, 28, 1, 28, 1, 51, 49, 49, 42, 43, 46, 1, 54, 49, 46, 47, 42, 52, 40, 42, 47, 49, 50, 42, 44, 39, 49, 44, 51, 45, 16, 1, 48, 1, 29, 1, 36, 1, 26, 1, 53, 1, 49, 52, 48, 29, 1, 24, 46, 45, 18, 49, 39, 42, 36, 45, 43, 45, 42, 39, 48, 34, 42, 45, 42, 43, 43, 39, 47, 47, 48, 46, 49, 47, 1, 55, 17, 1, 39, 1, 31, 1, 51, 47, 49, 39, 48, 44, 41, 48, 40, 44, 28, 1, 30, 27, 1, 50, 42, 42, 25, 1, 31, 41, 44, 47, 52, 44, 45, 23, 1, 31, 53, 42, 35, 57, 48, 48, 25, 1, 30, 1, 29, 1, 56, 46, 46, 43, 41, 46, 1, 10, 1, 27, 1, 7, 1, 34, 1, 48, 46, 40, 1, 53, 53, 49, 48, 25, 1, 31, 40, 32, 1, 44, 37, 51, 40, 42, 39, 42, 40, 51, 46, 1, 57, 1, 46, 45, 43, 19, 1, 57, 1, 34, 1, 18, 1, 59, 1, 40, 1, 32, 1, 49, 1, 50, 55, 1, 58, 1, 52, 41, 44, 52, 1, 40, 1, 27, 1, 51, 1, 59, 1, 30, 1, 37, 1, 56, 53, 48, 52, 47, 52, 17, 1, 36, 1, 16, 1, 60, 1, 24, 1, 46, 1, 59, 54, 50, 50, 50, 53, 52, 60, 1, 26, 1, 66, 1, 31, 1, 15, 1, 62, 1, 32, 1, 61, 52, 47, 1, 45, 29, 1, 55, 38, 1, 9, 1, 47, 42, 55, 43, 43, 52, 40, 43, 31, 1, 25, 1, 53, 51, 39, 44, 51, 43, 49, 48, 30, 1, 22, 44, 45, 35, 1, 25, 29, 1, 8, 1, 49, 1, 31, 1, 27, 1, 35, 1, 27, 44, 47, 49, 46, 1, 8, 1, 50, 1, 25, 33, 37, 1, 17, 1, 55, 42, 40, 46, 45, 39, 48, 42, 46, 49, 38, 28, 1, 27, 38, 44, 40, 44, 46, 45, 36, 32, 42, 48, 1, 47, 44, 44, 40, 1, 53, 52, 48, 48, 38, 1, 44, 44, 39, 40, 44, 54, 48, 49, 42, 41, 46, 1, 54, 45, 49, 1, 46, 45, 49, 39, 45, 42, 40, 36, 39, 45, 45, 1, 46, 22, 1, 40, 45, 39, 39, 47, 44, 47, 49, 49, 1, 39, 27, 1, 25, 41, 46, 50, 43, 1, 53, 42, 35, 43, 46, 43, 37, 42, 41, 40, 41, 42, 1, 46, 39, 49, 41, 1, 22, 1, 52, 1, 47, 1, 52, 43, 35, 49, 37, 40, 41, 40, 1, 45, 45, 44, 43, 47, 49, 50, 43, 45, 48, 1, 20, 1, 27, 1, 7, 1, 40, 1, 28, 1, 60, 16, 1, 56, 39, 1, 57, 61, 1, 59, 53, 54, 50, 51, 52, 6, 1, 56, 12, 1, 58, 48, 26, 1, 54, 1, 59, 54, 52, 51, 52, 47, 49, 1, 60, 12, 1, 57, 24, 1, 58, 23, 1, 58, 52, 51, 26, 1, 61, 52, 36, 1, 55, 26, 1, 59, 1, 47, 1, 61, 1, 52, 1, 51, 1, 33, 1, 58, 52, 54, 44, 1, 55, 56, 1, 50, 40, 1, 51, 1, 57, 40, 38, 19, 1, 37, 1, 57, 1, 50, 1, 26, 1, 20, 1, 27, 1, 7, 1, 36, 1, 38, 1, 50, 53, 53, 50, 47, 31, 1, 59, 31, 1, 21, 1, 43, 1, 19, 1, 36, 1, 19, 1, 50, 1, 26, 1, 37, 1, 40, 1, 26, 1, 48, 1, 38, 1, 51, 1, 53, 1, 60, 43, 1, 58, 1, 53, 1, 50, 22, 1, 59, 49, 61, 1, 27, 1, 23, 1, 23, 1, 11, 1, 41, 48, 51, 22, 1, 11, 1, 21, 1, 66, 1, 48, 18, 1, 57, 53, 29, 1, 46, 1, 29, 1, 48, 43, 52, 43, 39, 31, 1, 29, 1, 55, 43, 51, 41, 54, 1, 53, 50, 1, 46, 48, 27, 1, 23, 42, 1, 18, 53, 1, 48, 1, 51, 36, 46, 43, 55, 48, 32, 1, 28, 46, 1, 43, 43, 49, 1, 25, 1, 60, 1, 57, 14, 1, 55, 44, 44, 41, 1, 38, 1, 24, 50, 1, 55, 52, 27, 1, 51, 44, 42, 39, 1, 57, 52, 16, 1, 51, 41, 1, 38, 1, 56, 50, 41, 1, 59, 40, 43, 1, 57, 1, 58, 41, 28, 1, 32, 27, 1, 27, 48, 1, 56, 1, 50, 48, 45, 46, 25, 1, 55, 48, 51, 49, 37, 49, 45, 40, 49, 44, 49, 37, 41, 39, 45, 42, 49, 42, 43, 42, 45, 40, 36, 44, 48, 45, 39, 46, 1, 52, 1, 63, 1, 54, 18, 1, 48, 47, 46, 41, 47, 40, 51, 41, 49, 44, 40, 43, 48, 44, 42, 50, 44, 49, 1, 47, 40, 45, 53, 45, 44, 23, 1, 27, 46, 38, 25, 1, 25, 1, 45, 42, 45, 45, 42, 47, 45, 1, 37, 1, 59, 1, 29, 1, 48, 14, 1, 42, 1, 40, 1, 60, 31, 1, 48, 1, 54, 1, 51, 16, 1, 68, 1, 54, 30, 1, 49, 1, 59, 52, 47, 54, 51, 53, 55, 27, 1, 64, 1, 56, 53, 53, 48, 33, 1, 56, 1, 56, 1, 43, 1, 56, 22, 1, 33, 1, 59, 51, 53, 53, 52, 52, 1, 57, 1, 59, 50, 46, 1, 8, 1, 60, 52, 49, 51, 49, 48, 60, 1, 18, 1, 59, 35, 1, 58, 48, 40, 1, 16, 1, 18, 1, 55, 55, 51, 47, 52, 49, 47, 50, 1, 55, 1, 57, 53, 50, 55, 50, 60, 1, 8, 1, 58, 29, 1, 20, 1, 49, 1, 41, 1, 56, 21, 1, 34, 1, 45, 45, 1, 53, 41, 1, 60, 17, 1, 68, 38, 41, 40, 48, 41, 47, 24, 1, 51, 41, 44, 48, 43, 46, 42, 1, 53, 1, 49, 40, 45, 1, 65, 45, 44, 50, 1, 10, 1, 27, 1, 7, 1, 35, 1, 26, 1, 48, 1, 57, 52, 50, 33, 1, 58, 16, 1, 57, 1, 24, 1, 58, 53, 23, 1, 18, 1, 39, 1, 59, 16, 1, 62, 57, 1, 52, 29, 1, 29, 1, 53, 48, 54, 53, 37, 1, 32, 1, 58, 52, 18, 1, 58, 1, 52, 53, 48, 48, 1, 47, 39, 39, 41, 55, 43, 54, 43, 43, 30, 1, 29, 1, 59, 50, 42, 28, 1, 30, 1, 51, 30, 1, 44, 1, 31, 1, 19, 1, 17, 1, 15, 1, 10, 1, 27, 1, 7, 1, 34, 1, 27, 1, 57, 1, 51, 1, 44, 1, 42, 1, 66, 1, 54, 36, 1, 52, 52, 49, 50, 38, 1, 18, 1, 56, 1, 39, 1, 14, 1, 53, 30, 1, 54, 1, 17, 1, 32, 1, 29, 1, 54, 43, 45, 21, 1, 59, 51, 54, 57, 1, 67, 1, 62, 14, 1, 58, 53, 48, 30, 1, 50, 1, 52, 51, 54, 51, 50, 51, 54, 55, 1, 8, 1, 32, 1, 20, 1, 35, 1, 51, 46, 1, 16, 1, 49, 49, 38, 31, 1, 31, 43, 48, 38, 38, 43, 50, 43, 45, 43, 41, 45, 47, 1, 19, 1, 44, 29, 1, 31, 43, 1, 37, 1, 22, 43, 47, 28, 1, 21, 45, 1, 31, 1, 34, 1, 44, 42, 51, 31, 1, 29, 1, 55, 45, 12, 45, 1, 53, 1, 53, 1, 52, 1, 15, 1, 46, 47, 27, 1, 27, 1, 10, 1, 27, 1, 8, 1, 37, 1, 49, 46, 1, 52, 38, 48, 25, 1, 34, 43, 17, 1, 48, 44, 32, 1, 26, 42, 39, 43, 43, 44, 40, 24, 1, 25, 1, 52, 45, 23, 1, 28, 42, 50, 46, 25, 1, 20, 1, 27, 1, 8, 1, 40, 1, 28, 1, 59, 35, 1, 53, 17, 1, 41, 1, 57, 49, 53, 44, 1, 63, 1, 20, 1, 56, 52, 50, 54, 51, 1, 28, 1, 32, 1, 8, 1, 62, 50, 50, 48, 52, 52, 31, 17, 43, 39, 38, 42, 29, 1, 18, 1, 55, 29, 1, 29, 1, 51, 51, 19, 1, 34, 1, 58, 52, 49, 51, 29, 1, 8, 1, 35, 1, 38, 1, 46, 1, 32, 1, 51, 46, 47, 51, 1, 65, 45, 44, 24, 1, 54, 1, 9, 1, 51, 52, 47, 50, 30, 1, 45, 1, 27, 52, 1, 47, 46, 45, 41, 52, 1, 28, 1, 39, 1, 60, 43, 31, 1, 29, 1, 60, 1, 62, 14, 1, 48, 1, 18, 1, 68, 30, 1, 51, 47, 39, 44, 49, 1, 48, 30, 1, 31, 1, 38, 1, 56, 39, 22, 1, 35, 41, 31, 1, 36, 42, 42, 49, 24, 1, 38, 41, 1, 50, 21, 1, 33, 1, 56, 42, 50, 45, 45, 42, 38, 53, 45, 44, 43, 49, 49, 41, 40, 41, 44, 42, 37, 48, 41, 51, 42, 38, 44, 46, 39, 41, 43, 48, 49, 1, 8, 1, 27, 1, 8, 1, 46, 1, 49, 41, 1, 48, 51, 29, 1, 19, 45, 46, 32, 1, 25, 44, 29, 1, 23, 41, 49, 37, 1, 10, 1, 27, 1, 8, 1, 40, 1, 30, 1, 53, 50, 40, 1, 16, 1, 43, 40, 44, 45, 50, 44, 47, 40, 39, 40, 50, 49, 43, 41, 1, 57, 45, 47, 41, 32, 1, 26, 40, 52, 28, 1, 26, 48, 50, 49, 45, 39, 41, 50, 48, 41, 44, 42, 45, 45, 44, 46, 41, 51, 1, 10, 1, 27, 1, 8, 1, 56, 1, 51, 35, 1, 54, 27, 1, 66, 1, 54, 51, 17, 1, 10, 1, 51, 44, 1, 61, 50, 52, 34, 1, 59, 31, 1, 53, 51, 52, 54, 53, 47, 49, 54, 54, 52, 52, 51, 27, 1, 37, 1, 17, 1, 42, 1, 52, 47, 61, 1, 33, 47, 1, 49, 1, 24, 1, 23, 1, 16, 1, 31, 34, 30, 47, 45, 21, 1, 23, 1, 39, 1, 53, 1, 38, 1, 17, 1, 47, 31, 1, 29, 1, 48, 1, 53, 22, 1, 25, 48, 48, 41, 1, 52, 1, 49, 30, 1, 24, 1, 25, 1, 48, 40, 45, 46, 33, 28, 1, 23, 40, 22, 1, 52, 54, 32, 1, 24, 39, 26, 1, 22, 45, 38, 46, 23, 1, 30, 1, 25, 1, 20, 1, 47, 1, 41, 16, 1, 49, 1, 10, 50, 48, 55, 1, 24, 1, 57, 50, 34, 1, 20, 1, 59, 1, 42, 1, 30, 1, 65, 1, 23, 1, 47, 1, 38, 1, 57, 45, 52, 22, 1, 27, 44, 50, 47, 44, 18, 1, 53, 1, 10, 1, 27, 1, 8, 1, 31, 1, 42, 1, 62, 6, 1, 63, 23, 1, 43, 1, 50, 1, 63, 47, 54, 52, 47, 16, 1, 63, 49, 54, 1, 61, 1, 59, 52, 1, 58, 51, 53, 52, 54, 53, 51, 54, 52, 54, 49, 33, 1, 64, 45, 54, 49, 41, 50, 16, 1, 18, 1, 61, 52, 27, 1, 59, 14, 1, 51, 1, 58, 53, 57, 1, 59, 47, 50, 19, 1, 58, 54, 22, 1, 39, 1, 37, 1, 54, 52, 50, 14, 1, 59, 48, 53, 52, 48, 52, 44, 48, 13, 1, 56, 1, 44, 1, 58, 46, 51, 47, 1, 67, 1, 59, 20, 1, 59, 53, 1, 32, 1, 8, 1, 59, 52, 54, 50, 22, 1, 62, 55, 52, 49, 1, 57, 54, 1, 64, 50, 50, 61, 1, 62, 49, 52, 52, 13, 1, 57, 1, 48, 1, 55, 1, 8, 1, 55, 22, 1, 37, 1, 56, 49, 48, 43, 53, 22, 1, 39, 1, 10, 1, 27, 1, 8, 1, 39, 1, 26, 1, 45, 44, 43, 1, 51, 43, 37, 22, 1, 29, 51, 46, 47, 45, 22, 1, 28, 49, 26, 1, 32, 45, 37, 57, 47, 49, 47, 42, 46, 43, 45, 52, 44, 46, 25, 1, 16, 29, 1, 47, 47, 47, 40, 43, 46, 28, 1, 22, 46, 48, 42, 45, 43, 46, 26, 1, 25, 44, 36, 37, 44, 21, 1, 10, 1, 27, 1, 7, 1, 37, 1, 51, 21, 1, 63, 46, 49, 48, 50, 34, 1, 55, 1, 65, 1, 38, 1, 68, 1, 44, 1, 59, 51, 53, 52, 49, 47, 45, 53, 53, 50, 1, 18, 1, 57, 49, 49, 51, 51, 51, 50, 34, 1, 63, 16, 1, 56, 50, 53, 52, 50, 52, 45, 41, 48, 54, 1, 61, 13, 1, 60, 44, 1, 37, 1, 57, 12, 1, 28, 1, 57, 1, 26, 1, 65, 1, 22, 1, 24, 1, 66, 1, 62, 17, 1, 37, 1, 38, 1, 17, 1, 50, 1, 53, 1, 51, 1, 32, 1, 39, 1, 46, 48, 46, 47, 48, 1, 63, 51, 49, 1, 12, 1, 57, 1, 38, 1, 56, 48, 46, 29, 1, 25, 44, 51, 27, 1, 40, 1, 31, 1, 28, 34, 1, 54, 1, 58, 56, 28, 1, 32, 1, 50, 17, 1, 49, 1, 60, 1, 10, 1, 27, 1, 7, 1, 38, 1, 27, 1, 51, 1, 31, 1, 24, 46, 42, 45, 36, 45, 44, 42, 31, 1, 27, 1, 26, 1, 10, 40, 26, 1, 25, 43, 41, 51, 32, 1, 26, 49, 48, 32, 1, 26, 1, 52, 46, 41, 59, 46, 49, 47, 41, 52, 46, 25, 1, 30, 37, 40, 49, 40, 47, 41, 1, 49, 50, 1, 54, 21, 1, 29, 1, 47, 38, 46, 16, 1, 51, 39, 38, 46, 44, 43, 28, 1, 28, 48, 26, 1, 55, 43, 45, 44, 44, 53, 47, 42, 42, 41, 48, 45, 1, 53, 1, 8, 1, 55, 24, 42, 45, 47, 51, 49, 41, 40, 39, 1, 8, 1, 27, 1, 7, 1, 31, 1, 61, 1, 55, 1, 56, 51, 48, 1, 62, 41, 1, 56, 49, 52, 52, 1, 60, 14, 1, 58, 54, 54, 51, 35, 1, 62, 21, 1, 65, 43, 54, 53, 51, 1, 63, 50, 19, 1, 67, 1, 62, 54, 51, 23, 1, 62, 41, 1, 58, 1, 50, 1, 49, 1, 62, 38, 1, 62, 17, 1, 63, 13, 1, 61, 53, 52, 54, 50, 54, 26, 1, 35, 1, 61, 48, 49, 52, 26, 1, 50, 1, 60, 45, 1, 60, 1, 69, 1, 64, 50, 52, 24, 1, 62, 50, 47, 53, 1, 21, 1, 31, 1, 60, 46, 47, 39, 1, 62, 34, 1, 61, 26, 1, 17, 1, 44, 1, 57, 52, 54, 53, 52, 53, 50, 28, 1, 59, 52, 16, 1, 57, 46, 50, 54, 39, 1, 62, 21, 1, 59, 47, 1, 64, 52, 50, 52, 52, 50, 47, 1, 31, 1, 65, 50, 45, 1, 45, 1, 58, 17, 1, 41, 1, 59, 14, 1, 59, 46, 1, 31, 1, 35, 1, 63, 47, 1, 39, 1, 63, 40, 1, 49, 50, 53, 35, 1, 47, 1, 71, 1, 60, 1, 54, 53, 51, 53, 13, 1, 65, 51, 32, 1, 37, 1, 58, 56, 1, 45, 1, 56, 14, 1, 39, 1, 37, 1, 57, 29, 1, 65, 32, 1, 58, 47, 53, 51, 50, 54, 49, 54, 54, 55, 1, 35, 1, 62, 50, 1, 37, 1, 9, 1, 54, 53, 46, 54, 47, 52, 20, 1, 59, 41, 1, 47, 1, 60, 54, 51, 14, 1, 59, 53, 1, 68, 1, 46, 1, 58, 16, 1, 52, 1, 60, 52, 58, 1, 35, 1, 61, 52, 13, 1, 65, 1, 42, 1, 38, 1, 24, 1, 71, 1, 56, 49, 52, 54, 44, 1, 55, 1, 60, 54, 51, 48, 1, 35, 1, 78, 43, 55, 44, 42, 45, 51, 47, 42, 16, 1, 61, 16, 1, 59, 38, 1, 59, 19, 1, 67, 19, 1, 60, 48, 50, 64, 1, 65, 50, 54, 34, 1, 59, 47, 52, 51, 52, 51, 49, 51, 54, 49, 54, 44, 1, 41, 1, 58, 39, 1, 53, 1, 60, 51, 53, 54, 50, 53, 24, 1, 58, 21, 1, 40, 1, 65, 48, 1, 60, 54, 45, 32, 1, 60, 1, 39, 1, 25, 1, 57, 53, 51, 53, 54, 22, 1, 66, 17, 1, 60, 1, 68, 1, 57, 45, 54, 49, 51, 1, 61, 45, 51, 49, 50, 46, 1, 59, 1, 68, 1, 18, 1, 40, 1, 36, 1, 45, 1, 40, 1, 62, 18, 1, 63, 53, 53, 20, 1, 28, 1, 64, 21, 1, 44, 1, 67, 53, 53, 35, 1, 22, 1, 52, 49, 45, 41, 51, 45, 44, 49, 51, 46, 18, 1, 8, 1, 27, 1, 7, 1, 38, 1, 34, 1, 58, 44, 54, 43, 39, 42, 49, 40, 44, 42, 40, 49, 44, 30, 1, 20, 40, 33, 1, 26, 48, 47, 49, 38, 46, 49, 45, 45, 46, 41, 44, 25, 1, 28, 38, 27, 1, 24, 50, 50, 41, 45, 56, 45, 1, 10, 1, 27, 1, 7, 1, 39, 1, 36, 1, 59, 50, 54, 52, 53, 60, 1, 62, 48, 48, 54, 45, 1, 58, 52, 1, 53, 38, 1, 58, 1, 57, 17, 1, 60, 1, 65, 1, 24, 1, 60, 1, 50, 1, 67, 1, 63, 1, 23, 1, 18, 1, 54, 28, 1, 31, 1, 58, 38, 1, 27, 1, 50, 29, 1, 56, 50, 18, 1, 55, 52, 47, 53, 52, 48, 52, 49, 45, 1, 55, 51, 47, 32, 1, 55, 64, 1, 8, 1, 37, 1, 57, 53, 53, 49, 1, 58, 54, 51, 52, 51, 54, 52, 45, 48, 41, 1, 56, 19, 1, 58, 50, 49, 34, 1, 59, 46, 51, 34, 1, 54, 21, 1, 55, 1, 54, 28, 1, 18, 1, 57, 51, 53, 53, 41, 1, 58, 31, 1, 39, 1, 57, 31, 1, 55, 54, 23, 1, 10, 1, 27, 1, 6, 1, 30, 1, 43, 13, 1, 48, 48, 53, 42, 39, 43, 1, 21, 1, 44, 49, 1, 19, 1, 52, 1, 39, 1, 50, 47, 49, 41, 44, 28, 1, 28, 1, 31, 41, 46, 28, 1, 31, 1, 22, 1, 23, 49, 18, 1, 53, 1, 38, 46, 39, 1, 45, 21, 1, 30, 47, 41, 43, 46, 44, 31, 1, 32, 1, 55, 46, 18, 1, 10, 1, 27, 1, 6, 1, 47, 1, 40, 1, 56, 51, 48, 50, 47, 14, 1, 58, 47, 48, 26, 1, 59, 20, 1, 58, 51, 15, 1, 47, 1, 55, 50, 16, 1, 15, 1, 51, 53, 49, 49, 53, 51, 52, 16, 1, 8, 1, 55, 12, 1, 57, 49, 54, 53, 50, 53, 26, 1, 59, 1, 57, 17, 1, 45, 1, 54, 40, 1, 59, 1, 59, 1, 61, 27, 1, 58, 50, 46, 1, 18, 1, 52, 50, 53, 21, 1, 31, 1, 10, 1, 27, 1, 6, 1, 41, 1, 49, 32, 1, 44, 43, 43, 22, 1, 30, 39, 48, 51, 28, 1, 23, 36, 45, 32, 1, 23, 43, 45, 40, 43, 38, 53, 52, 25, 1, 27, 52, 50, 45, 42, 37, 47, 41, 29, 1, 29, 1, 8, 1, 52, 1, 54, 1, 56, 28, 1, 17, 1, 26, 1, 31, 42, 43, 50, 25, 1, 33, 31, 1, 19, 41, 44, 45, 42, 45, 28, 1, 39, 42, 43, 44, 48, 46, 48, 40, 42, 48, 48, 30, 1, 19, 52, 53, 42, 43, 52, 47, 45, 44, 47, 47, 49, 50, 49, 48, 43, 1, 60, 44, 1, 47, 42, 43, 28, 1, 24, 1, 24, 49, 44, 41, 24, 1, 25, 1, 49, 46, 48, 40, 41, 51, 5, 32, 1, 31, 39, 26, 1, 26, 46, 21, 1, 35, 1, 53, 47, 46, 50, 44, 44, 45, 42, 39, 25, 1, 21, 48, 43, 54, 40, 45, 51, 54, 46, 40, 42, 26, 1, 26, 1, 54, 46, 49, 51, 49, 46, 43, 44, 1, 24, 1, 47, 38, 49, 33, 1, 27, 44, 45, 26, 1, 17, 1, 39, 1, 21, 1, 30, 49, 38, 46, 39, 49, 43, 46, 44, 41, 29, 1, 54, 51, 52, 54, 52, 48, 48, 40, 35, 1, 57, 25, 1, 50, 52, 40, 38, 22, 1, 36, 1, 29, 1, 52, 51, 26, 1, 25, 1, 24, 1, 44, 35, 40, 45, 1, 49, 44, 44, 1, 50, 1, 45, 50, 1, 49, 1, 37, 1, 26, 44, 50, 44, 36, 43, 22, 1, 59, 25, 1, 56, 54, 43, 46, 1, 55, 53, 29, 1, 20, 41, 26, 1, 30, 1, 33, 40, 1, 47, 44, 42, 38, 39, 39, 14, 1, 52, 39, 46, 47, 32, 1, 24, 45, 1, 46, 44, 1, 42, 1, 37, 1, 21, 1, 21, 42, 53, 44, 44, 28, 1, 34, 1, 52, 45, 45, 42, 38, 42, 46, 43, 41, 30, 1, 25, 50, 37, 47, 44, 25, 1, 23, 1, 38, 1, 21, 28, 1, 52, 1, 46, 1, 49, 20, 1, 48, 1, 18, 1, 49, 1, 51, 31, 1, 19, 1, 54, 45, 46, 46, 1, 56, 50, 23, 1, 57, 1, 47, 1, 22, 1, 61, 1, 18, 1, 47, 1, 48, 30, 1, 57, 1, 55, 1, 43, 1, 45, 1, 47, 1, 61, 50, 52, 51, 50, 51, 51, 54, 20, 1, 57, 48, 34, 32, 1, 24, 1, 47, 1, 49, 1, 22, 1, 52, 1, 34, 1, 22, 1, 49, 28, 1, 27, 1, 56, 21, 1, 51, 1, 51, 1, 43, 40, 52, 30, 1, 27, 1, 20, 1, 52, 1, 44, 1, 46, 1, 53, 1, 49, 46, 43, 43, 48, 1, 50, 1, 51, 1, 14, 1, 46, 44, 42, 49, 42, 46, 51, 49, 29, 1, 31, 1, 26, 41, 23, 1, 25, 40, 29, 1, 31, 1, 50, 48, 50, 44, 46, 43, 1, 57, 42, 1, 48, 41, 40, 1, 49, 1, 15, 1, 43, 59, 49, 1, 49, 42, 1, 12, 1, 45, 50, 40, 46, 45, 40, 44, 45, 1, 12, 1, 27, 1, 10, 1, 48, 41, 46, 47, 50, 49, 1, 9]\n"
          ],
          "name": "stdout"
        },
        {
          "output_type": "display_data",
          "data": {
            "image/png": "[encoded data removed]",
            "text/plain": [
              "<Figure size 432x288 with 1 Axes>"
            ]
          },
          "metadata": {
            "tags": []
          }
        }
      ]
    },
    {
      "cell_type": "markdown",
      "metadata": {
        "id": "5IrsRUA5bh1f",
        "colab_type": "text"
      },
      "source": [
        " # Word counts with bag of words\n",
        "\n",
        " - Steps:\n",
        " - tokens[tokenization]\n",
        " - most frequent words\n",
        " - significant words"
      ]
    },
    {
      "cell_type": "code",
      "metadata": {
        "id": "BMvndX-bbboC",
        "colab_type": "code",
        "colab": {
          "base_uri": "https://localhost:8080/",
          "height": 185
        },
        "outputId": "1927193f-3e04-4676-e0dd-fe0006a099e3"
      },
      "source": [
        "from nltk.tokenize import word_tokenize\n",
        "from collections import Counter\n",
        "counter = Counter(word_tokenize('''The cat is in the box. The cat likes the box.The box is over the cat'''))\n",
        "counter\n",
        "counter.most_common()"
      ],
      "execution_count": 127,
      "outputs": [
        {
          "output_type": "execute_result",
          "data": {
            "text/plain": [
              "[('cat', 3),\n",
              " ('the', 3),\n",
              " ('The', 2),\n",
              " ('is', 2),\n",
              " ('box', 2),\n",
              " ('in', 1),\n",
              " ('.', 1),\n",
              " ('likes', 1),\n",
              " ('box.The', 1),\n",
              " ('over', 1)]"
            ]
          },
          "metadata": {
            "tags": []
          },
          "execution_count": 127
        }
      ]
    },
    {
      "cell_type": "code",
      "metadata": {
        "id": "Y7KMdVw_fcS9",
        "colab_type": "code",
        "colab": {}
      },
      "source": [
        "\n",
        "# # counter = Counter(word_tokenize('''The cat is in the box. The cat likes the box.The box is over the cat'''))\n",
        "# counter = Counter(word_tokenize(words_lenght))\n",
        "# counter.most_common()"
      ],
      "execution_count": 0,
      "outputs": []
    },
    {
      "cell_type": "code",
      "metadata": {
        "id": "EpI_KfLlgWru",
        "colab_type": "code",
        "colab": {
          "base_uri": "https://localhost:8080/",
          "height": 282
        },
        "outputId": "89311c2f-59bb-4a6c-807d-b90368a2a4f6"
      },
      "source": [
        "with open('/content/shakespeare-alls-11.txt','r') as f:\n",
        "    file = f.readline()\n",
        "\n",
        "from nltk.tokenize import word_tokenize\n",
        "from collections import Counter\n",
        "print(sh_count.most_common())\n",
        "#most common words\n",
        "sh_count = Counter(word_tokenize(file))\n",
        "sh_lenght = [len(w) for w in sh_count]\n",
        "plt.hist(sh_lenght)\n",
        "plt.show()"
      ],
      "execution_count": 156,
      "outputs": [
        {
          "output_type": "stream",
          "text": [
            "[('WELL', 2), ('ALL', 1), (\"'S\", 1), ('THAT', 1), ('ENDS', 1)]\n"
          ],
          "name": "stdout"
        },
        {
          "output_type": "display_data",
          "data": {
            "image/png": "[encoded data removed]",
            "text/plain": [
              "<Figure size 432x288 with 1 Axes>"
            ]
          },
          "metadata": {
            "tags": []
          }
        }
      ]
    },
    {
      "cell_type": "code",
      "metadata": {
        "id": "sxDqLirqzDC7",
        "colab_type": "code",
        "colab": {
          "base_uri": "https://localhost:8080/",
          "height": 54
        },
        "outputId": "8a432da1-7584-471a-8853-bbf82ad0411a"
      },
      "source": [
        "# Building a converter with bag-of-words and identify the topic\n",
        "article = open('/content/shakespeare-alls-11.txt','r').read()\n",
        "from collections import Counter\n",
        "tokens = word_tokenize(article) \n",
        "lower_tokens = [t.lower() for t in tokens]\n",
        "bow_simple = Counter(lower_tokens)\n",
        "print(bow_simple.most_common(15))"
      ],
      "execution_count": 159,
      "outputs": [
        {
          "output_type": "stream",
          "text": [
            "[(',', 2097), ('.', 1067), ('i', 764), ('the', 734), ('and', 622), ('to', 523), (';', 493), ('you', 490), ('of', 467), ('a', 457), (':', 440), ('my', 379), ('that', 368), ('is', 317), ('in', 304)]\n"
          ],
          "name": "stdout"
        }
      ]
    },
    {
      "cell_type": "markdown",
      "metadata": {
        "id": "mKORdFN83nF1",
        "colab_type": "text"
      },
      "source": [
        "# Text pre-processing \n",
        "1. Any NLP program need below minimum text pre-process\n",
        " - a. tokenization to create bag of words\n",
        " - b. lowercasting words\n",
        " - c. Removeing the stop words,puncations,or unwanted tokens"
      ]
    },
    {
      "cell_type": "code",
      "metadata": {
        "id": "epy1kdBO3E0V",
        "colab_type": "code",
        "colab": {
          "base_uri": "https://localhost:8080/",
          "height": 34
        },
        "outputId": "d0578e67-55f1-4e6f-db54-513a7e31cf6e"
      },
      "source": [
        "# import nltk\n",
        "# nltk.download('stopwords')\n",
        "\n",
        "from nltk.corpus import stopwords\n",
        "from nltk.tokenize import word_tokenize\n",
        "from nltk.tokenize import sent_tokenize\n",
        "\n",
        "text = 'The cat is in the box. The cat like the box. The box is over the cat'\n",
        "tokens = [w for w in word_tokenize(text.lower()) if w.isalpha()]\n",
        "no_stops = [t for t in tokens if t not in stopwords.words('english')]\n",
        "tokens\n",
        "no_stops\n",
        "Counter(no_stops).most_common(4)"
      ],
      "execution_count": 166,
      "outputs": [
        {
          "output_type": "execute_result",
          "data": {
            "text/plain": [
              "[('cat', 3), ('box', 3), ('like', 1)]"
            ]
          },
          "metadata": {
            "tags": []
          },
          "execution_count": 166
        }
      ]
    },
    {
      "cell_type": "markdown",
      "metadata": {
        "id": "0OKgkIR77tID",
        "colab_type": "text"
      },
      "source": [
        "# Text pre-processing "
      ]
    },
    {
      "cell_type": "code",
      "metadata": {
        "id": "3sna0I7152Au",
        "colab_type": "code",
        "colab": {
          "base_uri": "https://localhost:8080/",
          "height": 67
        },
        "outputId": "cf214b45-6cf5-40b3-d606-258eaf370dbb"
      },
      "source": [
        "import nltk\n",
        "nltk.download('wordnet')\n",
        "from nltk.stem import WordNetLemmatizer\n",
        "# Retain alphabetic words : alpha only\n",
        "alpha_only = [t for t in tokens if t.isalpha()]\n",
        "alpha_only\n",
        "# remove all stop words\n",
        "no_stop = [t for t in alpha_only if t not in stopwords.words('english')]\n",
        "# Instantiate the wordlemmatizer\n",
        "wordnet_lemmatizer = WordNetLemmatizer()\n",
        "# lemmatize all tokens into a new list \n",
        "lemmatized = [wordnet_lemmatizer.lemmatize(t) for t in no_stops]\n",
        "# Crate the bag-of-words: bow\n",
        "bow = Counter(lemmatized)\n",
        "# print the 10 most common words \n",
        "print(bow.most_common(10))"
      ],
      "execution_count": 173,
      "outputs": [
        {
          "output_type": "stream",
          "text": [
            "[nltk_data] Downloading package wordnet to /root/nltk_data...\n",
            "[nltk_data]   Package wordnet is already up-to-date!\n",
            "[('cat', 3), ('box', 3), ('like', 1)]\n"
          ],
          "name": "stdout"
        }
      ]
    },
    {
      "cell_type": "code",
      "metadata": {
        "id": "z6fjYjcv8Uyy",
        "colab_type": "code",
        "colab": {}
      },
      "source": [
        ""
      ],
      "execution_count": 0,
      "outputs": []
    }
  ]
}