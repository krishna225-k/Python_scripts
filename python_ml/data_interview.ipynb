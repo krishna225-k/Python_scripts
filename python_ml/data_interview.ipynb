{
 "cells": [
  {
   "cell_type": "markdown",
   "metadata": {},
   "source": [
    "Big O notation\n",
    "==============\n",
    "Procedure or formula for solving a problem\n",
    "some are so useful they have name\n",
    ". How we can compare the algos to know which is better\n",
    "\n",
    "# Here some othre example require the Debug mode reuquired os \n",
    "# rest the some othre example shown in the "
   ]
  },
  {
   "cell_type": "code",
   "execution_count": null,
   "metadata": {},
   "outputs": [],
   "source": [
    "#Imagine i came with this function\n",
    "def sum1(n):\n",
    "    ''' take an input of n and return the sum of the number 0 to n'''\n",
    "    final_sum = 0\n",
    "    \n",
    "    for x in range(n + 1):\n",
    "        final_sum += x\n",
    "    return final_sum"
   ]
  },
  {
   "cell_type": "code",
   "execution_count": 4,
   "metadata": {},
   "outputs": [
    {
     "data": {
      "text/plain": [
       "15"
      ]
     },
     "execution_count": 4,
     "metadata": {},
     "output_type": "execute_result"
    }
   ],
   "source": [
    "sum1(5)"
   ]
  },
  {
   "cell_type": "code",
   "execution_count": 5,
   "metadata": {},
   "outputs": [
    {
     "data": {
      "text/plain": [
       "15.0"
      ]
     },
     "execution_count": 5,
     "metadata": {},
     "output_type": "execute_result"
    }
   ],
   "source": [
    "def sum2(n):\n",
    "    return (n*(n+1)/2)\n",
    "sum2(5)"
   ]
  },
  {
   "cell_type": "markdown",
   "metadata": {},
   "source": [
    "sum1 is used to for loop for iterate +1 find sum of n number\n",
    "\n",
    "sum2 is used to find sum of the n numbers\n",
    "\n",
    "## Objtively compare them\n",
    "\n",
    "- memory space\n",
    "- time to run"
   ]
  },
  {
   "cell_type": "code",
   "execution_count": 6,
   "metadata": {},
   "outputs": [
    {
     "name": "stdout",
     "output_type": "stream",
     "text": [
      "8.83 µs ± 372 ns per loop (mean ± std. dev. of 7 runs, 100000 loops each)\n"
     ]
    }
   ],
   "source": [
    "#built in magic command in notebook\n",
    "#result in microseconds\n",
    "%timeit sum1(100)"
   ]
  },
  {
   "cell_type": "code",
   "execution_count": 9,
   "metadata": {},
   "outputs": [
    {
     "name": "stdout",
     "output_type": "stream",
     "text": [
      "312 ns ± 30.3 ns per loop (mean ± std. dev. of 7 runs, 1000000 loops each)\n"
     ]
    }
   ],
   "source": [
    "%timeit sum2(100)\n",
    "#order in nanoseconds per loop\n",
    "# but same result having less time run the program\n",
    "# for loops slowr"
   ]
  },
  {
   "cell_type": "markdown",
   "metadata": {},
   "source": [
    "- cannot simply rely on time to run beacuse all computers are differenet and some faster than others\n",
    "- to be hardware independent = Big O\n",
    "\n",
    "- objectly compare the effiency of these two algorithm makes\n",
    "\n",
    "The original sum1 function will create an assingment n + 1 times, we can this from range based function. this means it wil assing the fjinal sum variable n + 1 times .we can then say that for a problem of n size (in this just number n) \n",
    "\n",
    "- BIg -O notation describe how quickly runtime will grow relative to the input as the get input relatively large"
   ]
  },
  {
   "cell_type": "code",
   "execution_count": 13,
   "metadata": {},
   "outputs": [
    {
     "data": {
      "text/plain": [
       "84"
      ]
     },
     "execution_count": 13,
     "metadata": {},
     "output_type": "execute_result"
    }
   ],
   "source": [
    "def BIgo(n):\n",
    "    return 45 * n**3 + 20 * n **2 + 19\n",
    "BIgo(1)"
   ]
  },
  {
   "cell_type": "code",
   "execution_count": 15,
   "metadata": {},
   "outputs": [
    {
     "data": {
      "text/plain": [
       "459"
      ]
     },
     "execution_count": 15,
     "metadata": {},
     "output_type": "execute_result"
    }
   ],
   "source": [
    "BIgo(2)\n",
    "# In above function from starting see that 19 will scaling or limiting factor"
   ]
  },
  {
   "cell_type": "markdown",
   "metadata": {},
   "source": [
    "- 20 * n ^ 2 ---> 2000\n",
    "- 45 * n ^ 3 ------> 45000"
   ]
  },
  {
   "cell_type": "code",
   "execution_count": 16,
   "metadata": {},
   "outputs": [
    {
     "data": {
      "text/plain": [
       "47019"
      ]
     },
     "execution_count": 16,
     "metadata": {},
     "output_type": "execute_result"
    }
   ],
   "source": [
    "BIgo(10)\n"
   ]
  },
  {
   "cell_type": "code",
   "execution_count": null,
   "metadata": {},
   "outputs": [],
   "source": []
  },
  {
   "cell_type": "code",
   "execution_count": null,
   "metadata": {},
   "outputs": [],
   "source": []
  },
  {
   "cell_type": "code",
   "execution_count": null,
   "metadata": {},
   "outputs": [],
   "source": []
  }
 ],
 "metadata": {
  "kernelspec": {
   "display_name": "Python 3",
   "language": "python",
   "name": "python3"
  },
  "language_info": {
   "codemirror_mode": {
    "name": "ipython",
    "version": 3
   },
   "file_extension": ".py",
   "mimetype": "text/x-python",
   "name": "python",
   "nbconvert_exporter": "python",
   "pygments_lexer": "ipython3",
   "version": "3.7.1"
  }
 },
 "nbformat": 4,
 "nbformat_minor": 2
}
