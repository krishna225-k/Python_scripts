{
  "nbformat": 4,
  "nbformat_minor": 0,
  "metadata": {
    "colab": {
      "name": "ANN_redhat.ipynb",
      "provenance": [],
      "collapsed_sections": [],
      "machine_shape": "hm"
    },
    "kernelspec": {
      "name": "python3",
      "display_name": "Python 3"
    }
  },
  "cells": [
    {
      "cell_type": "code",
      "metadata": {
        "id": "D71NbG6LC2QF",
        "colab_type": "code",
        "outputId": "f13f3242-398e-47ce-cffc-5480a265481f",
        "colab": {
          "base_uri": "https://localhost:8080/",
          "height": 68
        }
      },
      "source": [
        "# this practice inspired from the deep learning with keras book\n",
        "import pandas as pd\n",
        "import numpy as np\n",
        "df = pd.read_csv('./act_train1.csv',low_memory=False)\n",
        "people = pd.read_csv('./people.csv')\n",
        "\n",
        "import pandas as pd\n",
        "# df = pd.read_csv('c:/Users/Hari/Desktop/datasets/predicting-red-hat-business-value/act_train1.csv')\n",
        "# people = pd.read_csv('c:/Users/Hari/Desktop/datasets/predicting-red-hat-business-value/people.csv')\n",
        "\n",
        "print('act_train shape: ',df.shape)\n",
        "print('act_train shape: ',people.shape)\n",
        "pd.__version__"
      ],
      "execution_count": 0,
      "outputs": [
        {
          "output_type": "stream",
          "text": [
            "act_train shape:  (1358679, 15)\n",
            "act_train shape:  (189118, 41)\n"
          ],
          "name": "stdout"
        },
        {
          "output_type": "execute_result",
          "data": {
            "text/plain": [
              "'0.25.3'"
            ]
          },
          "metadata": {
            "tags": []
          },
          "execution_count": 323
        }
      ]
    },
    {
      "cell_type": "code",
      "metadata": {
        "id": "r6bH8gpSojvw",
        "colab_type": "code",
        "outputId": "2e166ba8-d709-4bc8-ced0-80855ec0ceca",
        "colab": {
          "base_uri": "https://localhost:8080/",
          "height": 119
        }
      },
      "source": [
        "people.columns[people.dtypes == 'bool']"
      ],
      "execution_count": 0,
      "outputs": [
        {
          "output_type": "execute_result",
          "data": {
            "text/plain": [
              "Index(['char_10', 'char_11', 'char_12', 'char_13', 'char_14', 'char_15',\n",
              "       'char_16', 'char_17', 'char_18', 'char_19', 'char_20', 'char_21',\n",
              "       'char_22', 'char_23', 'char_24', 'char_25', 'char_26', 'char_27',\n",
              "       'char_28', 'char_29', 'char_30', 'char_31', 'char_32', 'char_33',\n",
              "       'char_34', 'char_35', 'char_36', 'char_37'],\n",
              "      dtype='object')"
            ]
          },
          "metadata": {
            "tags": []
          },
          "execution_count": 324
        }
      ]
    },
    {
      "cell_type": "code",
      "metadata": {
        "id": "BGEd3ZeaDFlW",
        "colab_type": "code",
        "outputId": "f97dad04-0c7b-4aa5-e07b-359af6c3ecd4",
        "colab": {
          "base_uri": "https://localhost:8080/",
          "height": 153
        }
      },
      "source": [
        "df.columns\n",
        "people.columns"
      ],
      "execution_count": 0,
      "outputs": [
        {
          "output_type": "execute_result",
          "data": {
            "text/plain": [
              "Index(['people_id', 'char_1', 'group_1', 'char_2', 'date', 'char_3', 'char_4',\n",
              "       'char_5', 'char_6', 'char_7', 'char_8', 'char_9', 'char_10', 'char_11',\n",
              "       'char_12', 'char_13', 'char_14', 'char_15', 'char_16', 'char_17',\n",
              "       'char_18', 'char_19', 'char_20', 'char_21', 'char_22', 'char_23',\n",
              "       'char_24', 'char_25', 'char_26', 'char_27', 'char_28', 'char_29',\n",
              "       'char_30', 'char_31', 'char_32', 'char_33', 'char_34', 'char_35',\n",
              "       'char_36', 'char_37', 'char_38'],\n",
              "      dtype='object')"
            ]
          },
          "metadata": {
            "tags": []
          },
          "execution_count": 325
        }
      ]
    },
    {
      "cell_type": "code",
      "metadata": {
        "id": "ipYLFR3LDVeA",
        "colab_type": "code",
        "outputId": "ebcaa3f3-0c34-4e76-d4a8-61f304048ffa",
        "colab": {
          "base_uri": "https://localhost:8080/",
          "height": 289
        }
      },
      "source": [
        "df.isnull().sum() / df.shape[0] * 100"
      ],
      "execution_count": 0,
      "outputs": [
        {
          "output_type": "execute_result",
          "data": {
            "text/plain": [
              "people_id             0.000000\n",
              "activity_id           0.000000\n",
              "date                  0.000000\n",
              "activity_category     0.000074\n",
              "char_1               92.692166\n",
              "char_2               92.692166\n",
              "char_3               92.692166\n",
              "char_4               92.692166\n",
              "char_5               92.692166\n",
              "char_6               92.692166\n",
              "char_7               92.692166\n",
              "char_8               92.692166\n",
              "char_9               92.692166\n",
              "char_10               7.307907\n",
              "outcome               0.000074\n",
              "dtype: float64"
            ]
          },
          "metadata": {
            "tags": []
          },
          "execution_count": 326
        }
      ]
    },
    {
      "cell_type": "code",
      "metadata": {
        "id": "2TNxI93DDYFF",
        "colab_type": "code",
        "outputId": "31d885dd-0659-4cfd-db6e-4047be9975d9",
        "colab": {
          "base_uri": "https://localhost:8080/",
          "height": 731
        }
      },
      "source": [
        "people.isnull().sum() / people.shape[0] * 100"
      ],
      "execution_count": 0,
      "outputs": [
        {
          "output_type": "execute_result",
          "data": {
            "text/plain": [
              "people_id    0.0\n",
              "char_1       0.0\n",
              "group_1      0.0\n",
              "char_2       0.0\n",
              "date         0.0\n",
              "char_3       0.0\n",
              "char_4       0.0\n",
              "char_5       0.0\n",
              "char_6       0.0\n",
              "char_7       0.0\n",
              "char_8       0.0\n",
              "char_9       0.0\n",
              "char_10      0.0\n",
              "char_11      0.0\n",
              "char_12      0.0\n",
              "char_13      0.0\n",
              "char_14      0.0\n",
              "char_15      0.0\n",
              "char_16      0.0\n",
              "char_17      0.0\n",
              "char_18      0.0\n",
              "char_19      0.0\n",
              "char_20      0.0\n",
              "char_21      0.0\n",
              "char_22      0.0\n",
              "char_23      0.0\n",
              "char_24      0.0\n",
              "char_25      0.0\n",
              "char_26      0.0\n",
              "char_27      0.0\n",
              "char_28      0.0\n",
              "char_29      0.0\n",
              "char_30      0.0\n",
              "char_31      0.0\n",
              "char_32      0.0\n",
              "char_33      0.0\n",
              "char_34      0.0\n",
              "char_35      0.0\n",
              "char_36      0.0\n",
              "char_37      0.0\n",
              "char_38      0.0\n",
              "dtype: float64"
            ]
          },
          "metadata": {
            "tags": []
          },
          "execution_count": 327
        }
      ]
    },
    {
      "cell_type": "code",
      "metadata": {
        "id": "_CXk5dX_DaHR",
        "colab_type": "code",
        "outputId": "0f01ffa1-97dc-4657-e4dd-dcf6a2127970",
        "colab": {
          "base_uri": "https://localhost:8080/",
          "height": 85
        }
      },
      "source": [
        "df.columns[df.dtypes == 'object']"
      ],
      "execution_count": 0,
      "outputs": [
        {
          "output_type": "execute_result",
          "data": {
            "text/plain": [
              "Index(['people_id', 'activity_id', 'date', 'activity_category', 'char_1',\n",
              "       'char_2', 'char_3', 'char_4', 'char_5', 'char_6', 'char_7', 'char_8',\n",
              "       'char_9', 'char_10'],\n",
              "      dtype='object')"
            ]
          },
          "metadata": {
            "tags": []
          },
          "execution_count": 328
        }
      ]
    },
    {
      "cell_type": "code",
      "metadata": {
        "id": "VNGkbSefDcRv",
        "colab_type": "code",
        "outputId": "5255ea48-3110-4561-edfb-56b82dd35052",
        "colab": {
          "base_uri": "https://localhost:8080/",
          "height": 34
        }
      },
      "source": [
        "len(people.columns[people.dtypes == 'object'])"
      ],
      "execution_count": 0,
      "outputs": [
        {
          "output_type": "execute_result",
          "data": {
            "text/plain": [
              "12"
            ]
          },
          "metadata": {
            "tags": []
          },
          "execution_count": 329
        }
      ]
    },
    {
      "cell_type": "code",
      "metadata": {
        "id": "WPr0lseqDlcw",
        "colab_type": "code",
        "outputId": "05edbb92-af57-422b-8cc2-6ac54c8de1e4",
        "colab": {
          "base_uri": "https://localhost:8080/",
          "height": 799
        }
      },
      "source": [
        "people.info()"
      ],
      "execution_count": 0,
      "outputs": [
        {
          "output_type": "stream",
          "text": [
            "<class 'pandas.core.frame.DataFrame'>\n",
            "RangeIndex: 189118 entries, 0 to 189117\n",
            "Data columns (total 41 columns):\n",
            "people_id    189118 non-null object\n",
            "char_1       189118 non-null object\n",
            "group_1      189118 non-null object\n",
            "char_2       189118 non-null object\n",
            "date         189118 non-null object\n",
            "char_3       189118 non-null object\n",
            "char_4       189118 non-null object\n",
            "char_5       189118 non-null object\n",
            "char_6       189118 non-null object\n",
            "char_7       189118 non-null object\n",
            "char_8       189118 non-null object\n",
            "char_9       189118 non-null object\n",
            "char_10      189118 non-null bool\n",
            "char_11      189118 non-null bool\n",
            "char_12      189118 non-null bool\n",
            "char_13      189118 non-null bool\n",
            "char_14      189118 non-null bool\n",
            "char_15      189118 non-null bool\n",
            "char_16      189118 non-null bool\n",
            "char_17      189118 non-null bool\n",
            "char_18      189118 non-null bool\n",
            "char_19      189118 non-null bool\n",
            "char_20      189118 non-null bool\n",
            "char_21      189118 non-null bool\n",
            "char_22      189118 non-null bool\n",
            "char_23      189118 non-null bool\n",
            "char_24      189118 non-null bool\n",
            "char_25      189118 non-null bool\n",
            "char_26      189118 non-null bool\n",
            "char_27      189118 non-null bool\n",
            "char_28      189118 non-null bool\n",
            "char_29      189118 non-null bool\n",
            "char_30      189118 non-null bool\n",
            "char_31      189118 non-null bool\n",
            "char_32      189118 non-null bool\n",
            "char_33      189118 non-null bool\n",
            "char_34      189118 non-null bool\n",
            "char_35      189118 non-null bool\n",
            "char_36      189118 non-null bool\n",
            "char_37      189118 non-null bool\n",
            "char_38      189118 non-null int64\n",
            "dtypes: bool(28), int64(1), object(12)\n",
            "memory usage: 23.8+ MB\n"
          ],
          "name": "stdout"
        }
      ]
    },
    {
      "cell_type": "code",
      "metadata": {
        "id": "GdogWzSdDp1m",
        "colab_type": "code",
        "outputId": "1328748f-33c6-4885-dbd3-1d5b47cdbac5",
        "colab": {
          "base_uri": "https://localhost:8080/",
          "height": 357
        }
      },
      "source": [
        "df.info()"
      ],
      "execution_count": 0,
      "outputs": [
        {
          "output_type": "stream",
          "text": [
            "<class 'pandas.core.frame.DataFrame'>\n",
            "RangeIndex: 1358679 entries, 0 to 1358678\n",
            "Data columns (total 15 columns):\n",
            "people_id            1358679 non-null object\n",
            "activity_id          1358679 non-null object\n",
            "date                 1358679 non-null object\n",
            "activity_category    1358678 non-null object\n",
            "char_1               99290 non-null object\n",
            "char_2               99290 non-null object\n",
            "char_3               99290 non-null object\n",
            "char_4               99290 non-null object\n",
            "char_5               99290 non-null object\n",
            "char_6               99290 non-null object\n",
            "char_7               99290 non-null object\n",
            "char_8               99290 non-null object\n",
            "char_9               99290 non-null object\n",
            "char_10              1259388 non-null object\n",
            "outcome              1358678 non-null float64\n",
            "dtypes: float64(1), object(14)\n",
            "memory usage: 155.5+ MB\n"
          ],
          "name": "stdout"
        }
      ]
    },
    {
      "cell_type": "code",
      "metadata": {
        "id": "l35cPprqDsHM",
        "colab_type": "code",
        "outputId": "bdd1cfa0-9773-49a2-873a-ad6b92acd99a",
        "colab": {
          "base_uri": "https://localhost:8080/",
          "height": 34
        }
      },
      "source": [
        "len(df.columns[df.dtypes == 'object'])"
      ],
      "execution_count": 0,
      "outputs": [
        {
          "output_type": "execute_result",
          "data": {
            "text/plain": [
              "14"
            ]
          },
          "metadata": {
            "tags": []
          },
          "execution_count": 332
        }
      ]
    },
    {
      "cell_type": "code",
      "metadata": {
        "id": "6TbbMoaJDuCp",
        "colab_type": "code",
        "outputId": "60a6ec86-fc45-4b5b-ad5e-110ac8473941",
        "colab": {
          "base_uri": "https://localhost:8080/",
          "height": 85
        }
      },
      "source": [
        "df.columns[df.dtypes == 'object']"
      ],
      "execution_count": 0,
      "outputs": [
        {
          "output_type": "execute_result",
          "data": {
            "text/plain": [
              "Index(['people_id', 'activity_id', 'date', 'activity_category', 'char_1',\n",
              "       'char_2', 'char_3', 'char_4', 'char_5', 'char_6', 'char_7', 'char_8',\n",
              "       'char_9', 'char_10'],\n",
              "      dtype='object')"
            ]
          },
          "metadata": {
            "tags": []
          },
          "execution_count": 333
        }
      ]
    },
    {
      "cell_type": "code",
      "metadata": {
        "id": "XTej9OyJFS7s",
        "colab_type": "code",
        "outputId": "5a05ac21-dfda-4f1e-d9ef-666f291687e2",
        "colab": {
          "base_uri": "https://localhost:8080/",
          "height": 187
        }
      },
      "source": [
        "columns_to_remove = [\"char_\"+str(i) for i in range(0,10)]\n",
        "columns_to_remove"
      ],
      "execution_count": 0,
      "outputs": [
        {
          "output_type": "execute_result",
          "data": {
            "text/plain": [
              "['char_0',\n",
              " 'char_1',\n",
              " 'char_2',\n",
              " 'char_3',\n",
              " 'char_4',\n",
              " 'char_5',\n",
              " 'char_6',\n",
              " 'char_7',\n",
              " 'char_8',\n",
              " 'char_9']"
            ]
          },
          "metadata": {
            "tags": []
          },
          "execution_count": 334
        }
      ]
    },
    {
      "cell_type": "code",
      "metadata": {
        "id": "eZccSB3RFVtV",
        "colab_type": "code",
        "outputId": "8f1df03c-0aac-4af8-fe0a-02db3ba7a46c",
        "colab": {
          "base_uri": "https://localhost:8080/",
          "height": 204
        }
      },
      "source": [
        "df = df[list(set(df.columns) - set(columns_to_remove))]\n",
        "df.head()"
      ],
      "execution_count": 0,
      "outputs": [
        {
          "output_type": "execute_result",
          "data": {
            "text/html": [
              "<div>\n",
              "<style scoped>\n",
              "    .dataframe tbody tr th:only-of-type {\n",
              "        vertical-align: middle;\n",
              "    }\n",
              "\n",
              "    .dataframe tbody tr th {\n",
              "        vertical-align: top;\n",
              "    }\n",
              "\n",
              "    .dataframe thead th {\n",
              "        text-align: right;\n",
              "    }\n",
              "</style>\n",
              "<table border=\"1\" class=\"dataframe\">\n",
              "  <thead>\n",
              "    <tr style=\"text-align: right;\">\n",
              "      <th></th>\n",
              "      <th>people_id</th>\n",
              "      <th>date</th>\n",
              "      <th>activity_category</th>\n",
              "      <th>char_10</th>\n",
              "      <th>activity_id</th>\n",
              "      <th>outcome</th>\n",
              "    </tr>\n",
              "  </thead>\n",
              "  <tbody>\n",
              "    <tr>\n",
              "      <th>0</th>\n",
              "      <td>ppl_100</td>\n",
              "      <td>2023-08-26</td>\n",
              "      <td>type 4</td>\n",
              "      <td>type 76</td>\n",
              "      <td>act2_1734928</td>\n",
              "      <td>0.0</td>\n",
              "    </tr>\n",
              "    <tr>\n",
              "      <th>1</th>\n",
              "      <td>ppl_100</td>\n",
              "      <td>2022-09-27</td>\n",
              "      <td>type 2</td>\n",
              "      <td>type 1</td>\n",
              "      <td>act2_2434093</td>\n",
              "      <td>0.0</td>\n",
              "    </tr>\n",
              "    <tr>\n",
              "      <th>2</th>\n",
              "      <td>ppl_100</td>\n",
              "      <td>2022-09-27</td>\n",
              "      <td>type 2</td>\n",
              "      <td>type 1</td>\n",
              "      <td>act2_3404049</td>\n",
              "      <td>0.0</td>\n",
              "    </tr>\n",
              "    <tr>\n",
              "      <th>3</th>\n",
              "      <td>ppl_100</td>\n",
              "      <td>2023-08-04</td>\n",
              "      <td>type 2</td>\n",
              "      <td>type 1</td>\n",
              "      <td>act2_3651215</td>\n",
              "      <td>0.0</td>\n",
              "    </tr>\n",
              "    <tr>\n",
              "      <th>4</th>\n",
              "      <td>ppl_100</td>\n",
              "      <td>2023-08-26</td>\n",
              "      <td>type 2</td>\n",
              "      <td>type 1</td>\n",
              "      <td>act2_4109017</td>\n",
              "      <td>0.0</td>\n",
              "    </tr>\n",
              "  </tbody>\n",
              "</table>\n",
              "</div>"
            ],
            "text/plain": [
              "  people_id        date activity_category  char_10   activity_id  outcome\n",
              "0   ppl_100  2023-08-26            type 4  type 76  act2_1734928      0.0\n",
              "1   ppl_100  2022-09-27            type 2   type 1  act2_2434093      0.0\n",
              "2   ppl_100  2022-09-27            type 2   type 1  act2_3404049      0.0\n",
              "3   ppl_100  2023-08-04            type 2   type 1  act2_3651215      0.0\n",
              "4   ppl_100  2023-08-26            type 2   type 1  act2_4109017      0.0"
            ]
          },
          "metadata": {
            "tags": []
          },
          "execution_count": 335
        }
      ]
    },
    {
      "cell_type": "code",
      "metadata": {
        "id": "u_8ARgbFFYdO",
        "colab_type": "code",
        "outputId": "1660c3ca-8c58-4353-d9b1-a1b9689020bd",
        "colab": {
          "base_uri": "https://localhost:8080/",
          "height": 68
        }
      },
      "source": [
        "#Rename the columns,we have to pass the columns names key:value to{'oldname':'new_name}  \n",
        "df = df.rename(columns={'date':'activity_date','char_10':'activity_type'})\n",
        "df.columns"
      ],
      "execution_count": 0,
      "outputs": [
        {
          "output_type": "execute_result",
          "data": {
            "text/plain": [
              "Index(['people_id', 'activity_date', 'activity_category', 'activity_type',\n",
              "       'activity_id', 'outcome'],\n",
              "      dtype='object')"
            ]
          },
          "metadata": {
            "tags": []
          },
          "execution_count": 336
        }
      ]
    },
    {
      "cell_type": "code",
      "metadata": {
        "id": "srUhNgLWFbCl",
        "colab_type": "code",
        "colab": {}
      },
      "source": [
        "df['activity_type'] = df['activity_type'].fillna(df['activity_type'].mode()[0])"
      ],
      "execution_count": 0,
      "outputs": []
    },
    {
      "cell_type": "code",
      "metadata": {
        "id": "rA2qQbjiFjxT",
        "colab_type": "code",
        "outputId": "a42346af-a168-4219-d84a-b7db2ec4659f",
        "colab": {
          "base_uri": "https://localhost:8080/",
          "height": 119
        }
      },
      "source": [
        "df['activity_type'].tail()"
      ],
      "execution_count": 0,
      "outputs": [
        {
          "output_type": "execute_result",
          "data": {
            "text/plain": [
              "1358674      type 52\n",
              "1358675    type 1490\n",
              "1358676       type 1\n",
              "1358677       type 1\n",
              "1358678       type 1\n",
              "Name: activity_type, dtype: object"
            ]
          },
          "metadata": {
            "tags": []
          },
          "execution_count": 338
        }
      ]
    },
    {
      "cell_type": "code",
      "metadata": {
        "id": "1f942OGLFl6V",
        "colab_type": "code",
        "outputId": "46226562-0c4a-4926-8094-34394a9c2d61",
        "colab": {
          "base_uri": "https://localhost:8080/",
          "height": 204
        }
      },
      "source": [
        "\n",
        "df.tail()"
      ],
      "execution_count": 0,
      "outputs": [
        {
          "output_type": "execute_result",
          "data": {
            "text/html": [
              "<div>\n",
              "<style scoped>\n",
              "    .dataframe tbody tr th:only-of-type {\n",
              "        vertical-align: middle;\n",
              "    }\n",
              "\n",
              "    .dataframe tbody tr th {\n",
              "        vertical-align: top;\n",
              "    }\n",
              "\n",
              "    .dataframe thead th {\n",
              "        text-align: right;\n",
              "    }\n",
              "</style>\n",
              "<table border=\"1\" class=\"dataframe\">\n",
              "  <thead>\n",
              "    <tr style=\"text-align: right;\">\n",
              "      <th></th>\n",
              "      <th>people_id</th>\n",
              "      <th>activity_date</th>\n",
              "      <th>activity_category</th>\n",
              "      <th>activity_type</th>\n",
              "      <th>activity_id</th>\n",
              "      <th>outcome</th>\n",
              "    </tr>\n",
              "  </thead>\n",
              "  <tbody>\n",
              "    <tr>\n",
              "      <th>1358674</th>\n",
              "      <td>ppl_324026</td>\n",
              "      <td>2023-01-27</td>\n",
              "      <td>type 3</td>\n",
              "      <td>type 52</td>\n",
              "      <td>act2_3923712</td>\n",
              "      <td>1.0</td>\n",
              "    </tr>\n",
              "    <tr>\n",
              "      <th>1358675</th>\n",
              "      <td>ppl_324026</td>\n",
              "      <td>2023-01-27</td>\n",
              "      <td>type 4</td>\n",
              "      <td>type 1490</td>\n",
              "      <td>act2_3988938</td>\n",
              "      <td>1.0</td>\n",
              "    </tr>\n",
              "    <tr>\n",
              "      <th>1358676</th>\n",
              "      <td>ppl_324026</td>\n",
              "      <td>2023-01-12</td>\n",
              "      <td>type 2</td>\n",
              "      <td>type 1</td>\n",
              "      <td>act2_569263</td>\n",
              "      <td>1.0</td>\n",
              "    </tr>\n",
              "    <tr>\n",
              "      <th>1358677</th>\n",
              "      <td>ppl_324027</td>\n",
              "      <td>2023-01-18</td>\n",
              "      <td>type 1</td>\n",
              "      <td>type 1</td>\n",
              "      <td>act1_101333</td>\n",
              "      <td>0.0</td>\n",
              "    </tr>\n",
              "    <tr>\n",
              "      <th>1358678</th>\n",
              "      <td>ppl_324027</td>\n",
              "      <td>2022-07-2</td>\n",
              "      <td>NaN</td>\n",
              "      <td>type 1</td>\n",
              "      <td>act1_75390</td>\n",
              "      <td>NaN</td>\n",
              "    </tr>\n",
              "  </tbody>\n",
              "</table>\n",
              "</div>"
            ],
            "text/plain": [
              "          people_id activity_date  ...   activity_id outcome\n",
              "1358674  ppl_324026    2023-01-27  ...  act2_3923712     1.0\n",
              "1358675  ppl_324026    2023-01-27  ...  act2_3988938     1.0\n",
              "1358676  ppl_324026    2023-01-12  ...   act2_569263     1.0\n",
              "1358677  ppl_324027    2023-01-18  ...   act1_101333     0.0\n",
              "1358678  ppl_324027     2022-07-2  ...    act1_75390     NaN\n",
              "\n",
              "[5 rows x 6 columns]"
            ]
          },
          "metadata": {
            "tags": []
          },
          "execution_count": 339
        }
      ]
    },
    {
      "cell_type": "code",
      "metadata": {
        "id": "tfOVJQkNFqx2",
        "colab_type": "code",
        "outputId": "58213690-2d53-4742-dcc2-41862acf317c",
        "colab": {
          "base_uri": "https://localhost:8080/",
          "height": 34
        }
      },
      "source": [
        "# print the final activity dataset shape\n",
        "df.shape\n",
        "# df_new.tail()"
      ],
      "execution_count": 0,
      "outputs": [
        {
          "output_type": "execute_result",
          "data": {
            "text/plain": [
              "(1358679, 6)"
            ]
          },
          "metadata": {
            "tags": []
          },
          "execution_count": 340
        }
      ]
    },
    {
      "cell_type": "code",
      "metadata": {
        "id": "F6XVXrOUfPww",
        "colab_type": "code",
        "colab": {}
      },
      "source": [
        "# df_new.info()"
      ],
      "execution_count": 0,
      "outputs": []
    },
    {
      "cell_type": "code",
      "metadata": {
        "id": "9Jf6fol4FvA-",
        "colab_type": "code",
        "outputId": "60faa526-20a5-4abc-bfdd-8301861b7b66",
        "colab": {
          "base_uri": "https://localhost:8080/",
          "height": 170
        }
      },
      "source": [
        "df_new = df.merge(people,on=['people_id'],how='inner')\n",
        "df_new.columns"
      ],
      "execution_count": 0,
      "outputs": [
        {
          "output_type": "execute_result",
          "data": {
            "text/plain": [
              "Index(['people_id', 'activity_date', 'activity_category', 'activity_type',\n",
              "       'activity_id', 'outcome', 'char_1', 'group_1', 'char_2', 'date',\n",
              "       'char_3', 'char_4', 'char_5', 'char_6', 'char_7', 'char_8', 'char_9',\n",
              "       'char_10', 'char_11', 'char_12', 'char_13', 'char_14', 'char_15',\n",
              "       'char_16', 'char_17', 'char_18', 'char_19', 'char_20', 'char_21',\n",
              "       'char_22', 'char_23', 'char_24', 'char_25', 'char_26', 'char_27',\n",
              "       'char_28', 'char_29', 'char_30', 'char_31', 'char_32', 'char_33',\n",
              "       'char_34', 'char_35', 'char_36', 'char_37', 'char_38'],\n",
              "      dtype='object')"
            ]
          },
          "metadata": {
            "tags": []
          },
          "execution_count": 342
        }
      ]
    },
    {
      "cell_type": "code",
      "metadata": {
        "id": "u4Z2597WexSa",
        "colab_type": "code",
        "outputId": "9f1be7fd-af02-49eb-f2a6-a1503d9369c4",
        "colab": {
          "base_uri": "https://localhost:8080/",
          "height": 85
        }
      },
      "source": [
        "df_new.columns[df_new.dtypes == 'object']"
      ],
      "execution_count": 0,
      "outputs": [
        {
          "output_type": "execute_result",
          "data": {
            "text/plain": [
              "Index(['people_id', 'activity_date', 'activity_category', 'activity_type',\n",
              "       'activity_id', 'char_1', 'group_1', 'char_2', 'date', 'char_3',\n",
              "       'char_4', 'char_5', 'char_6', 'char_7', 'char_8', 'char_9'],\n",
              "      dtype='object')"
            ]
          },
          "metadata": {
            "tags": []
          },
          "execution_count": 343
        }
      ]
    },
    {
      "cell_type": "code",
      "metadata": {
        "id": "kyxm0xf7FyXM",
        "colab_type": "code",
        "outputId": "6ec33f44-a9cd-4cdd-c79a-12f3f8f88798",
        "colab": {
          "base_uri": "https://localhost:8080/",
          "height": 51
        }
      },
      "source": [
        "df_new.dtypes.unique()"
      ],
      "execution_count": 0,
      "outputs": [
        {
          "output_type": "execute_result",
          "data": {
            "text/plain": [
              "array([dtype('O'), dtype('float64'), dtype('bool'), dtype('int64')],\n",
              "      dtype=object)"
            ]
          },
          "metadata": {
            "tags": []
          },
          "execution_count": 344
        }
      ]
    },
    {
      "cell_type": "code",
      "metadata": {
        "id": "F8cJO8xDF3Qs",
        "colab_type": "code",
        "outputId": "8aa6d4e3-fbdb-4d07-848e-8b4f5f8009fb",
        "colab": {
          "base_uri": "https://localhost:8080/",
          "height": 68
        }
      },
      "source": [
        "df['outcome'].value_counts()"
      ],
      "execution_count": 0,
      "outputs": [
        {
          "output_type": "execute_result",
          "data": {
            "text/plain": [
              "0.0    753241\n",
              "1.0    605437\n",
              "Name: outcome, dtype: int64"
            ]
          },
          "metadata": {
            "tags": []
          },
          "execution_count": 345
        }
      ]
    },
    {
      "cell_type": "code",
      "metadata": {
        "id": "V2EVzv83F523",
        "colab_type": "code",
        "colab": {}
      },
      "source": [
        ""
      ],
      "execution_count": 0,
      "outputs": []
    },
    {
      "cell_type": "markdown",
      "metadata": {
        "id": "0M_BYjD6F67x",
        "colab_type": "text"
      },
      "source": [
        "# Data Engineering"
      ]
    },
    {
      "cell_type": "code",
      "metadata": {
        "id": "EL271RXOF9uZ",
        "colab_type": "code",
        "outputId": "472b470c-9aba-4f94-9411-1c63e0a8ac02",
        "colab": {
          "base_uri": "https://localhost:8080/",
          "height": 306
        }
      },
      "source": [
        "# checking the distinct datatypes in the datasets\n",
        "print('Distinct datatypes in the dataset: ' ,df_new.dtypes.unique())\n",
        "print('Disticct booleans in the dataset',df_new.columns[df_new.dtypes == 'bool'])\n",
        "print('Disticct booleans in the dataset',len(df_new.columns[df_new.dtypes == 'bool']))\n",
        "\n",
        "\n",
        "print('Disticct categorical in the dataset',df_new.columns[df_new.dtypes == 'O'])\n",
        "print('Disticct categorical in the dataset',len(df_new.columns[df_new.dtypes == 'O']))\n",
        "\n",
        "\n",
        "print('Disticct inerger in the dataset',df_new.columns[df_new.dtypes == 'float64'])\n",
        "print('Disticct inerger in the dataset',len(df_new.columns[df_new.dtypes == 'float64']))\n",
        "\n",
        "print('Disticct inerger in the dataset',df_new.columns[df_new.dtypes == 'int64'])\n",
        "print('Disticct inerger in the dataset',len(df_new.columns[df_new.dtypes == 'int64']))"
      ],
      "execution_count": 0,
      "outputs": [
        {
          "output_type": "stream",
          "text": [
            "Distinct datatypes in the dataset:  [dtype('O') dtype('float64') dtype('bool') dtype('int64')]\n",
            "Disticct booleans in the dataset Index(['char_10', 'char_11', 'char_12', 'char_13', 'char_14', 'char_15',\n",
            "       'char_16', 'char_17', 'char_18', 'char_19', 'char_20', 'char_21',\n",
            "       'char_22', 'char_23', 'char_24', 'char_25', 'char_26', 'char_27',\n",
            "       'char_28', 'char_29', 'char_30', 'char_31', 'char_32', 'char_33',\n",
            "       'char_34', 'char_35', 'char_36', 'char_37'],\n",
            "      dtype='object')\n",
            "Disticct booleans in the dataset 28\n",
            "Disticct categorical in the dataset Index(['people_id', 'activity_date', 'activity_category', 'activity_type',\n",
            "       'activity_id', 'char_1', 'group_1', 'char_2', 'date', 'char_3',\n",
            "       'char_4', 'char_5', 'char_6', 'char_7', 'char_8', 'char_9'],\n",
            "      dtype='object')\n",
            "Disticct categorical in the dataset 16\n",
            "Disticct inerger in the dataset Index(['outcome'], dtype='object')\n",
            "Disticct inerger in the dataset 1\n",
            "Disticct inerger in the dataset Index(['char_38'], dtype='object')\n",
            "Disticct inerger in the dataset 1\n"
          ],
          "name": "stdout"
        }
      ]
    },
    {
      "cell_type": "code",
      "metadata": {
        "id": "-crNzKe8F_3S",
        "colab_type": "code",
        "outputId": "5763be78-6822-41f5-fc18-1ac3d777859b",
        "colab": {
          "base_uri": "https://localhost:8080/",
          "height": 34
        }
      },
      "source": [
        "#float64 --> is numeric datatypes\n",
        "#\"O\" --> is categorical datatypes\n",
        "#'bool' --> boolean values \n",
        "# create a dataset  with datatypes\n",
        "dtypes_df = pd.DataFrame(df_new.dtypes)\n",
        "dtypes_df\n",
        "len(dtypes_df)"
      ],
      "execution_count": 0,
      "outputs": [
        {
          "output_type": "execute_result",
          "data": {
            "text/plain": [
              "46"
            ]
          },
          "metadata": {
            "tags": []
          },
          "execution_count": 347
        }
      ]
    },
    {
      "cell_type": "code",
      "metadata": {
        "id": "YtaIJp_3GJIP",
        "colab_type": "code",
        "colab": {}
      },
      "source": [
        "# Assign column name \n",
        "dtypes_df.columns = ['DataTypes']"
      ],
      "execution_count": 0,
      "outputs": []
    },
    {
      "cell_type": "code",
      "metadata": {
        "id": "JRm54U5kGNlh",
        "colab_type": "code",
        "outputId": "23220076-5405-4793-e8ce-7aec75446174",
        "colab": {
          "base_uri": "https://localhost:8080/",
          "height": 119
        }
      },
      "source": [
        "df_new.columns[df_new.dtypes == 'bool']"
      ],
      "execution_count": 0,
      "outputs": [
        {
          "output_type": "execute_result",
          "data": {
            "text/plain": [
              "Index(['char_10', 'char_11', 'char_12', 'char_13', 'char_14', 'char_15',\n",
              "       'char_16', 'char_17', 'char_18', 'char_19', 'char_20', 'char_21',\n",
              "       'char_22', 'char_23', 'char_24', 'char_25', 'char_26', 'char_27',\n",
              "       'char_28', 'char_29', 'char_30', 'char_31', 'char_32', 'char_33',\n",
              "       'char_34', 'char_35', 'char_36', 'char_37'],\n",
              "      dtype='object')"
            ]
          },
          "metadata": {
            "tags": []
          },
          "execution_count": 349
        }
      ]
    },
    {
      "cell_type": "code",
      "metadata": {
        "id": "zNQfR3sLGT7d",
        "colab_type": "code",
        "outputId": "70dc0a5e-8374-4080-8a76-b476131b56cd",
        "colab": {
          "base_uri": "https://localhost:8080/",
          "height": 102
        }
      },
      "source": [
        "boolean_columns = dtypes_df.index[dtypes_df['DataTypes'] == 'bool'].values\n",
        "boolean_columns"
      ],
      "execution_count": 0,
      "outputs": [
        {
          "output_type": "execute_result",
          "data": {
            "text/plain": [
              "array(['char_10', 'char_11', 'char_12', 'char_13', 'char_14', 'char_15',\n",
              "       'char_16', 'char_17', 'char_18', 'char_19', 'char_20', 'char_21',\n",
              "       'char_22', 'char_23', 'char_24', 'char_25', 'char_26', 'char_27',\n",
              "       'char_28', 'char_29', 'char_30', 'char_31', 'char_32', 'char_33',\n",
              "       'char_34', 'char_35', 'char_36', 'char_37'], dtype=object)"
            ]
          },
          "metadata": {
            "tags": []
          },
          "execution_count": 350
        }
      ]
    },
    {
      "cell_type": "code",
      "metadata": {
        "id": "QG9ByyI5GXMJ",
        "colab_type": "code",
        "colab": {}
      },
      "source": [
        ""
      ],
      "execution_count": 0,
      "outputs": []
    },
    {
      "cell_type": "markdown",
      "metadata": {
        "id": "gJS4qZOLGmFA",
        "colab_type": "text"
      },
      "source": [
        "# Convert all boolean columns to binary numeric values\n"
      ]
    },
    {
      "cell_type": "code",
      "metadata": {
        "id": "1gNnBRY-GmzL",
        "colab_type": "code",
        "outputId": "640e623a-f8c6-4632-c971-9d2f48369f0c",
        "colab": {
          "base_uri": "https://localhost:8080/",
          "height": 51
        }
      },
      "source": [
        "for column in boolean_columns:\n",
        "  df_new[column] = np.where(df_new[column] == True,0,1)\n",
        "print('Distinct datatypes after processing: ',df_new.dtypes.unique())\n",
        "\n",
        "#Notice that is all boolean columns are repleace with binary numbers\n",
        "print('shape of dataset after boolean columns replecement: ',df_new.shape)"
      ],
      "execution_count": 0,
      "outputs": [
        {
          "output_type": "stream",
          "text": [
            "Distinct datatypes after processing:  [dtype('O') dtype('float64') dtype('int64')]\n",
            "shape of dataset after boolean columns replecement:  (1358679, 46)\n"
          ],
          "name": "stdout"
        }
      ]
    },
    {
      "cell_type": "code",
      "metadata": {
        "id": "8pgkKOnkGpmt",
        "colab_type": "code",
        "outputId": "d3c1c0df-d0e0-468e-b522-acc48fff1c83",
        "colab": {
          "base_uri": "https://localhost:8080/",
          "height": 34
        }
      },
      "source": [
        "# Extract all object categrical values from dataframe temp\n",
        "categorical_columns = dtypes_df.index[dtypes_df['DataTypes'] == 'O']\n",
        "categorical_columns\n",
        "len(categorical_columns)"
      ],
      "execution_count": 0,
      "outputs": [
        {
          "output_type": "execute_result",
          "data": {
            "text/plain": [
              "16"
            ]
          },
          "metadata": {
            "tags": []
          },
          "execution_count": 352
        }
      ]
    },
    {
      "cell_type": "code",
      "metadata": {
        "id": "iTpWCgwTGt2p",
        "colab_type": "code",
        "outputId": "5e145247-7792-426c-fdbe-ba42cb3c9a9f",
        "colab": {
          "base_uri": "https://localhost:8080/",
          "height": 289
        }
      },
      "source": [
        "# Check the number of distinct values in each categorical columns\n",
        "for column in categorical_columns:\n",
        "  print(column + 'column has :',str(len(df_new[column].unique()))+ \" distinct values \")"
      ],
      "execution_count": 0,
      "outputs": [
        {
          "output_type": "stream",
          "text": [
            "people_idcolumn has : 94614 distinct values \n",
            "activity_datecolumn has : 412 distinct values \n",
            "activity_categorycolumn has : 8 distinct values \n",
            "activity_typecolumn has : 5576 distinct values \n",
            "activity_idcolumn has : 1358679 distinct values \n",
            "char_1column has : 2 distinct values \n",
            "group_1column has : 22166 distinct values \n",
            "char_2column has : 3 distinct values \n",
            "datecolumn has : 1193 distinct values \n",
            "char_3column has : 42 distinct values \n",
            "char_4column has : 25 distinct values \n",
            "char_5column has : 9 distinct values \n",
            "char_6column has : 7 distinct values \n",
            "char_7column has : 25 distinct values \n",
            "char_8column has : 8 distinct values \n",
            "char_9column has : 9 distinct values \n"
          ],
          "name": "stdout"
        }
      ]
    },
    {
      "cell_type": "code",
      "metadata": {
        "id": "IuwEqYbUG9iq",
        "colab_type": "code",
        "outputId": "16ff7c83-db4b-4c9a-b3f3-01f80e998596",
        "colab": {
          "base_uri": "https://localhost:8080/",
          "height": 221
        }
      },
      "source": [
        "# create date related for ' date' in customer data\n",
        "df_new['date'] = pd.to_datetime(df_new['date'],infer_datetime_format=True)\n",
        "df_new['date']\n"
      ],
      "execution_count": 0,
      "outputs": [
        {
          "output_type": "execute_result",
          "data": {
            "text/plain": [
              "0         2021-06-29\n",
              "1         2021-06-29\n",
              "2         2021-06-29\n",
              "3         2021-06-29\n",
              "4         2021-06-29\n",
              "             ...    \n",
              "1358674   2022-04-28\n",
              "1358675   2022-04-28\n",
              "1358676   2022-04-28\n",
              "1358677   2022-07-27\n",
              "1358678   2022-07-27\n",
              "Name: date, Length: 1358679, dtype: datetime64[ns]"
            ]
          },
          "metadata": {
            "tags": []
          },
          "execution_count": 354
        }
      ]
    },
    {
      "cell_type": "code",
      "metadata": {
        "id": "RunDRq07HKiD",
        "colab_type": "code",
        "colab": {}
      },
      "source": [
        "df_new['Year'] = df_new['date'].dt.year\n",
        "df_new['Month'] = df_new['date'].dt.month\n",
        "df_new['Quarter'] = df_new['date'].dt.quarter\n",
        "df_new['Week'] = df_new['date'].dt.week\n",
        "df_new['WeekDay'] = df_new['date'].dt.weekday\n",
        "df_new['Day'] = df_new['date'].dt.day"
      ],
      "execution_count": 0,
      "outputs": []
    },
    {
      "cell_type": "code",
      "metadata": {
        "id": "BVHaQ-bkHMyK",
        "colab_type": "code",
        "colab": {}
      },
      "source": [
        "# Create date related feature for another date type column called 'activity_date'\n",
        "# df_new['activity_date'] = pd.to_datetime(df_new['activity_date'],infer_datetime_format=True)\n",
        "df_new['activity_date'] = pd.to_datetime(df_new['activity_date'])\n",
        "df_new['activity_Year'] = df_new['activity_date'].dt.year\n",
        "df_new['activity_Month'] = df_new['activity_date'].dt.month\n",
        "df_new['activity_Quarter'] = df_new['activity_date'].dt.quarter\n",
        "df_new['activity_Week'] = df_new['activity_date'].dt.week\n",
        "df_new['activity_WeekDay'] = df_new['activity_date'].dt.weekday\n",
        "df_new['activity_Day'] = df_new['activity_date'].dt.day"
      ],
      "execution_count": 0,
      "outputs": []
    },
    {
      "cell_type": "code",
      "metadata": {
        "id": "6Zum-yazHRHo",
        "colab_type": "code",
        "outputId": "3722fbc8-926a-49d7-99fb-5742cf62c323",
        "colab": {
          "base_uri": "https://localhost:8080/",
          "height": 34
        }
      },
      "source": [
        "df_new.shape"
      ],
      "execution_count": 0,
      "outputs": [
        {
          "output_type": "execute_result",
          "data": {
            "text/plain": [
              "(1358679, 58)"
            ]
          },
          "metadata": {
            "tags": []
          },
          "execution_count": 357
        }
      ]
    },
    {
      "cell_type": "code",
      "metadata": {
        "id": "0VsZNCHcHUAs",
        "colab_type": "code",
        "outputId": "0a7ab904-c381-4538-9f2b-9f7de2f3fadb",
        "colab": {
          "base_uri": "https://localhost:8080/",
          "height": 255
        }
      },
      "source": [
        "#The last processing step is converting categorical columns : that has large number of values , their either we have to convert those categorical variables into numrical values are extract \n",
        "# First find the informative way i.e importance of variables\n",
        "\n",
        "print(df_new[['people_id','activity_type','activity_id','group_1']])\n",
        " # if you want to call records in the respective columns call is -->[[]]"
      ],
      "execution_count": 0,
      "outputs": [
        {
          "output_type": "stream",
          "text": [
            "          people_id activity_type   activity_id      group_1\n",
            "0           ppl_100       type 76  act2_1734928  group 17304\n",
            "1           ppl_100        type 1  act2_2434093  group 17304\n",
            "2           ppl_100        type 1  act2_3404049  group 17304\n",
            "3           ppl_100        type 1  act2_3651215  group 17304\n",
            "4           ppl_100        type 1  act2_4109017  group 17304\n",
            "...             ...           ...           ...          ...\n",
            "1358674  ppl_324026       type 52  act2_3923712  group 13198\n",
            "1358675  ppl_324026     type 1490  act2_3988938  group 13198\n",
            "1358676  ppl_324026        type 1   act2_569263  group 13198\n",
            "1358677  ppl_324027        type 1   act1_101333  group 17304\n",
            "1358678  ppl_324027        type 1    act1_75390  group 17304\n",
            "\n",
            "[1358679 rows x 4 columns]\n"
          ],
          "name": "stdout"
        }
      ]
    },
    {
      "cell_type": "code",
      "metadata": {
        "id": "QJcxdyKJHW0Q",
        "colab_type": "code",
        "colab": {}
      },
      "source": [
        " #For people_id we need to extract number from the word after \"_\"\n",
        "df_new.people_id = df_new.people_id.apply(lambda x: x.split(\"_\")[1]) # here 1--> represent he index i.e second position values[numer or  numerica data] people_id\n",
        "                                                                     # here 0--> locate the categorical data"
      ],
      "execution_count": 0,
      "outputs": []
    },
    {
      "cell_type": "code",
      "metadata": {
        "id": "niTflfS1HaX7",
        "colab_type": "code",
        "outputId": "1f08df58-786e-460b-9c98-51e7da05106b",
        "colab": {
          "base_uri": "https://localhost:8080/",
          "height": 221
        }
      },
      "source": [
        "df_new.people_id = pd.to_numeric(df_new.people_id) \n",
        "type(df_new.people_id)\n",
        "df_new.people_id\n",
        "# df_new.activity_type"
      ],
      "execution_count": 0,
      "outputs": [
        {
          "output_type": "execute_result",
          "data": {
            "text/plain": [
              "0             100.0\n",
              "1             100.0\n",
              "2             100.0\n",
              "3             100.0\n",
              "4             100.0\n",
              "             ...   \n",
              "1358674    324026.0\n",
              "1358675    324026.0\n",
              "1358676    324026.0\n",
              "1358677    324027.0\n",
              "1358678    324027.0\n",
              "Name: people_id, Length: 1358679, dtype: float64"
            ]
          },
          "metadata": {
            "tags": []
          },
          "execution_count": 360
        }
      ]
    },
    {
      "cell_type": "code",
      "metadata": {
        "id": "YNO5XCW7HfYM",
        "colab_type": "code",
        "outputId": "5b86e88a-0974-41da-e4c8-256e39a894c9",
        "colab": {
          "base_uri": "https://localhost:8080/",
          "height": 221
        }
      },
      "source": [
        "# For activity Id also,we would need to extract values after \"-\"\n",
        "df_new.activity_id = df_new.activity_id.apply(lambda x: x.split('_')[1])\n",
        "df_new.activity_id = pd.to_numeric(df_new.activity_id)\n",
        "df_new.activity_id"
      ],
      "execution_count": 0,
      "outputs": [
        {
          "output_type": "execute_result",
          "data": {
            "text/plain": [
              "0          1734928.0\n",
              "1          2434093.0\n",
              "2          3404049.0\n",
              "3          3651215.0\n",
              "4          4109017.0\n",
              "             ...    \n",
              "1358674    3923712.0\n",
              "1358675    3988938.0\n",
              "1358676     569263.0\n",
              "1358677     101333.0\n",
              "1358678      75390.0\n",
              "Name: activity_id, Length: 1358679, dtype: float64"
            ]
          },
          "metadata": {
            "tags": []
          },
          "execution_count": 361
        }
      ]
    },
    {
      "cell_type": "code",
      "metadata": {
        "id": "O2XFXb-cHhqF",
        "colab_type": "code",
        "outputId": "c0fc9a9f-96b4-4903-8f07-ad51f361788b",
        "colab": {
          "base_uri": "https://localhost:8080/",
          "height": 221
        }
      },
      "source": [
        "#For activity_type , we would need to wxtract values after \"\n",
        "df_new.activity_type = df_new.activity_type.apply(lambda x: x.split(' ')[1])\n",
        "df_new.activity_type = pd.to_numeric(df_new.activity_type)\n",
        "# df_new.activity_type = pd.to_numeric(df_new.group_1)\n",
        "df_new.activity_type"
      ],
      "execution_count": 0,
      "outputs": [
        {
          "output_type": "execute_result",
          "data": {
            "text/plain": [
              "0            76\n",
              "1             1\n",
              "2             1\n",
              "3             1\n",
              "4             1\n",
              "           ... \n",
              "1358674      52\n",
              "1358675    1490\n",
              "1358676       1\n",
              "1358677       1\n",
              "1358678       1\n",
              "Name: activity_type, Length: 1358679, dtype: int64"
            ]
          },
          "metadata": {
            "tags": []
          },
          "execution_count": 362
        }
      ]
    },
    {
      "cell_type": "code",
      "metadata": {
        "id": "sfyRjQxbHj3A",
        "colab_type": "code",
        "outputId": "c9496258-5a14-49ca-c4c9-706ccd10eecb",
        "colab": {
          "base_uri": "https://localhost:8080/",
          "height": 34
        }
      },
      "source": [
        "df_new.dtypes.count()"
      ],
      "execution_count": 0,
      "outputs": [
        {
          "output_type": "execute_result",
          "data": {
            "text/plain": [
              "58"
            ]
          },
          "metadata": {
            "tags": []
          },
          "execution_count": 363
        }
      ]
    },
    {
      "cell_type": "code",
      "metadata": {
        "id": "rNNU823LHnmq",
        "colab_type": "code",
        "outputId": "c850c60d-886d-4ad1-9b76-261d7ebaabc9",
        "colab": {
          "base_uri": "https://localhost:8080/",
          "height": 119
        }
      },
      "source": [
        "# Double check the new values in the dataframe\n",
        "print(df_new[['people_id','activity_type','activity_id','group_1']].head())\n",
        "# successfully we transformed all categorical variable into number data"
      ],
      "execution_count": 0,
      "outputs": [
        {
          "output_type": "stream",
          "text": [
            "   people_id  activity_type  activity_id      group_1\n",
            "0      100.0             76    1734928.0  group 17304\n",
            "1      100.0              1    2434093.0  group 17304\n",
            "2      100.0              1    3404049.0  group 17304\n",
            "3      100.0              1    3651215.0  group 17304\n",
            "4      100.0              1    4109017.0  group 17304\n"
          ],
          "name": "stdout"
        }
      ]
    },
    {
      "cell_type": "code",
      "metadata": {
        "id": "tn6cb_soRbrM",
        "colab_type": "code",
        "outputId": "a365b598-92ad-4219-d40f-9de38b69ad05",
        "colab": {
          "base_uri": "https://localhost:8080/",
          "height": 221
        }
      },
      "source": [
        "# For activity type, we need to extract values after \n",
        "df_new.group_1 = df_new.group_1.apply(lambda x:x.split(\" \")[1])\n",
        "df_new.group_1 = pd.to_numeric(df_new.group_1)\n",
        "df_new.group_1"
      ],
      "execution_count": 0,
      "outputs": [
        {
          "output_type": "execute_result",
          "data": {
            "text/plain": [
              "0          17304\n",
              "1          17304\n",
              "2          17304\n",
              "3          17304\n",
              "4          17304\n",
              "           ...  \n",
              "1358674    13198\n",
              "1358675    13198\n",
              "1358676    13198\n",
              "1358677    17304\n",
              "1358678    17304\n",
              "Name: group_1, Length: 1358679, dtype: int64"
            ]
          },
          "metadata": {
            "tags": []
          },
          "execution_count": 365
        }
      ]
    },
    {
      "cell_type": "code",
      "metadata": {
        "id": "8wU470zzHqag",
        "colab_type": "code",
        "outputId": "4738aaba-26b4-4687-d4e4-503ce7f6e7da",
        "colab": {
          "base_uri": "https://localhost:8080/",
          "height": 34
        }
      },
      "source": [
        "print('cross check the the categorical data in dataframe: ',df_new.dtypes.unique())\n",
        "# But still one one column has categorical data"
      ],
      "execution_count": 0,
      "outputs": [
        {
          "output_type": "stream",
          "text": [
            "cross check the the categorical data in dataframe:  [dtype('float64') dtype('<M8[ns]') dtype('O') dtype('int64')]\n"
          ],
          "name": "stdout"
        }
      ]
    },
    {
      "cell_type": "code",
      "metadata": {
        "id": "338T8SIaQvXH",
        "colab_type": "code",
        "outputId": "60a02378-38a6-4c81-e94f-887cbb6c5914",
        "colab": {
          "base_uri": "https://localhost:8080/",
          "height": 521
        }
      },
      "source": [
        "print(df_new[['people_id','activity_type','activity_id','group_1']].head())\n",
        "# df_new['group_1']\n",
        "df_new[['people_id','activity_type','activity_id','group_1']].astype('int64')"
      ],
      "execution_count": 0,
      "outputs": [
        {
          "output_type": "stream",
          "text": [
            "   people_id  activity_type  activity_id  group_1\n",
            "0      100.0             76    1734928.0    17304\n",
            "1      100.0              1    2434093.0    17304\n",
            "2      100.0              1    3404049.0    17304\n",
            "3      100.0              1    3651215.0    17304\n",
            "4      100.0              1    4109017.0    17304\n"
          ],
          "name": "stdout"
        },
        {
          "output_type": "execute_result",
          "data": {
            "text/html": [
              "<div>\n",
              "<style scoped>\n",
              "    .dataframe tbody tr th:only-of-type {\n",
              "        vertical-align: middle;\n",
              "    }\n",
              "\n",
              "    .dataframe tbody tr th {\n",
              "        vertical-align: top;\n",
              "    }\n",
              "\n",
              "    .dataframe thead th {\n",
              "        text-align: right;\n",
              "    }\n",
              "</style>\n",
              "<table border=\"1\" class=\"dataframe\">\n",
              "  <thead>\n",
              "    <tr style=\"text-align: right;\">\n",
              "      <th></th>\n",
              "      <th>people_id</th>\n",
              "      <th>activity_type</th>\n",
              "      <th>activity_id</th>\n",
              "      <th>group_1</th>\n",
              "    </tr>\n",
              "  </thead>\n",
              "  <tbody>\n",
              "    <tr>\n",
              "      <th>0</th>\n",
              "      <td>100</td>\n",
              "      <td>76</td>\n",
              "      <td>1734928</td>\n",
              "      <td>17304</td>\n",
              "    </tr>\n",
              "    <tr>\n",
              "      <th>1</th>\n",
              "      <td>100</td>\n",
              "      <td>1</td>\n",
              "      <td>2434093</td>\n",
              "      <td>17304</td>\n",
              "    </tr>\n",
              "    <tr>\n",
              "      <th>2</th>\n",
              "      <td>100</td>\n",
              "      <td>1</td>\n",
              "      <td>3404049</td>\n",
              "      <td>17304</td>\n",
              "    </tr>\n",
              "    <tr>\n",
              "      <th>3</th>\n",
              "      <td>100</td>\n",
              "      <td>1</td>\n",
              "      <td>3651215</td>\n",
              "      <td>17304</td>\n",
              "    </tr>\n",
              "    <tr>\n",
              "      <th>4</th>\n",
              "      <td>100</td>\n",
              "      <td>1</td>\n",
              "      <td>4109017</td>\n",
              "      <td>17304</td>\n",
              "    </tr>\n",
              "    <tr>\n",
              "      <th>...</th>\n",
              "      <td>...</td>\n",
              "      <td>...</td>\n",
              "      <td>...</td>\n",
              "      <td>...</td>\n",
              "    </tr>\n",
              "    <tr>\n",
              "      <th>1358674</th>\n",
              "      <td>324026</td>\n",
              "      <td>52</td>\n",
              "      <td>3923712</td>\n",
              "      <td>13198</td>\n",
              "    </tr>\n",
              "    <tr>\n",
              "      <th>1358675</th>\n",
              "      <td>324026</td>\n",
              "      <td>1490</td>\n",
              "      <td>3988938</td>\n",
              "      <td>13198</td>\n",
              "    </tr>\n",
              "    <tr>\n",
              "      <th>1358676</th>\n",
              "      <td>324026</td>\n",
              "      <td>1</td>\n",
              "      <td>569263</td>\n",
              "      <td>13198</td>\n",
              "    </tr>\n",
              "    <tr>\n",
              "      <th>1358677</th>\n",
              "      <td>324027</td>\n",
              "      <td>1</td>\n",
              "      <td>101333</td>\n",
              "      <td>17304</td>\n",
              "    </tr>\n",
              "    <tr>\n",
              "      <th>1358678</th>\n",
              "      <td>324027</td>\n",
              "      <td>1</td>\n",
              "      <td>75390</td>\n",
              "      <td>17304</td>\n",
              "    </tr>\n",
              "  </tbody>\n",
              "</table>\n",
              "<p>1358679 rows × 4 columns</p>\n",
              "</div>"
            ],
            "text/plain": [
              "         people_id  activity_type  activity_id  group_1\n",
              "0              100             76      1734928    17304\n",
              "1              100              1      2434093    17304\n",
              "2              100              1      3404049    17304\n",
              "3              100              1      3651215    17304\n",
              "4              100              1      4109017    17304\n",
              "...            ...            ...          ...      ...\n",
              "1358674     324026             52      3923712    13198\n",
              "1358675     324026           1490      3988938    13198\n",
              "1358676     324026              1       569263    13198\n",
              "1358677     324027              1       101333    17304\n",
              "1358678     324027              1        75390    17304\n",
              "\n",
              "[1358679 rows x 4 columns]"
            ]
          },
          "metadata": {
            "tags": []
          },
          "execution_count": 367
        }
      ]
    },
    {
      "cell_type": "code",
      "metadata": {
        "id": "Z7QvNAvSW6Bp",
        "colab_type": "code",
        "outputId": "5196460a-3f3f-4c14-bcc4-39dbe0472b37",
        "colab": {
          "base_uri": "https://localhost:8080/",
          "height": 34
        }
      },
      "source": [
        "len(df_new.columns[df_new.dtypes == 'object'])"
      ],
      "execution_count": 0,
      "outputs": [
        {
          "output_type": "execute_result",
          "data": {
            "text/plain": [
              "10"
            ]
          },
          "metadata": {
            "tags": []
          },
          "execution_count": 368
        }
      ]
    },
    {
      "cell_type": "code",
      "metadata": {
        "id": "vviMlfe0Htr5",
        "colab_type": "code",
        "outputId": "fc4a8ca0-ed04-4884-e99e-8fd6feda9e41",
        "colab": {
          "base_uri": "https://localhost:8080/",
          "height": 68
        }
      },
      "source": [
        "df_new.columns[df_new.dtypes == 'O']"
      ],
      "execution_count": 0,
      "outputs": [
        {
          "output_type": "execute_result",
          "data": {
            "text/plain": [
              "Index(['activity_category', 'char_1', 'char_2', 'char_3', 'char_4', 'char_5',\n",
              "       'char_6', 'char_7', 'char_8', 'char_9'],\n",
              "      dtype='object')"
            ]
          },
          "metadata": {
            "tags": []
          },
          "execution_count": 369
        }
      ]
    },
    {
      "cell_type": "code",
      "metadata": {
        "id": "1szHwcUvH4HC",
        "colab_type": "code",
        "outputId": "cc84fe76-6a30-4644-897f-c23060b3c7b2",
        "colab": {
          "base_uri": "https://localhost:8080/",
          "height": 34
        }
      },
      "source": [
        "len(df_new.columns[df_new.dtypes == 'O'])"
      ],
      "execution_count": 0,
      "outputs": [
        {
          "output_type": "execute_result",
          "data": {
            "text/plain": [
              "10"
            ]
          },
          "metadata": {
            "tags": []
          },
          "execution_count": 370
        }
      ]
    },
    {
      "cell_type": "code",
      "metadata": {
        "id": "XsSZV6GRIhwR",
        "colab_type": "code",
        "outputId": "24809975-2101-47e5-eb70-f76017a8dbbb",
        "colab": {
          "base_uri": "https://localhost:8080/",
          "height": 1000
        }
      },
      "source": [
        "df_new.info()\n",
        "df_new = df_new.drop(['date','activity_date','group_1'],axis='columns')\n",
        "df_new"
      ],
      "execution_count": 0,
      "outputs": [
        {
          "output_type": "stream",
          "text": [
            "<class 'pandas.core.frame.DataFrame'>\n",
            "Int64Index: 1358679 entries, 0 to 1358678\n",
            "Data columns (total 58 columns):\n",
            "people_id            1358679 non-null float64\n",
            "activity_date        1358679 non-null datetime64[ns]\n",
            "activity_category    1358678 non-null object\n",
            "activity_type        1358679 non-null int64\n",
            "activity_id          1358679 non-null float64\n",
            "outcome              1358678 non-null float64\n",
            "char_1               1358679 non-null object\n",
            "group_1              1358679 non-null int64\n",
            "char_2               1358679 non-null object\n",
            "date                 1358679 non-null datetime64[ns]\n",
            "char_3               1358679 non-null object\n",
            "char_4               1358679 non-null object\n",
            "char_5               1358679 non-null object\n",
            "char_6               1358679 non-null object\n",
            "char_7               1358679 non-null object\n",
            "char_8               1358679 non-null object\n",
            "char_9               1358679 non-null object\n",
            "char_10              1358679 non-null int64\n",
            "char_11              1358679 non-null int64\n",
            "char_12              1358679 non-null int64\n",
            "char_13              1358679 non-null int64\n",
            "char_14              1358679 non-null int64\n",
            "char_15              1358679 non-null int64\n",
            "char_16              1358679 non-null int64\n",
            "char_17              1358679 non-null int64\n",
            "char_18              1358679 non-null int64\n",
            "char_19              1358679 non-null int64\n",
            "char_20              1358679 non-null int64\n",
            "char_21              1358679 non-null int64\n",
            "char_22              1358679 non-null int64\n",
            "char_23              1358679 non-null int64\n",
            "char_24              1358679 non-null int64\n",
            "char_25              1358679 non-null int64\n",
            "char_26              1358679 non-null int64\n",
            "char_27              1358679 non-null int64\n",
            "char_28              1358679 non-null int64\n",
            "char_29              1358679 non-null int64\n",
            "char_30              1358679 non-null int64\n",
            "char_31              1358679 non-null int64\n",
            "char_32              1358679 non-null int64\n",
            "char_33              1358679 non-null int64\n",
            "char_34              1358679 non-null int64\n",
            "char_35              1358679 non-null int64\n",
            "char_36              1358679 non-null int64\n",
            "char_37              1358679 non-null int64\n",
            "char_38              1358679 non-null int64\n",
            "Year                 1358679 non-null int64\n",
            "Month                1358679 non-null int64\n",
            "Quarter              1358679 non-null int64\n",
            "Week                 1358679 non-null int64\n",
            "WeekDay              1358679 non-null int64\n",
            "Day                  1358679 non-null int64\n",
            "activity_Year        1358679 non-null int64\n",
            "activity_Month       1358679 non-null int64\n",
            "activity_Quarter     1358679 non-null int64\n",
            "activity_Week        1358679 non-null int64\n",
            "activity_WeekDay     1358679 non-null int64\n",
            "activity_Day         1358679 non-null int64\n",
            "dtypes: datetime64[ns](2), float64(3), int64(43), object(10)\n",
            "memory usage: 611.6+ MB\n"
          ],
          "name": "stdout"
        },
        {
          "output_type": "execute_result",
          "data": {
            "text/html": [
              "<div>\n",
              "<style scoped>\n",
              "    .dataframe tbody tr th:only-of-type {\n",
              "        vertical-align: middle;\n",
              "    }\n",
              "\n",
              "    .dataframe tbody tr th {\n",
              "        vertical-align: top;\n",
              "    }\n",
              "\n",
              "    .dataframe thead th {\n",
              "        text-align: right;\n",
              "    }\n",
              "</style>\n",
              "<table border=\"1\" class=\"dataframe\">\n",
              "  <thead>\n",
              "    <tr style=\"text-align: right;\">\n",
              "      <th></th>\n",
              "      <th>people_id</th>\n",
              "      <th>activity_category</th>\n",
              "      <th>activity_type</th>\n",
              "      <th>activity_id</th>\n",
              "      <th>outcome</th>\n",
              "      <th>char_1</th>\n",
              "      <th>char_2</th>\n",
              "      <th>char_3</th>\n",
              "      <th>char_4</th>\n",
              "      <th>char_5</th>\n",
              "      <th>char_6</th>\n",
              "      <th>char_7</th>\n",
              "      <th>char_8</th>\n",
              "      <th>char_9</th>\n",
              "      <th>char_10</th>\n",
              "      <th>char_11</th>\n",
              "      <th>char_12</th>\n",
              "      <th>char_13</th>\n",
              "      <th>char_14</th>\n",
              "      <th>char_15</th>\n",
              "      <th>char_16</th>\n",
              "      <th>char_17</th>\n",
              "      <th>char_18</th>\n",
              "      <th>char_19</th>\n",
              "      <th>char_20</th>\n",
              "      <th>char_21</th>\n",
              "      <th>char_22</th>\n",
              "      <th>char_23</th>\n",
              "      <th>char_24</th>\n",
              "      <th>char_25</th>\n",
              "      <th>char_26</th>\n",
              "      <th>char_27</th>\n",
              "      <th>char_28</th>\n",
              "      <th>char_29</th>\n",
              "      <th>char_30</th>\n",
              "      <th>char_31</th>\n",
              "      <th>char_32</th>\n",
              "      <th>char_33</th>\n",
              "      <th>char_34</th>\n",
              "      <th>char_35</th>\n",
              "      <th>char_36</th>\n",
              "      <th>char_37</th>\n",
              "      <th>char_38</th>\n",
              "      <th>Year</th>\n",
              "      <th>Month</th>\n",
              "      <th>Quarter</th>\n",
              "      <th>Week</th>\n",
              "      <th>WeekDay</th>\n",
              "      <th>Day</th>\n",
              "      <th>activity_Year</th>\n",
              "      <th>activity_Month</th>\n",
              "      <th>activity_Quarter</th>\n",
              "      <th>activity_Week</th>\n",
              "      <th>activity_WeekDay</th>\n",
              "      <th>activity_Day</th>\n",
              "    </tr>\n",
              "  </thead>\n",
              "  <tbody>\n",
              "    <tr>\n",
              "      <th>0</th>\n",
              "      <td>100.0</td>\n",
              "      <td>type 4</td>\n",
              "      <td>76</td>\n",
              "      <td>1734928.0</td>\n",
              "      <td>0.0</td>\n",
              "      <td>type 2</td>\n",
              "      <td>type 2</td>\n",
              "      <td>type 5</td>\n",
              "      <td>type 5</td>\n",
              "      <td>type 5</td>\n",
              "      <td>type 3</td>\n",
              "      <td>type 11</td>\n",
              "      <td>type 2</td>\n",
              "      <td>type 2</td>\n",
              "      <td>0</td>\n",
              "      <td>1</td>\n",
              "      <td>1</td>\n",
              "      <td>0</td>\n",
              "      <td>0</td>\n",
              "      <td>1</td>\n",
              "      <td>0</td>\n",
              "      <td>1</td>\n",
              "      <td>1</td>\n",
              "      <td>1</td>\n",
              "      <td>1</td>\n",
              "      <td>0</td>\n",
              "      <td>1</td>\n",
              "      <td>1</td>\n",
              "      <td>1</td>\n",
              "      <td>1</td>\n",
              "      <td>1</td>\n",
              "      <td>0</td>\n",
              "      <td>0</td>\n",
              "      <td>1</td>\n",
              "      <td>0</td>\n",
              "      <td>0</td>\n",
              "      <td>1</td>\n",
              "      <td>1</td>\n",
              "      <td>0</td>\n",
              "      <td>0</td>\n",
              "      <td>0</td>\n",
              "      <td>1</td>\n",
              "      <td>36</td>\n",
              "      <td>2021</td>\n",
              "      <td>6</td>\n",
              "      <td>2</td>\n",
              "      <td>26</td>\n",
              "      <td>1</td>\n",
              "      <td>29</td>\n",
              "      <td>2023</td>\n",
              "      <td>8</td>\n",
              "      <td>3</td>\n",
              "      <td>34</td>\n",
              "      <td>5</td>\n",
              "      <td>26</td>\n",
              "    </tr>\n",
              "    <tr>\n",
              "      <th>1</th>\n",
              "      <td>100.0</td>\n",
              "      <td>type 2</td>\n",
              "      <td>1</td>\n",
              "      <td>2434093.0</td>\n",
              "      <td>0.0</td>\n",
              "      <td>type 2</td>\n",
              "      <td>type 2</td>\n",
              "      <td>type 5</td>\n",
              "      <td>type 5</td>\n",
              "      <td>type 5</td>\n",
              "      <td>type 3</td>\n",
              "      <td>type 11</td>\n",
              "      <td>type 2</td>\n",
              "      <td>type 2</td>\n",
              "      <td>0</td>\n",
              "      <td>1</td>\n",
              "      <td>1</td>\n",
              "      <td>0</td>\n",
              "      <td>0</td>\n",
              "      <td>1</td>\n",
              "      <td>0</td>\n",
              "      <td>1</td>\n",
              "      <td>1</td>\n",
              "      <td>1</td>\n",
              "      <td>1</td>\n",
              "      <td>0</td>\n",
              "      <td>1</td>\n",
              "      <td>1</td>\n",
              "      <td>1</td>\n",
              "      <td>1</td>\n",
              "      <td>1</td>\n",
              "      <td>0</td>\n",
              "      <td>0</td>\n",
              "      <td>1</td>\n",
              "      <td>0</td>\n",
              "      <td>0</td>\n",
              "      <td>1</td>\n",
              "      <td>1</td>\n",
              "      <td>0</td>\n",
              "      <td>0</td>\n",
              "      <td>0</td>\n",
              "      <td>1</td>\n",
              "      <td>36</td>\n",
              "      <td>2021</td>\n",
              "      <td>6</td>\n",
              "      <td>2</td>\n",
              "      <td>26</td>\n",
              "      <td>1</td>\n",
              "      <td>29</td>\n",
              "      <td>2022</td>\n",
              "      <td>9</td>\n",
              "      <td>3</td>\n",
              "      <td>39</td>\n",
              "      <td>1</td>\n",
              "      <td>27</td>\n",
              "    </tr>\n",
              "    <tr>\n",
              "      <th>2</th>\n",
              "      <td>100.0</td>\n",
              "      <td>type 2</td>\n",
              "      <td>1</td>\n",
              "      <td>3404049.0</td>\n",
              "      <td>0.0</td>\n",
              "      <td>type 2</td>\n",
              "      <td>type 2</td>\n",
              "      <td>type 5</td>\n",
              "      <td>type 5</td>\n",
              "      <td>type 5</td>\n",
              "      <td>type 3</td>\n",
              "      <td>type 11</td>\n",
              "      <td>type 2</td>\n",
              "      <td>type 2</td>\n",
              "      <td>0</td>\n",
              "      <td>1</td>\n",
              "      <td>1</td>\n",
              "      <td>0</td>\n",
              "      <td>0</td>\n",
              "      <td>1</td>\n",
              "      <td>0</td>\n",
              "      <td>1</td>\n",
              "      <td>1</td>\n",
              "      <td>1</td>\n",
              "      <td>1</td>\n",
              "      <td>0</td>\n",
              "      <td>1</td>\n",
              "      <td>1</td>\n",
              "      <td>1</td>\n",
              "      <td>1</td>\n",
              "      <td>1</td>\n",
              "      <td>0</td>\n",
              "      <td>0</td>\n",
              "      <td>1</td>\n",
              "      <td>0</td>\n",
              "      <td>0</td>\n",
              "      <td>1</td>\n",
              "      <td>1</td>\n",
              "      <td>0</td>\n",
              "      <td>0</td>\n",
              "      <td>0</td>\n",
              "      <td>1</td>\n",
              "      <td>36</td>\n",
              "      <td>2021</td>\n",
              "      <td>6</td>\n",
              "      <td>2</td>\n",
              "      <td>26</td>\n",
              "      <td>1</td>\n",
              "      <td>29</td>\n",
              "      <td>2022</td>\n",
              "      <td>9</td>\n",
              "      <td>3</td>\n",
              "      <td>39</td>\n",
              "      <td>1</td>\n",
              "      <td>27</td>\n",
              "    </tr>\n",
              "    <tr>\n",
              "      <th>3</th>\n",
              "      <td>100.0</td>\n",
              "      <td>type 2</td>\n",
              "      <td>1</td>\n",
              "      <td>3651215.0</td>\n",
              "      <td>0.0</td>\n",
              "      <td>type 2</td>\n",
              "      <td>type 2</td>\n",
              "      <td>type 5</td>\n",
              "      <td>type 5</td>\n",
              "      <td>type 5</td>\n",
              "      <td>type 3</td>\n",
              "      <td>type 11</td>\n",
              "      <td>type 2</td>\n",
              "      <td>type 2</td>\n",
              "      <td>0</td>\n",
              "      <td>1</td>\n",
              "      <td>1</td>\n",
              "      <td>0</td>\n",
              "      <td>0</td>\n",
              "      <td>1</td>\n",
              "      <td>0</td>\n",
              "      <td>1</td>\n",
              "      <td>1</td>\n",
              "      <td>1</td>\n",
              "      <td>1</td>\n",
              "      <td>0</td>\n",
              "      <td>1</td>\n",
              "      <td>1</td>\n",
              "      <td>1</td>\n",
              "      <td>1</td>\n",
              "      <td>1</td>\n",
              "      <td>0</td>\n",
              "      <td>0</td>\n",
              "      <td>1</td>\n",
              "      <td>0</td>\n",
              "      <td>0</td>\n",
              "      <td>1</td>\n",
              "      <td>1</td>\n",
              "      <td>0</td>\n",
              "      <td>0</td>\n",
              "      <td>0</td>\n",
              "      <td>1</td>\n",
              "      <td>36</td>\n",
              "      <td>2021</td>\n",
              "      <td>6</td>\n",
              "      <td>2</td>\n",
              "      <td>26</td>\n",
              "      <td>1</td>\n",
              "      <td>29</td>\n",
              "      <td>2023</td>\n",
              "      <td>8</td>\n",
              "      <td>3</td>\n",
              "      <td>31</td>\n",
              "      <td>4</td>\n",
              "      <td>4</td>\n",
              "    </tr>\n",
              "    <tr>\n",
              "      <th>4</th>\n",
              "      <td>100.0</td>\n",
              "      <td>type 2</td>\n",
              "      <td>1</td>\n",
              "      <td>4109017.0</td>\n",
              "      <td>0.0</td>\n",
              "      <td>type 2</td>\n",
              "      <td>type 2</td>\n",
              "      <td>type 5</td>\n",
              "      <td>type 5</td>\n",
              "      <td>type 5</td>\n",
              "      <td>type 3</td>\n",
              "      <td>type 11</td>\n",
              "      <td>type 2</td>\n",
              "      <td>type 2</td>\n",
              "      <td>0</td>\n",
              "      <td>1</td>\n",
              "      <td>1</td>\n",
              "      <td>0</td>\n",
              "      <td>0</td>\n",
              "      <td>1</td>\n",
              "      <td>0</td>\n",
              "      <td>1</td>\n",
              "      <td>1</td>\n",
              "      <td>1</td>\n",
              "      <td>1</td>\n",
              "      <td>0</td>\n",
              "      <td>1</td>\n",
              "      <td>1</td>\n",
              "      <td>1</td>\n",
              "      <td>1</td>\n",
              "      <td>1</td>\n",
              "      <td>0</td>\n",
              "      <td>0</td>\n",
              "      <td>1</td>\n",
              "      <td>0</td>\n",
              "      <td>0</td>\n",
              "      <td>1</td>\n",
              "      <td>1</td>\n",
              "      <td>0</td>\n",
              "      <td>0</td>\n",
              "      <td>0</td>\n",
              "      <td>1</td>\n",
              "      <td>36</td>\n",
              "      <td>2021</td>\n",
              "      <td>6</td>\n",
              "      <td>2</td>\n",
              "      <td>26</td>\n",
              "      <td>1</td>\n",
              "      <td>29</td>\n",
              "      <td>2023</td>\n",
              "      <td>8</td>\n",
              "      <td>3</td>\n",
              "      <td>34</td>\n",
              "      <td>5</td>\n",
              "      <td>26</td>\n",
              "    </tr>\n",
              "    <tr>\n",
              "      <th>...</th>\n",
              "      <td>...</td>\n",
              "      <td>...</td>\n",
              "      <td>...</td>\n",
              "      <td>...</td>\n",
              "      <td>...</td>\n",
              "      <td>...</td>\n",
              "      <td>...</td>\n",
              "      <td>...</td>\n",
              "      <td>...</td>\n",
              "      <td>...</td>\n",
              "      <td>...</td>\n",
              "      <td>...</td>\n",
              "      <td>...</td>\n",
              "      <td>...</td>\n",
              "      <td>...</td>\n",
              "      <td>...</td>\n",
              "      <td>...</td>\n",
              "      <td>...</td>\n",
              "      <td>...</td>\n",
              "      <td>...</td>\n",
              "      <td>...</td>\n",
              "      <td>...</td>\n",
              "      <td>...</td>\n",
              "      <td>...</td>\n",
              "      <td>...</td>\n",
              "      <td>...</td>\n",
              "      <td>...</td>\n",
              "      <td>...</td>\n",
              "      <td>...</td>\n",
              "      <td>...</td>\n",
              "      <td>...</td>\n",
              "      <td>...</td>\n",
              "      <td>...</td>\n",
              "      <td>...</td>\n",
              "      <td>...</td>\n",
              "      <td>...</td>\n",
              "      <td>...</td>\n",
              "      <td>...</td>\n",
              "      <td>...</td>\n",
              "      <td>...</td>\n",
              "      <td>...</td>\n",
              "      <td>...</td>\n",
              "      <td>...</td>\n",
              "      <td>...</td>\n",
              "      <td>...</td>\n",
              "      <td>...</td>\n",
              "      <td>...</td>\n",
              "      <td>...</td>\n",
              "      <td>...</td>\n",
              "      <td>...</td>\n",
              "      <td>...</td>\n",
              "      <td>...</td>\n",
              "      <td>...</td>\n",
              "      <td>...</td>\n",
              "      <td>...</td>\n",
              "    </tr>\n",
              "    <tr>\n",
              "      <th>1358674</th>\n",
              "      <td>324026.0</td>\n",
              "      <td>type 3</td>\n",
              "      <td>52</td>\n",
              "      <td>3923712.0</td>\n",
              "      <td>1.0</td>\n",
              "      <td>type 1</td>\n",
              "      <td>type 1</td>\n",
              "      <td>type 1</td>\n",
              "      <td>type 1</td>\n",
              "      <td>type 1</td>\n",
              "      <td>type 3</td>\n",
              "      <td>type 8</td>\n",
              "      <td>type 6</td>\n",
              "      <td>type 6</td>\n",
              "      <td>1</td>\n",
              "      <td>0</td>\n",
              "      <td>1</td>\n",
              "      <td>0</td>\n",
              "      <td>1</td>\n",
              "      <td>0</td>\n",
              "      <td>0</td>\n",
              "      <td>1</td>\n",
              "      <td>1</td>\n",
              "      <td>0</td>\n",
              "      <td>0</td>\n",
              "      <td>1</td>\n",
              "      <td>1</td>\n",
              "      <td>0</td>\n",
              "      <td>1</td>\n",
              "      <td>1</td>\n",
              "      <td>1</td>\n",
              "      <td>1</td>\n",
              "      <td>1</td>\n",
              "      <td>1</td>\n",
              "      <td>1</td>\n",
              "      <td>1</td>\n",
              "      <td>0</td>\n",
              "      <td>1</td>\n",
              "      <td>0</td>\n",
              "      <td>1</td>\n",
              "      <td>0</td>\n",
              "      <td>0</td>\n",
              "      <td>86</td>\n",
              "      <td>2022</td>\n",
              "      <td>4</td>\n",
              "      <td>2</td>\n",
              "      <td>17</td>\n",
              "      <td>3</td>\n",
              "      <td>28</td>\n",
              "      <td>2023</td>\n",
              "      <td>1</td>\n",
              "      <td>1</td>\n",
              "      <td>4</td>\n",
              "      <td>4</td>\n",
              "      <td>27</td>\n",
              "    </tr>\n",
              "    <tr>\n",
              "      <th>1358675</th>\n",
              "      <td>324026.0</td>\n",
              "      <td>type 4</td>\n",
              "      <td>1490</td>\n",
              "      <td>3988938.0</td>\n",
              "      <td>1.0</td>\n",
              "      <td>type 1</td>\n",
              "      <td>type 1</td>\n",
              "      <td>type 1</td>\n",
              "      <td>type 1</td>\n",
              "      <td>type 1</td>\n",
              "      <td>type 3</td>\n",
              "      <td>type 8</td>\n",
              "      <td>type 6</td>\n",
              "      <td>type 6</td>\n",
              "      <td>1</td>\n",
              "      <td>0</td>\n",
              "      <td>1</td>\n",
              "      <td>0</td>\n",
              "      <td>1</td>\n",
              "      <td>0</td>\n",
              "      <td>0</td>\n",
              "      <td>1</td>\n",
              "      <td>1</td>\n",
              "      <td>0</td>\n",
              "      <td>0</td>\n",
              "      <td>1</td>\n",
              "      <td>1</td>\n",
              "      <td>0</td>\n",
              "      <td>1</td>\n",
              "      <td>1</td>\n",
              "      <td>1</td>\n",
              "      <td>1</td>\n",
              "      <td>1</td>\n",
              "      <td>1</td>\n",
              "      <td>1</td>\n",
              "      <td>1</td>\n",
              "      <td>0</td>\n",
              "      <td>1</td>\n",
              "      <td>0</td>\n",
              "      <td>1</td>\n",
              "      <td>0</td>\n",
              "      <td>0</td>\n",
              "      <td>86</td>\n",
              "      <td>2022</td>\n",
              "      <td>4</td>\n",
              "      <td>2</td>\n",
              "      <td>17</td>\n",
              "      <td>3</td>\n",
              "      <td>28</td>\n",
              "      <td>2023</td>\n",
              "      <td>1</td>\n",
              "      <td>1</td>\n",
              "      <td>4</td>\n",
              "      <td>4</td>\n",
              "      <td>27</td>\n",
              "    </tr>\n",
              "    <tr>\n",
              "      <th>1358676</th>\n",
              "      <td>324026.0</td>\n",
              "      <td>type 2</td>\n",
              "      <td>1</td>\n",
              "      <td>569263.0</td>\n",
              "      <td>1.0</td>\n",
              "      <td>type 1</td>\n",
              "      <td>type 1</td>\n",
              "      <td>type 1</td>\n",
              "      <td>type 1</td>\n",
              "      <td>type 1</td>\n",
              "      <td>type 3</td>\n",
              "      <td>type 8</td>\n",
              "      <td>type 6</td>\n",
              "      <td>type 6</td>\n",
              "      <td>1</td>\n",
              "      <td>0</td>\n",
              "      <td>1</td>\n",
              "      <td>0</td>\n",
              "      <td>1</td>\n",
              "      <td>0</td>\n",
              "      <td>0</td>\n",
              "      <td>1</td>\n",
              "      <td>1</td>\n",
              "      <td>0</td>\n",
              "      <td>0</td>\n",
              "      <td>1</td>\n",
              "      <td>1</td>\n",
              "      <td>0</td>\n",
              "      <td>1</td>\n",
              "      <td>1</td>\n",
              "      <td>1</td>\n",
              "      <td>1</td>\n",
              "      <td>1</td>\n",
              "      <td>1</td>\n",
              "      <td>1</td>\n",
              "      <td>1</td>\n",
              "      <td>0</td>\n",
              "      <td>1</td>\n",
              "      <td>0</td>\n",
              "      <td>1</td>\n",
              "      <td>0</td>\n",
              "      <td>0</td>\n",
              "      <td>86</td>\n",
              "      <td>2022</td>\n",
              "      <td>4</td>\n",
              "      <td>2</td>\n",
              "      <td>17</td>\n",
              "      <td>3</td>\n",
              "      <td>28</td>\n",
              "      <td>2023</td>\n",
              "      <td>1</td>\n",
              "      <td>1</td>\n",
              "      <td>2</td>\n",
              "      <td>3</td>\n",
              "      <td>12</td>\n",
              "    </tr>\n",
              "    <tr>\n",
              "      <th>1358677</th>\n",
              "      <td>324027.0</td>\n",
              "      <td>type 1</td>\n",
              "      <td>1</td>\n",
              "      <td>101333.0</td>\n",
              "      <td>0.0</td>\n",
              "      <td>type 2</td>\n",
              "      <td>type 2</td>\n",
              "      <td>type 11</td>\n",
              "      <td>type 7</td>\n",
              "      <td>type 2</td>\n",
              "      <td>type 5</td>\n",
              "      <td>type 18</td>\n",
              "      <td>type 3</td>\n",
              "      <td>type 3</td>\n",
              "      <td>1</td>\n",
              "      <td>1</td>\n",
              "      <td>1</td>\n",
              "      <td>1</td>\n",
              "      <td>1</td>\n",
              "      <td>1</td>\n",
              "      <td>1</td>\n",
              "      <td>1</td>\n",
              "      <td>1</td>\n",
              "      <td>1</td>\n",
              "      <td>1</td>\n",
              "      <td>1</td>\n",
              "      <td>1</td>\n",
              "      <td>1</td>\n",
              "      <td>1</td>\n",
              "      <td>1</td>\n",
              "      <td>1</td>\n",
              "      <td>1</td>\n",
              "      <td>1</td>\n",
              "      <td>1</td>\n",
              "      <td>1</td>\n",
              "      <td>1</td>\n",
              "      <td>1</td>\n",
              "      <td>1</td>\n",
              "      <td>1</td>\n",
              "      <td>1</td>\n",
              "      <td>1</td>\n",
              "      <td>1</td>\n",
              "      <td>0</td>\n",
              "      <td>2022</td>\n",
              "      <td>7</td>\n",
              "      <td>3</td>\n",
              "      <td>30</td>\n",
              "      <td>2</td>\n",
              "      <td>27</td>\n",
              "      <td>2023</td>\n",
              "      <td>1</td>\n",
              "      <td>1</td>\n",
              "      <td>3</td>\n",
              "      <td>2</td>\n",
              "      <td>18</td>\n",
              "    </tr>\n",
              "    <tr>\n",
              "      <th>1358678</th>\n",
              "      <td>324027.0</td>\n",
              "      <td>NaN</td>\n",
              "      <td>1</td>\n",
              "      <td>75390.0</td>\n",
              "      <td>NaN</td>\n",
              "      <td>type 2</td>\n",
              "      <td>type 2</td>\n",
              "      <td>type 11</td>\n",
              "      <td>type 7</td>\n",
              "      <td>type 2</td>\n",
              "      <td>type 5</td>\n",
              "      <td>type 18</td>\n",
              "      <td>type 3</td>\n",
              "      <td>type 3</td>\n",
              "      <td>1</td>\n",
              "      <td>1</td>\n",
              "      <td>1</td>\n",
              "      <td>1</td>\n",
              "      <td>1</td>\n",
              "      <td>1</td>\n",
              "      <td>1</td>\n",
              "      <td>1</td>\n",
              "      <td>1</td>\n",
              "      <td>1</td>\n",
              "      <td>1</td>\n",
              "      <td>1</td>\n",
              "      <td>1</td>\n",
              "      <td>1</td>\n",
              "      <td>1</td>\n",
              "      <td>1</td>\n",
              "      <td>1</td>\n",
              "      <td>1</td>\n",
              "      <td>1</td>\n",
              "      <td>1</td>\n",
              "      <td>1</td>\n",
              "      <td>1</td>\n",
              "      <td>1</td>\n",
              "      <td>1</td>\n",
              "      <td>1</td>\n",
              "      <td>1</td>\n",
              "      <td>1</td>\n",
              "      <td>1</td>\n",
              "      <td>0</td>\n",
              "      <td>2022</td>\n",
              "      <td>7</td>\n",
              "      <td>3</td>\n",
              "      <td>30</td>\n",
              "      <td>2</td>\n",
              "      <td>27</td>\n",
              "      <td>2022</td>\n",
              "      <td>7</td>\n",
              "      <td>3</td>\n",
              "      <td>26</td>\n",
              "      <td>5</td>\n",
              "      <td>2</td>\n",
              "    </tr>\n",
              "  </tbody>\n",
              "</table>\n",
              "<p>1358679 rows × 55 columns</p>\n",
              "</div>"
            ],
            "text/plain": [
              "         people_id activity_category  ...  activity_WeekDay  activity_Day\n",
              "0            100.0            type 4  ...                 5            26\n",
              "1            100.0            type 2  ...                 1            27\n",
              "2            100.0            type 2  ...                 1            27\n",
              "3            100.0            type 2  ...                 4             4\n",
              "4            100.0            type 2  ...                 5            26\n",
              "...            ...               ...  ...               ...           ...\n",
              "1358674   324026.0            type 3  ...                 4            27\n",
              "1358675   324026.0            type 4  ...                 4            27\n",
              "1358676   324026.0            type 2  ...                 3            12\n",
              "1358677   324027.0            type 1  ...                 2            18\n",
              "1358678   324027.0               NaN  ...                 5             2\n",
              "\n",
              "[1358679 rows x 55 columns]"
            ]
          },
          "metadata": {
            "tags": []
          },
          "execution_count": 371
        }
      ]
    },
    {
      "cell_type": "code",
      "metadata": {
        "id": "0pUjoP7WI-Z3",
        "colab_type": "code",
        "outputId": "1a055cf5-67c5-46b1-9446-930dbdd2900d",
        "colab": {
          "base_uri": "https://localhost:8080/",
          "height": 204
        }
      },
      "source": [
        "df_new.columns"
      ],
      "execution_count": 0,
      "outputs": [
        {
          "output_type": "execute_result",
          "data": {
            "text/plain": [
              "Index(['people_id', 'activity_category', 'activity_type', 'activity_id',\n",
              "       'outcome', 'char_1', 'char_2', 'char_3', 'char_4', 'char_5', 'char_6',\n",
              "       'char_7', 'char_8', 'char_9', 'char_10', 'char_11', 'char_12',\n",
              "       'char_13', 'char_14', 'char_15', 'char_16', 'char_17', 'char_18',\n",
              "       'char_19', 'char_20', 'char_21', 'char_22', 'char_23', 'char_24',\n",
              "       'char_25', 'char_26', 'char_27', 'char_28', 'char_29', 'char_30',\n",
              "       'char_31', 'char_32', 'char_33', 'char_34', 'char_35', 'char_36',\n",
              "       'char_37', 'char_38', 'Year', 'Month', 'Quarter', 'Week', 'WeekDay',\n",
              "       'Day', 'activity_Year', 'activity_Month', 'activity_Quarter',\n",
              "       'activity_Week', 'activity_WeekDay', 'activity_Day'],\n",
              "      dtype='object')"
            ]
          },
          "metadata": {
            "tags": []
          },
          "execution_count": 372
        }
      ]
    },
    {
      "cell_type": "code",
      "metadata": {
        "id": "_mTPPVxjJ4I3",
        "colab_type": "code",
        "outputId": "90856288-6e17-4e40-d20f-86a4c89bf250",
        "colab": {
          "base_uri": "https://localhost:8080/",
          "height": 34
        }
      },
      "source": [
        "df_new.columns[df_new.dtypes == 'O']\n",
        "cat_col = df_new.columns[df_new.dtypes == 'O']\n",
        "len(cat_col)\n",
        "len(df_new.columns[df_new.dtypes == 'O'])"
      ],
      "execution_count": 0,
      "outputs": [
        {
          "output_type": "execute_result",
          "data": {
            "text/plain": [
              "10"
            ]
          },
          "metadata": {
            "tags": []
          },
          "execution_count": 373
        }
      ]
    },
    {
      "cell_type": "code",
      "metadata": {
        "id": "asEpcn5oKDot",
        "colab_type": "code",
        "outputId": "3db701a8-87ec-4ae3-d0d3-cc74754bbb23",
        "colab": {
          "base_uri": "https://localhost:8080/",
          "height": 34
        }
      },
      "source": [
        "df_new.dtypes.unique()"
      ],
      "execution_count": 0,
      "outputs": [
        {
          "output_type": "execute_result",
          "data": {
            "text/plain": [
              "array([dtype('float64'), dtype('O'), dtype('int64')], dtype=object)"
            ]
          },
          "metadata": {
            "tags": []
          },
          "execution_count": 374
        }
      ]
    },
    {
      "cell_type": "code",
      "metadata": {
        "id": "4Ldi7GjVVTq5",
        "colab_type": "code",
        "outputId": "eeadc766-97f4-4757-8787-0a4128959aa1",
        "colab": {
          "base_uri": "https://localhost:8080/",
          "height": 439
        }
      },
      "source": [
        "df_new"
      ],
      "execution_count": 0,
      "outputs": [
        {
          "output_type": "execute_result",
          "data": {
            "text/html": [
              "<div>\n",
              "<style scoped>\n",
              "    .dataframe tbody tr th:only-of-type {\n",
              "        vertical-align: middle;\n",
              "    }\n",
              "\n",
              "    .dataframe tbody tr th {\n",
              "        vertical-align: top;\n",
              "    }\n",
              "\n",
              "    .dataframe thead th {\n",
              "        text-align: right;\n",
              "    }\n",
              "</style>\n",
              "<table border=\"1\" class=\"dataframe\">\n",
              "  <thead>\n",
              "    <tr style=\"text-align: right;\">\n",
              "      <th></th>\n",
              "      <th>people_id</th>\n",
              "      <th>activity_category</th>\n",
              "      <th>activity_type</th>\n",
              "      <th>activity_id</th>\n",
              "      <th>outcome</th>\n",
              "      <th>char_1</th>\n",
              "      <th>char_2</th>\n",
              "      <th>char_3</th>\n",
              "      <th>char_4</th>\n",
              "      <th>char_5</th>\n",
              "      <th>char_6</th>\n",
              "      <th>char_7</th>\n",
              "      <th>char_8</th>\n",
              "      <th>char_9</th>\n",
              "      <th>char_10</th>\n",
              "      <th>char_11</th>\n",
              "      <th>char_12</th>\n",
              "      <th>char_13</th>\n",
              "      <th>char_14</th>\n",
              "      <th>char_15</th>\n",
              "      <th>char_16</th>\n",
              "      <th>char_17</th>\n",
              "      <th>char_18</th>\n",
              "      <th>char_19</th>\n",
              "      <th>char_20</th>\n",
              "      <th>char_21</th>\n",
              "      <th>char_22</th>\n",
              "      <th>char_23</th>\n",
              "      <th>char_24</th>\n",
              "      <th>char_25</th>\n",
              "      <th>char_26</th>\n",
              "      <th>char_27</th>\n",
              "      <th>char_28</th>\n",
              "      <th>char_29</th>\n",
              "      <th>char_30</th>\n",
              "      <th>char_31</th>\n",
              "      <th>char_32</th>\n",
              "      <th>char_33</th>\n",
              "      <th>char_34</th>\n",
              "      <th>char_35</th>\n",
              "      <th>char_36</th>\n",
              "      <th>char_37</th>\n",
              "      <th>char_38</th>\n",
              "      <th>Year</th>\n",
              "      <th>Month</th>\n",
              "      <th>Quarter</th>\n",
              "      <th>Week</th>\n",
              "      <th>WeekDay</th>\n",
              "      <th>Day</th>\n",
              "      <th>activity_Year</th>\n",
              "      <th>activity_Month</th>\n",
              "      <th>activity_Quarter</th>\n",
              "      <th>activity_Week</th>\n",
              "      <th>activity_WeekDay</th>\n",
              "      <th>activity_Day</th>\n",
              "    </tr>\n",
              "  </thead>\n",
              "  <tbody>\n",
              "    <tr>\n",
              "      <th>0</th>\n",
              "      <td>100.0</td>\n",
              "      <td>type 4</td>\n",
              "      <td>76</td>\n",
              "      <td>1734928.0</td>\n",
              "      <td>0.0</td>\n",
              "      <td>type 2</td>\n",
              "      <td>type 2</td>\n",
              "      <td>type 5</td>\n",
              "      <td>type 5</td>\n",
              "      <td>type 5</td>\n",
              "      <td>type 3</td>\n",
              "      <td>type 11</td>\n",
              "      <td>type 2</td>\n",
              "      <td>type 2</td>\n",
              "      <td>0</td>\n",
              "      <td>1</td>\n",
              "      <td>1</td>\n",
              "      <td>0</td>\n",
              "      <td>0</td>\n",
              "      <td>1</td>\n",
              "      <td>0</td>\n",
              "      <td>1</td>\n",
              "      <td>1</td>\n",
              "      <td>1</td>\n",
              "      <td>1</td>\n",
              "      <td>0</td>\n",
              "      <td>1</td>\n",
              "      <td>1</td>\n",
              "      <td>1</td>\n",
              "      <td>1</td>\n",
              "      <td>1</td>\n",
              "      <td>0</td>\n",
              "      <td>0</td>\n",
              "      <td>1</td>\n",
              "      <td>0</td>\n",
              "      <td>0</td>\n",
              "      <td>1</td>\n",
              "      <td>1</td>\n",
              "      <td>0</td>\n",
              "      <td>0</td>\n",
              "      <td>0</td>\n",
              "      <td>1</td>\n",
              "      <td>36</td>\n",
              "      <td>2021</td>\n",
              "      <td>6</td>\n",
              "      <td>2</td>\n",
              "      <td>26</td>\n",
              "      <td>1</td>\n",
              "      <td>29</td>\n",
              "      <td>2023</td>\n",
              "      <td>8</td>\n",
              "      <td>3</td>\n",
              "      <td>34</td>\n",
              "      <td>5</td>\n",
              "      <td>26</td>\n",
              "    </tr>\n",
              "    <tr>\n",
              "      <th>1</th>\n",
              "      <td>100.0</td>\n",
              "      <td>type 2</td>\n",
              "      <td>1</td>\n",
              "      <td>2434093.0</td>\n",
              "      <td>0.0</td>\n",
              "      <td>type 2</td>\n",
              "      <td>type 2</td>\n",
              "      <td>type 5</td>\n",
              "      <td>type 5</td>\n",
              "      <td>type 5</td>\n",
              "      <td>type 3</td>\n",
              "      <td>type 11</td>\n",
              "      <td>type 2</td>\n",
              "      <td>type 2</td>\n",
              "      <td>0</td>\n",
              "      <td>1</td>\n",
              "      <td>1</td>\n",
              "      <td>0</td>\n",
              "      <td>0</td>\n",
              "      <td>1</td>\n",
              "      <td>0</td>\n",
              "      <td>1</td>\n",
              "      <td>1</td>\n",
              "      <td>1</td>\n",
              "      <td>1</td>\n",
              "      <td>0</td>\n",
              "      <td>1</td>\n",
              "      <td>1</td>\n",
              "      <td>1</td>\n",
              "      <td>1</td>\n",
              "      <td>1</td>\n",
              "      <td>0</td>\n",
              "      <td>0</td>\n",
              "      <td>1</td>\n",
              "      <td>0</td>\n",
              "      <td>0</td>\n",
              "      <td>1</td>\n",
              "      <td>1</td>\n",
              "      <td>0</td>\n",
              "      <td>0</td>\n",
              "      <td>0</td>\n",
              "      <td>1</td>\n",
              "      <td>36</td>\n",
              "      <td>2021</td>\n",
              "      <td>6</td>\n",
              "      <td>2</td>\n",
              "      <td>26</td>\n",
              "      <td>1</td>\n",
              "      <td>29</td>\n",
              "      <td>2022</td>\n",
              "      <td>9</td>\n",
              "      <td>3</td>\n",
              "      <td>39</td>\n",
              "      <td>1</td>\n",
              "      <td>27</td>\n",
              "    </tr>\n",
              "    <tr>\n",
              "      <th>2</th>\n",
              "      <td>100.0</td>\n",
              "      <td>type 2</td>\n",
              "      <td>1</td>\n",
              "      <td>3404049.0</td>\n",
              "      <td>0.0</td>\n",
              "      <td>type 2</td>\n",
              "      <td>type 2</td>\n",
              "      <td>type 5</td>\n",
              "      <td>type 5</td>\n",
              "      <td>type 5</td>\n",
              "      <td>type 3</td>\n",
              "      <td>type 11</td>\n",
              "      <td>type 2</td>\n",
              "      <td>type 2</td>\n",
              "      <td>0</td>\n",
              "      <td>1</td>\n",
              "      <td>1</td>\n",
              "      <td>0</td>\n",
              "      <td>0</td>\n",
              "      <td>1</td>\n",
              "      <td>0</td>\n",
              "      <td>1</td>\n",
              "      <td>1</td>\n",
              "      <td>1</td>\n",
              "      <td>1</td>\n",
              "      <td>0</td>\n",
              "      <td>1</td>\n",
              "      <td>1</td>\n",
              "      <td>1</td>\n",
              "      <td>1</td>\n",
              "      <td>1</td>\n",
              "      <td>0</td>\n",
              "      <td>0</td>\n",
              "      <td>1</td>\n",
              "      <td>0</td>\n",
              "      <td>0</td>\n",
              "      <td>1</td>\n",
              "      <td>1</td>\n",
              "      <td>0</td>\n",
              "      <td>0</td>\n",
              "      <td>0</td>\n",
              "      <td>1</td>\n",
              "      <td>36</td>\n",
              "      <td>2021</td>\n",
              "      <td>6</td>\n",
              "      <td>2</td>\n",
              "      <td>26</td>\n",
              "      <td>1</td>\n",
              "      <td>29</td>\n",
              "      <td>2022</td>\n",
              "      <td>9</td>\n",
              "      <td>3</td>\n",
              "      <td>39</td>\n",
              "      <td>1</td>\n",
              "      <td>27</td>\n",
              "    </tr>\n",
              "    <tr>\n",
              "      <th>3</th>\n",
              "      <td>100.0</td>\n",
              "      <td>type 2</td>\n",
              "      <td>1</td>\n",
              "      <td>3651215.0</td>\n",
              "      <td>0.0</td>\n",
              "      <td>type 2</td>\n",
              "      <td>type 2</td>\n",
              "      <td>type 5</td>\n",
              "      <td>type 5</td>\n",
              "      <td>type 5</td>\n",
              "      <td>type 3</td>\n",
              "      <td>type 11</td>\n",
              "      <td>type 2</td>\n",
              "      <td>type 2</td>\n",
              "      <td>0</td>\n",
              "      <td>1</td>\n",
              "      <td>1</td>\n",
              "      <td>0</td>\n",
              "      <td>0</td>\n",
              "      <td>1</td>\n",
              "      <td>0</td>\n",
              "      <td>1</td>\n",
              "      <td>1</td>\n",
              "      <td>1</td>\n",
              "      <td>1</td>\n",
              "      <td>0</td>\n",
              "      <td>1</td>\n",
              "      <td>1</td>\n",
              "      <td>1</td>\n",
              "      <td>1</td>\n",
              "      <td>1</td>\n",
              "      <td>0</td>\n",
              "      <td>0</td>\n",
              "      <td>1</td>\n",
              "      <td>0</td>\n",
              "      <td>0</td>\n",
              "      <td>1</td>\n",
              "      <td>1</td>\n",
              "      <td>0</td>\n",
              "      <td>0</td>\n",
              "      <td>0</td>\n",
              "      <td>1</td>\n",
              "      <td>36</td>\n",
              "      <td>2021</td>\n",
              "      <td>6</td>\n",
              "      <td>2</td>\n",
              "      <td>26</td>\n",
              "      <td>1</td>\n",
              "      <td>29</td>\n",
              "      <td>2023</td>\n",
              "      <td>8</td>\n",
              "      <td>3</td>\n",
              "      <td>31</td>\n",
              "      <td>4</td>\n",
              "      <td>4</td>\n",
              "    </tr>\n",
              "    <tr>\n",
              "      <th>4</th>\n",
              "      <td>100.0</td>\n",
              "      <td>type 2</td>\n",
              "      <td>1</td>\n",
              "      <td>4109017.0</td>\n",
              "      <td>0.0</td>\n",
              "      <td>type 2</td>\n",
              "      <td>type 2</td>\n",
              "      <td>type 5</td>\n",
              "      <td>type 5</td>\n",
              "      <td>type 5</td>\n",
              "      <td>type 3</td>\n",
              "      <td>type 11</td>\n",
              "      <td>type 2</td>\n",
              "      <td>type 2</td>\n",
              "      <td>0</td>\n",
              "      <td>1</td>\n",
              "      <td>1</td>\n",
              "      <td>0</td>\n",
              "      <td>0</td>\n",
              "      <td>1</td>\n",
              "      <td>0</td>\n",
              "      <td>1</td>\n",
              "      <td>1</td>\n",
              "      <td>1</td>\n",
              "      <td>1</td>\n",
              "      <td>0</td>\n",
              "      <td>1</td>\n",
              "      <td>1</td>\n",
              "      <td>1</td>\n",
              "      <td>1</td>\n",
              "      <td>1</td>\n",
              "      <td>0</td>\n",
              "      <td>0</td>\n",
              "      <td>1</td>\n",
              "      <td>0</td>\n",
              "      <td>0</td>\n",
              "      <td>1</td>\n",
              "      <td>1</td>\n",
              "      <td>0</td>\n",
              "      <td>0</td>\n",
              "      <td>0</td>\n",
              "      <td>1</td>\n",
              "      <td>36</td>\n",
              "      <td>2021</td>\n",
              "      <td>6</td>\n",
              "      <td>2</td>\n",
              "      <td>26</td>\n",
              "      <td>1</td>\n",
              "      <td>29</td>\n",
              "      <td>2023</td>\n",
              "      <td>8</td>\n",
              "      <td>3</td>\n",
              "      <td>34</td>\n",
              "      <td>5</td>\n",
              "      <td>26</td>\n",
              "    </tr>\n",
              "    <tr>\n",
              "      <th>...</th>\n",
              "      <td>...</td>\n",
              "      <td>...</td>\n",
              "      <td>...</td>\n",
              "      <td>...</td>\n",
              "      <td>...</td>\n",
              "      <td>...</td>\n",
              "      <td>...</td>\n",
              "      <td>...</td>\n",
              "      <td>...</td>\n",
              "      <td>...</td>\n",
              "      <td>...</td>\n",
              "      <td>...</td>\n",
              "      <td>...</td>\n",
              "      <td>...</td>\n",
              "      <td>...</td>\n",
              "      <td>...</td>\n",
              "      <td>...</td>\n",
              "      <td>...</td>\n",
              "      <td>...</td>\n",
              "      <td>...</td>\n",
              "      <td>...</td>\n",
              "      <td>...</td>\n",
              "      <td>...</td>\n",
              "      <td>...</td>\n",
              "      <td>...</td>\n",
              "      <td>...</td>\n",
              "      <td>...</td>\n",
              "      <td>...</td>\n",
              "      <td>...</td>\n",
              "      <td>...</td>\n",
              "      <td>...</td>\n",
              "      <td>...</td>\n",
              "      <td>...</td>\n",
              "      <td>...</td>\n",
              "      <td>...</td>\n",
              "      <td>...</td>\n",
              "      <td>...</td>\n",
              "      <td>...</td>\n",
              "      <td>...</td>\n",
              "      <td>...</td>\n",
              "      <td>...</td>\n",
              "      <td>...</td>\n",
              "      <td>...</td>\n",
              "      <td>...</td>\n",
              "      <td>...</td>\n",
              "      <td>...</td>\n",
              "      <td>...</td>\n",
              "      <td>...</td>\n",
              "      <td>...</td>\n",
              "      <td>...</td>\n",
              "      <td>...</td>\n",
              "      <td>...</td>\n",
              "      <td>...</td>\n",
              "      <td>...</td>\n",
              "      <td>...</td>\n",
              "    </tr>\n",
              "    <tr>\n",
              "      <th>1358674</th>\n",
              "      <td>324026.0</td>\n",
              "      <td>type 3</td>\n",
              "      <td>52</td>\n",
              "      <td>3923712.0</td>\n",
              "      <td>1.0</td>\n",
              "      <td>type 1</td>\n",
              "      <td>type 1</td>\n",
              "      <td>type 1</td>\n",
              "      <td>type 1</td>\n",
              "      <td>type 1</td>\n",
              "      <td>type 3</td>\n",
              "      <td>type 8</td>\n",
              "      <td>type 6</td>\n",
              "      <td>type 6</td>\n",
              "      <td>1</td>\n",
              "      <td>0</td>\n",
              "      <td>1</td>\n",
              "      <td>0</td>\n",
              "      <td>1</td>\n",
              "      <td>0</td>\n",
              "      <td>0</td>\n",
              "      <td>1</td>\n",
              "      <td>1</td>\n",
              "      <td>0</td>\n",
              "      <td>0</td>\n",
              "      <td>1</td>\n",
              "      <td>1</td>\n",
              "      <td>0</td>\n",
              "      <td>1</td>\n",
              "      <td>1</td>\n",
              "      <td>1</td>\n",
              "      <td>1</td>\n",
              "      <td>1</td>\n",
              "      <td>1</td>\n",
              "      <td>1</td>\n",
              "      <td>1</td>\n",
              "      <td>0</td>\n",
              "      <td>1</td>\n",
              "      <td>0</td>\n",
              "      <td>1</td>\n",
              "      <td>0</td>\n",
              "      <td>0</td>\n",
              "      <td>86</td>\n",
              "      <td>2022</td>\n",
              "      <td>4</td>\n",
              "      <td>2</td>\n",
              "      <td>17</td>\n",
              "      <td>3</td>\n",
              "      <td>28</td>\n",
              "      <td>2023</td>\n",
              "      <td>1</td>\n",
              "      <td>1</td>\n",
              "      <td>4</td>\n",
              "      <td>4</td>\n",
              "      <td>27</td>\n",
              "    </tr>\n",
              "    <tr>\n",
              "      <th>1358675</th>\n",
              "      <td>324026.0</td>\n",
              "      <td>type 4</td>\n",
              "      <td>1490</td>\n",
              "      <td>3988938.0</td>\n",
              "      <td>1.0</td>\n",
              "      <td>type 1</td>\n",
              "      <td>type 1</td>\n",
              "      <td>type 1</td>\n",
              "      <td>type 1</td>\n",
              "      <td>type 1</td>\n",
              "      <td>type 3</td>\n",
              "      <td>type 8</td>\n",
              "      <td>type 6</td>\n",
              "      <td>type 6</td>\n",
              "      <td>1</td>\n",
              "      <td>0</td>\n",
              "      <td>1</td>\n",
              "      <td>0</td>\n",
              "      <td>1</td>\n",
              "      <td>0</td>\n",
              "      <td>0</td>\n",
              "      <td>1</td>\n",
              "      <td>1</td>\n",
              "      <td>0</td>\n",
              "      <td>0</td>\n",
              "      <td>1</td>\n",
              "      <td>1</td>\n",
              "      <td>0</td>\n",
              "      <td>1</td>\n",
              "      <td>1</td>\n",
              "      <td>1</td>\n",
              "      <td>1</td>\n",
              "      <td>1</td>\n",
              "      <td>1</td>\n",
              "      <td>1</td>\n",
              "      <td>1</td>\n",
              "      <td>0</td>\n",
              "      <td>1</td>\n",
              "      <td>0</td>\n",
              "      <td>1</td>\n",
              "      <td>0</td>\n",
              "      <td>0</td>\n",
              "      <td>86</td>\n",
              "      <td>2022</td>\n",
              "      <td>4</td>\n",
              "      <td>2</td>\n",
              "      <td>17</td>\n",
              "      <td>3</td>\n",
              "      <td>28</td>\n",
              "      <td>2023</td>\n",
              "      <td>1</td>\n",
              "      <td>1</td>\n",
              "      <td>4</td>\n",
              "      <td>4</td>\n",
              "      <td>27</td>\n",
              "    </tr>\n",
              "    <tr>\n",
              "      <th>1358676</th>\n",
              "      <td>324026.0</td>\n",
              "      <td>type 2</td>\n",
              "      <td>1</td>\n",
              "      <td>569263.0</td>\n",
              "      <td>1.0</td>\n",
              "      <td>type 1</td>\n",
              "      <td>type 1</td>\n",
              "      <td>type 1</td>\n",
              "      <td>type 1</td>\n",
              "      <td>type 1</td>\n",
              "      <td>type 3</td>\n",
              "      <td>type 8</td>\n",
              "      <td>type 6</td>\n",
              "      <td>type 6</td>\n",
              "      <td>1</td>\n",
              "      <td>0</td>\n",
              "      <td>1</td>\n",
              "      <td>0</td>\n",
              "      <td>1</td>\n",
              "      <td>0</td>\n",
              "      <td>0</td>\n",
              "      <td>1</td>\n",
              "      <td>1</td>\n",
              "      <td>0</td>\n",
              "      <td>0</td>\n",
              "      <td>1</td>\n",
              "      <td>1</td>\n",
              "      <td>0</td>\n",
              "      <td>1</td>\n",
              "      <td>1</td>\n",
              "      <td>1</td>\n",
              "      <td>1</td>\n",
              "      <td>1</td>\n",
              "      <td>1</td>\n",
              "      <td>1</td>\n",
              "      <td>1</td>\n",
              "      <td>0</td>\n",
              "      <td>1</td>\n",
              "      <td>0</td>\n",
              "      <td>1</td>\n",
              "      <td>0</td>\n",
              "      <td>0</td>\n",
              "      <td>86</td>\n",
              "      <td>2022</td>\n",
              "      <td>4</td>\n",
              "      <td>2</td>\n",
              "      <td>17</td>\n",
              "      <td>3</td>\n",
              "      <td>28</td>\n",
              "      <td>2023</td>\n",
              "      <td>1</td>\n",
              "      <td>1</td>\n",
              "      <td>2</td>\n",
              "      <td>3</td>\n",
              "      <td>12</td>\n",
              "    </tr>\n",
              "    <tr>\n",
              "      <th>1358677</th>\n",
              "      <td>324027.0</td>\n",
              "      <td>type 1</td>\n",
              "      <td>1</td>\n",
              "      <td>101333.0</td>\n",
              "      <td>0.0</td>\n",
              "      <td>type 2</td>\n",
              "      <td>type 2</td>\n",
              "      <td>type 11</td>\n",
              "      <td>type 7</td>\n",
              "      <td>type 2</td>\n",
              "      <td>type 5</td>\n",
              "      <td>type 18</td>\n",
              "      <td>type 3</td>\n",
              "      <td>type 3</td>\n",
              "      <td>1</td>\n",
              "      <td>1</td>\n",
              "      <td>1</td>\n",
              "      <td>1</td>\n",
              "      <td>1</td>\n",
              "      <td>1</td>\n",
              "      <td>1</td>\n",
              "      <td>1</td>\n",
              "      <td>1</td>\n",
              "      <td>1</td>\n",
              "      <td>1</td>\n",
              "      <td>1</td>\n",
              "      <td>1</td>\n",
              "      <td>1</td>\n",
              "      <td>1</td>\n",
              "      <td>1</td>\n",
              "      <td>1</td>\n",
              "      <td>1</td>\n",
              "      <td>1</td>\n",
              "      <td>1</td>\n",
              "      <td>1</td>\n",
              "      <td>1</td>\n",
              "      <td>1</td>\n",
              "      <td>1</td>\n",
              "      <td>1</td>\n",
              "      <td>1</td>\n",
              "      <td>1</td>\n",
              "      <td>1</td>\n",
              "      <td>0</td>\n",
              "      <td>2022</td>\n",
              "      <td>7</td>\n",
              "      <td>3</td>\n",
              "      <td>30</td>\n",
              "      <td>2</td>\n",
              "      <td>27</td>\n",
              "      <td>2023</td>\n",
              "      <td>1</td>\n",
              "      <td>1</td>\n",
              "      <td>3</td>\n",
              "      <td>2</td>\n",
              "      <td>18</td>\n",
              "    </tr>\n",
              "    <tr>\n",
              "      <th>1358678</th>\n",
              "      <td>324027.0</td>\n",
              "      <td>NaN</td>\n",
              "      <td>1</td>\n",
              "      <td>75390.0</td>\n",
              "      <td>NaN</td>\n",
              "      <td>type 2</td>\n",
              "      <td>type 2</td>\n",
              "      <td>type 11</td>\n",
              "      <td>type 7</td>\n",
              "      <td>type 2</td>\n",
              "      <td>type 5</td>\n",
              "      <td>type 18</td>\n",
              "      <td>type 3</td>\n",
              "      <td>type 3</td>\n",
              "      <td>1</td>\n",
              "      <td>1</td>\n",
              "      <td>1</td>\n",
              "      <td>1</td>\n",
              "      <td>1</td>\n",
              "      <td>1</td>\n",
              "      <td>1</td>\n",
              "      <td>1</td>\n",
              "      <td>1</td>\n",
              "      <td>1</td>\n",
              "      <td>1</td>\n",
              "      <td>1</td>\n",
              "      <td>1</td>\n",
              "      <td>1</td>\n",
              "      <td>1</td>\n",
              "      <td>1</td>\n",
              "      <td>1</td>\n",
              "      <td>1</td>\n",
              "      <td>1</td>\n",
              "      <td>1</td>\n",
              "      <td>1</td>\n",
              "      <td>1</td>\n",
              "      <td>1</td>\n",
              "      <td>1</td>\n",
              "      <td>1</td>\n",
              "      <td>1</td>\n",
              "      <td>1</td>\n",
              "      <td>1</td>\n",
              "      <td>0</td>\n",
              "      <td>2022</td>\n",
              "      <td>7</td>\n",
              "      <td>3</td>\n",
              "      <td>30</td>\n",
              "      <td>2</td>\n",
              "      <td>27</td>\n",
              "      <td>2022</td>\n",
              "      <td>7</td>\n",
              "      <td>3</td>\n",
              "      <td>26</td>\n",
              "      <td>5</td>\n",
              "      <td>2</td>\n",
              "    </tr>\n",
              "  </tbody>\n",
              "</table>\n",
              "<p>1358679 rows × 55 columns</p>\n",
              "</div>"
            ],
            "text/plain": [
              "         people_id activity_category  ...  activity_WeekDay  activity_Day\n",
              "0            100.0            type 4  ...                 5            26\n",
              "1            100.0            type 2  ...                 1            27\n",
              "2            100.0            type 2  ...                 1            27\n",
              "3            100.0            type 2  ...                 4             4\n",
              "4            100.0            type 2  ...                 5            26\n",
              "...            ...               ...  ...               ...           ...\n",
              "1358674   324026.0            type 3  ...                 4            27\n",
              "1358675   324026.0            type 4  ...                 4            27\n",
              "1358676   324026.0            type 2  ...                 3            12\n",
              "1358677   324027.0            type 1  ...                 2            18\n",
              "1358678   324027.0               NaN  ...                 5             2\n",
              "\n",
              "[1358679 rows x 55 columns]"
            ]
          },
          "metadata": {
            "tags": []
          },
          "execution_count": 375
        }
      ]
    },
    {
      "cell_type": "code",
      "metadata": {
        "id": "11ekXhPTdjJj",
        "colab_type": "code",
        "colab": {}
      },
      "source": [
        ""
      ],
      "execution_count": 0,
      "outputs": []
    },
    {
      "cell_type": "code",
      "metadata": {
        "id": "vnIUQ6sCMA9_",
        "colab_type": "code",
        "outputId": "bfe3c735-92ce-465a-d173-9377739586a9",
        "colab": {
          "base_uri": "https://localhost:8080/",
          "height": 1000
        }
      },
      "source": [
        "dtypes1_df = pd.DataFrame(df_new.dtypes)\n",
        "dtypes1_df\n",
        "len(dtypes1_df)\n",
        "dtypes1_df"
      ],
      "execution_count": 0,
      "outputs": [
        {
          "output_type": "execute_result",
          "data": {
            "text/html": [
              "<div>\n",
              "<style scoped>\n",
              "    .dataframe tbody tr th:only-of-type {\n",
              "        vertical-align: middle;\n",
              "    }\n",
              "\n",
              "    .dataframe tbody tr th {\n",
              "        vertical-align: top;\n",
              "    }\n",
              "\n",
              "    .dataframe thead th {\n",
              "        text-align: right;\n",
              "    }\n",
              "</style>\n",
              "<table border=\"1\" class=\"dataframe\">\n",
              "  <thead>\n",
              "    <tr style=\"text-align: right;\">\n",
              "      <th></th>\n",
              "      <th>0</th>\n",
              "    </tr>\n",
              "  </thead>\n",
              "  <tbody>\n",
              "    <tr>\n",
              "      <th>people_id</th>\n",
              "      <td>float64</td>\n",
              "    </tr>\n",
              "    <tr>\n",
              "      <th>activity_category</th>\n",
              "      <td>object</td>\n",
              "    </tr>\n",
              "    <tr>\n",
              "      <th>activity_type</th>\n",
              "      <td>int64</td>\n",
              "    </tr>\n",
              "    <tr>\n",
              "      <th>activity_id</th>\n",
              "      <td>float64</td>\n",
              "    </tr>\n",
              "    <tr>\n",
              "      <th>outcome</th>\n",
              "      <td>float64</td>\n",
              "    </tr>\n",
              "    <tr>\n",
              "      <th>char_1</th>\n",
              "      <td>object</td>\n",
              "    </tr>\n",
              "    <tr>\n",
              "      <th>char_2</th>\n",
              "      <td>object</td>\n",
              "    </tr>\n",
              "    <tr>\n",
              "      <th>char_3</th>\n",
              "      <td>object</td>\n",
              "    </tr>\n",
              "    <tr>\n",
              "      <th>char_4</th>\n",
              "      <td>object</td>\n",
              "    </tr>\n",
              "    <tr>\n",
              "      <th>char_5</th>\n",
              "      <td>object</td>\n",
              "    </tr>\n",
              "    <tr>\n",
              "      <th>char_6</th>\n",
              "      <td>object</td>\n",
              "    </tr>\n",
              "    <tr>\n",
              "      <th>char_7</th>\n",
              "      <td>object</td>\n",
              "    </tr>\n",
              "    <tr>\n",
              "      <th>char_8</th>\n",
              "      <td>object</td>\n",
              "    </tr>\n",
              "    <tr>\n",
              "      <th>char_9</th>\n",
              "      <td>object</td>\n",
              "    </tr>\n",
              "    <tr>\n",
              "      <th>char_10</th>\n",
              "      <td>int64</td>\n",
              "    </tr>\n",
              "    <tr>\n",
              "      <th>char_11</th>\n",
              "      <td>int64</td>\n",
              "    </tr>\n",
              "    <tr>\n",
              "      <th>char_12</th>\n",
              "      <td>int64</td>\n",
              "    </tr>\n",
              "    <tr>\n",
              "      <th>char_13</th>\n",
              "      <td>int64</td>\n",
              "    </tr>\n",
              "    <tr>\n",
              "      <th>char_14</th>\n",
              "      <td>int64</td>\n",
              "    </tr>\n",
              "    <tr>\n",
              "      <th>char_15</th>\n",
              "      <td>int64</td>\n",
              "    </tr>\n",
              "    <tr>\n",
              "      <th>char_16</th>\n",
              "      <td>int64</td>\n",
              "    </tr>\n",
              "    <tr>\n",
              "      <th>char_17</th>\n",
              "      <td>int64</td>\n",
              "    </tr>\n",
              "    <tr>\n",
              "      <th>char_18</th>\n",
              "      <td>int64</td>\n",
              "    </tr>\n",
              "    <tr>\n",
              "      <th>char_19</th>\n",
              "      <td>int64</td>\n",
              "    </tr>\n",
              "    <tr>\n",
              "      <th>char_20</th>\n",
              "      <td>int64</td>\n",
              "    </tr>\n",
              "    <tr>\n",
              "      <th>char_21</th>\n",
              "      <td>int64</td>\n",
              "    </tr>\n",
              "    <tr>\n",
              "      <th>char_22</th>\n",
              "      <td>int64</td>\n",
              "    </tr>\n",
              "    <tr>\n",
              "      <th>char_23</th>\n",
              "      <td>int64</td>\n",
              "    </tr>\n",
              "    <tr>\n",
              "      <th>char_24</th>\n",
              "      <td>int64</td>\n",
              "    </tr>\n",
              "    <tr>\n",
              "      <th>char_25</th>\n",
              "      <td>int64</td>\n",
              "    </tr>\n",
              "    <tr>\n",
              "      <th>char_26</th>\n",
              "      <td>int64</td>\n",
              "    </tr>\n",
              "    <tr>\n",
              "      <th>char_27</th>\n",
              "      <td>int64</td>\n",
              "    </tr>\n",
              "    <tr>\n",
              "      <th>char_28</th>\n",
              "      <td>int64</td>\n",
              "    </tr>\n",
              "    <tr>\n",
              "      <th>char_29</th>\n",
              "      <td>int64</td>\n",
              "    </tr>\n",
              "    <tr>\n",
              "      <th>char_30</th>\n",
              "      <td>int64</td>\n",
              "    </tr>\n",
              "    <tr>\n",
              "      <th>char_31</th>\n",
              "      <td>int64</td>\n",
              "    </tr>\n",
              "    <tr>\n",
              "      <th>char_32</th>\n",
              "      <td>int64</td>\n",
              "    </tr>\n",
              "    <tr>\n",
              "      <th>char_33</th>\n",
              "      <td>int64</td>\n",
              "    </tr>\n",
              "    <tr>\n",
              "      <th>char_34</th>\n",
              "      <td>int64</td>\n",
              "    </tr>\n",
              "    <tr>\n",
              "      <th>char_35</th>\n",
              "      <td>int64</td>\n",
              "    </tr>\n",
              "    <tr>\n",
              "      <th>char_36</th>\n",
              "      <td>int64</td>\n",
              "    </tr>\n",
              "    <tr>\n",
              "      <th>char_37</th>\n",
              "      <td>int64</td>\n",
              "    </tr>\n",
              "    <tr>\n",
              "      <th>char_38</th>\n",
              "      <td>int64</td>\n",
              "    </tr>\n",
              "    <tr>\n",
              "      <th>Year</th>\n",
              "      <td>int64</td>\n",
              "    </tr>\n",
              "    <tr>\n",
              "      <th>Month</th>\n",
              "      <td>int64</td>\n",
              "    </tr>\n",
              "    <tr>\n",
              "      <th>Quarter</th>\n",
              "      <td>int64</td>\n",
              "    </tr>\n",
              "    <tr>\n",
              "      <th>Week</th>\n",
              "      <td>int64</td>\n",
              "    </tr>\n",
              "    <tr>\n",
              "      <th>WeekDay</th>\n",
              "      <td>int64</td>\n",
              "    </tr>\n",
              "    <tr>\n",
              "      <th>Day</th>\n",
              "      <td>int64</td>\n",
              "    </tr>\n",
              "    <tr>\n",
              "      <th>activity_Year</th>\n",
              "      <td>int64</td>\n",
              "    </tr>\n",
              "    <tr>\n",
              "      <th>activity_Month</th>\n",
              "      <td>int64</td>\n",
              "    </tr>\n",
              "    <tr>\n",
              "      <th>activity_Quarter</th>\n",
              "      <td>int64</td>\n",
              "    </tr>\n",
              "    <tr>\n",
              "      <th>activity_Week</th>\n",
              "      <td>int64</td>\n",
              "    </tr>\n",
              "    <tr>\n",
              "      <th>activity_WeekDay</th>\n",
              "      <td>int64</td>\n",
              "    </tr>\n",
              "    <tr>\n",
              "      <th>activity_Day</th>\n",
              "      <td>int64</td>\n",
              "    </tr>\n",
              "  </tbody>\n",
              "</table>\n",
              "</div>"
            ],
            "text/plain": [
              "                         0\n",
              "people_id          float64\n",
              "activity_category   object\n",
              "activity_type        int64\n",
              "activity_id        float64\n",
              "outcome            float64\n",
              "char_1              object\n",
              "char_2              object\n",
              "char_3              object\n",
              "char_4              object\n",
              "char_5              object\n",
              "char_6              object\n",
              "char_7              object\n",
              "char_8              object\n",
              "char_9              object\n",
              "char_10              int64\n",
              "char_11              int64\n",
              "char_12              int64\n",
              "char_13              int64\n",
              "char_14              int64\n",
              "char_15              int64\n",
              "char_16              int64\n",
              "char_17              int64\n",
              "char_18              int64\n",
              "char_19              int64\n",
              "char_20              int64\n",
              "char_21              int64\n",
              "char_22              int64\n",
              "char_23              int64\n",
              "char_24              int64\n",
              "char_25              int64\n",
              "char_26              int64\n",
              "char_27              int64\n",
              "char_28              int64\n",
              "char_29              int64\n",
              "char_30              int64\n",
              "char_31              int64\n",
              "char_32              int64\n",
              "char_33              int64\n",
              "char_34              int64\n",
              "char_35              int64\n",
              "char_36              int64\n",
              "char_37              int64\n",
              "char_38              int64\n",
              "Year                 int64\n",
              "Month                int64\n",
              "Quarter              int64\n",
              "Week                 int64\n",
              "WeekDay              int64\n",
              "Day                  int64\n",
              "activity_Year        int64\n",
              "activity_Month       int64\n",
              "activity_Quarter     int64\n",
              "activity_Week        int64\n",
              "activity_WeekDay     int64\n",
              "activity_Day         int64"
            ]
          },
          "metadata": {
            "tags": []
          },
          "execution_count": 376
        }
      ]
    },
    {
      "cell_type": "code",
      "metadata": {
        "id": "oKmcEyBFNwdf",
        "colab_type": "code",
        "outputId": "829dff1d-09cb-4007-b4d7-5b8380fabeeb",
        "colab": {
          "base_uri": "https://localhost:8080/",
          "height": 34
        }
      },
      "source": [
        "df_new.columns[df_new.dtypes == 'O']\n",
        "# len(df_new.columns[df_new.dtypes == 'O'])\n",
        "len(df_new.columns[df_new.dtypes == 'O'])"
      ],
      "execution_count": 0,
      "outputs": [
        {
          "output_type": "execute_result",
          "data": {
            "text/plain": [
              "10"
            ]
          },
          "metadata": {
            "tags": []
          },
          "execution_count": 377
        }
      ]
    },
    {
      "cell_type": "code",
      "metadata": {
        "id": "uw2-Y6RgN4bC",
        "colab_type": "code",
        "outputId": "dcbf4365-8b46-49e1-b021-d2219b4eff44",
        "colab": {
          "base_uri": "https://localhost:8080/",
          "height": 34
        }
      },
      "source": [
        "df_new.shape"
      ],
      "execution_count": 0,
      "outputs": [
        {
          "output_type": "execute_result",
          "data": {
            "text/plain": [
              "(1358679, 55)"
            ]
          },
          "metadata": {
            "tags": []
          },
          "execution_count": 378
        }
      ]
    },
    {
      "cell_type": "code",
      "metadata": {
        "id": "JMhhoqi19y2e",
        "colab_type": "code",
        "outputId": "a7f93b30-4dcb-4b33-8c7c-f81eb364ec55",
        "colab": {
          "base_uri": "https://localhost:8080/",
          "height": 68
        }
      },
      "source": [
        "df_new.columns[df_new.dtypes=='O']"
      ],
      "execution_count": 0,
      "outputs": [
        {
          "output_type": "execute_result",
          "data": {
            "text/plain": [
              "Index(['activity_category', 'char_1', 'char_2', 'char_3', 'char_4', 'char_5',\n",
              "       'char_6', 'char_7', 'char_8', 'char_9'],\n",
              "      dtype='object')"
            ]
          },
          "metadata": {
            "tags": []
          },
          "execution_count": 379
        }
      ]
    },
    {
      "cell_type": "code",
      "metadata": {
        "id": "qGQX3_YJ2Sfy",
        "colab_type": "code",
        "colab": {}
      },
      "source": [
        "df_new_f = df_new"
      ],
      "execution_count": 0,
      "outputs": []
    },
    {
      "cell_type": "code",
      "metadata": {
        "id": "4s4mEeex2sIn",
        "colab_type": "code",
        "colab": {}
      },
      "source": [
        "df_new = df_new.loc[:,['char_29', 'char_30', 'char_31','char_32', 'char_33', 'char_34', 'char_35', 'char_36', 'char_37']].astype('bool').where"
      ],
      "execution_count": 0,
      "outputs": []
    },
    {
      "cell_type": "code",
      "metadata": {
        "id": "e-XOWo6x3r0y",
        "colab_type": "code",
        "colab": {}
      },
      "source": [
        "# df_new.columns[df_new.dtypes == 'bool']"
      ],
      "execution_count": 0,
      "outputs": []
    },
    {
      "cell_type": "code",
      "metadata": {
        "id": "qGUuRUsL4qTi",
        "colab_type": "code",
        "outputId": "1ba2a8a5-eb6b-46d9-9ee8-a562d8cff698",
        "colab": {
          "base_uri": "https://localhost:8080/",
          "height": 170
        }
      },
      "source": [
        "# def bool_fun(df):\n",
        "#     if df.columns[df.dtypes == 'bool']:\n",
        "#         if \n",
        "bool_c = ['char_29', 'char_30', 'char_31','char_32', 'char_33', 'char_34', 'char_35', 'char_36', 'char_37']\n",
        "for bc in bool_c:\n",
        "    print(bc)\n",
        "    df_new = np.where(df_new_f[bc] == True,1,0)\n",
        "\n",
        "# for column in cat_columns:\n",
        "#   df_new[column] = np.where(df_new[column] == True,0,1)\n",
        "# print('Distinct datatypes after processing: ',df_new.dtypes.unique())\n",
        "\n",
        "# #Notice that is all boolean columns are repleace with binary numbers\n",
        "# print('shape of dataset after boolean columns replecement: ',df_new.shape)"
      ],
      "execution_count": 0,
      "outputs": [
        {
          "output_type": "stream",
          "text": [
            "char_29\n",
            "char_30\n",
            "char_31\n",
            "char_32\n",
            "char_33\n",
            "char_34\n",
            "char_35\n",
            "char_36\n",
            "char_37\n"
          ],
          "name": "stdout"
        }
      ]
    },
    {
      "cell_type": "code",
      "metadata": {
        "id": "zhAYH5cD7B4Z",
        "colab_type": "code",
        "colab": {}
      },
      "source": [
        "df_new\n",
        "df_new_f = df_new_f.dropna()"
      ],
      "execution_count": 0,
      "outputs": []
    },
    {
      "cell_type": "code",
      "metadata": {
        "id": "gDNlHxLMMJZ1",
        "colab_type": "code",
        "outputId": "67dd51d2-0e95-4c7a-c1b4-b3b660a5e07d",
        "colab": {
          "base_uri": "https://localhost:8080/",
          "height": 153
        }
      },
      "source": [
        "dtypes1_df.columns = ['dataTypes']\n",
        "dtypes1_df.info()\n",
        "\n",
        "target = ['outcome']\n",
        "# Seperate the numerica caolumns\n",
        "\n",
        "numeric_columns = list(set(dtypes1_df.index[(dtypes1_df.dataTypes == 'float64') | (dtypes1_df.dataTypes == 'int64')].values) -set(target))\n",
        "cat_columns = list(set(dtypes1_df.index[(dtypes1_df.dataTypes == 'O')].values) -set(target))\n",
        "\n",
        "numeric_columns\n",
        "\n",
        "print(len(numeric_columns))\n",
        "print(len(cat_columns))"
      ],
      "execution_count": 0,
      "outputs": [
        {
          "output_type": "stream",
          "text": [
            "<class 'pandas.core.frame.DataFrame'>\n",
            "Index: 55 entries, people_id to activity_Day\n",
            "Data columns (total 1 columns):\n",
            "dataTypes    55 non-null object\n",
            "dtypes: object(1)\n",
            "memory usage: 3.4+ KB\n",
            "44\n",
            "10\n"
          ],
          "name": "stdout"
        }
      ]
    },
    {
      "cell_type": "code",
      "metadata": {
        "id": "56dg8Vst2Frj",
        "colab_type": "code",
        "outputId": "d6842a16-8bbf-493f-c915-cb24d413581d",
        "colab": {
          "base_uri": "https://localhost:8080/",
          "height": 204
        }
      },
      "source": [
        "df_new\n",
        "\n",
        "df_new_f.columns"
      ],
      "execution_count": 0,
      "outputs": [
        {
          "output_type": "execute_result",
          "data": {
            "text/plain": [
              "Index(['people_id', 'activity_category', 'activity_type', 'activity_id',\n",
              "       'outcome', 'char_1', 'char_2', 'char_3', 'char_4', 'char_5', 'char_6',\n",
              "       'char_7', 'char_8', 'char_9', 'char_10', 'char_11', 'char_12',\n",
              "       'char_13', 'char_14', 'char_15', 'char_16', 'char_17', 'char_18',\n",
              "       'char_19', 'char_20', 'char_21', 'char_22', 'char_23', 'char_24',\n",
              "       'char_25', 'char_26', 'char_27', 'char_28', 'char_29', 'char_30',\n",
              "       'char_31', 'char_32', 'char_33', 'char_34', 'char_35', 'char_36',\n",
              "       'char_37', 'char_38', 'Year', 'Month', 'Quarter', 'Week', 'WeekDay',\n",
              "       'Day', 'activity_Year', 'activity_Month', 'activity_Quarter',\n",
              "       'activity_Week', 'activity_WeekDay', 'activity_Day'],\n",
              "      dtype='object')"
            ]
          },
          "metadata": {
            "tags": []
          },
          "execution_count": 406
        }
      ]
    },
    {
      "cell_type": "code",
      "metadata": {
        "id": "fnmEujKuKSLA",
        "colab_type": "code",
        "colab": {}
      },
      "source": [
        "# df_new.dtypes.unique()"
      ],
      "execution_count": 0,
      "outputs": []
    },
    {
      "cell_type": "code",
      "metadata": {
        "id": "FoXi5BU6LofJ",
        "colab_type": "code",
        "colab": {}
      },
      "source": [
        "# from sklearn.preprocessing import LabelEncoder,OneHotEncoder\n",
        "# # Define a function that will intake the raw dataframe and the column name and return a one hot encode DF\n",
        "# def create_ohe(df,col):\n",
        "#   le = LabelEncoder()\n",
        "#   a = le.fit_transform(df_new[col]).reshape(-1,1)\n",
        "#   ohe = OneHotEncoder(sparse=False)\n",
        "#   column_names = [col+ \"_\"+str(i) for i in le.classes_]\n",
        "#   return (pd.DataFrame(ohe.fit_transform(a),columns=column_names))"
      ],
      "execution_count": 0,
      "outputs": []
    },
    {
      "cell_type": "code",
      "metadata": {
        "id": "E8xUPt989Bt-",
        "colab_type": "code",
        "colab": {}
      },
      "source": [
        "from sklearn.preprocessing import LabelEncoder,OneHotEncoder\n",
        "# Define a function that will intake the raw dataframe and the column name and return a one hot encode DF\n",
        "def create_ohe(df,col):\n",
        "  le = LabelEncoder()\n",
        "  a = le.fit_transform(df_new_f[col]).reshape(-1,1)\n",
        "  ohe = OneHotEncoder(sparse=False)\n",
        "  column_names = [col+ \"_\"+str(i) for i in le.classes_]\n",
        "  return (pd.DataFrame(ohe.fit_transform(a),columns=column_names))"
      ],
      "execution_count": 0,
      "outputs": []
    },
    {
      "cell_type": "code",
      "metadata": {
        "id": "8dXKE1dpLp4K",
        "colab_type": "code",
        "outputId": "2d964337-8e35-43b9-aafc-c2db3642eec2",
        "colab": {
          "base_uri": "https://localhost:8080/",
          "height": 34
        }
      },
      "source": [
        "# Sice above function coverts the column, one at a time,we createa loop to create final dataset with all features \n",
        "\n",
        "# target = ['outcome']\n",
        "# Seperate the numerica caolumns\n",
        "\n",
        "# numeric_columns = list(set(temp_f.index[(temp_f.DataTypes == 'float64') | (temp_f.DataTypes == 'int64')].values) -set(target))\n",
        "\n",
        "temp = df_new_f[numeric_columns]\n",
        "# for column in categorical_columns:\n",
        "for column in cat_columns:\n",
        "  temp_df = create_ohe(df_new_f,column)\n",
        "  temp = pd.concat([temp,temp_df],axis=1)\n",
        "print('shape of dataframe after ohe', temp.shape)"
      ],
      "execution_count": 0,
      "outputs": [
        {
          "output_type": "stream",
          "text": [
            "shape of dataframe after ohe (1358678, 181)\n"
          ],
          "name": "stdout"
        }
      ]
    },
    {
      "cell_type": "code",
      "metadata": {
        "id": "1O8EFwXpEve7",
        "colab_type": "code",
        "outputId": "774f25c3-aeb9-41c1-9c34-87caa03de2e4",
        "colab": {
          "base_uri": "https://localhost:8080/",
          "height": 439
        }
      },
      "source": [
        "df_new_f"
      ],
      "execution_count": 0,
      "outputs": [
        {
          "output_type": "execute_result",
          "data": {
            "text/html": [
              "<div>\n",
              "<style scoped>\n",
              "    .dataframe tbody tr th:only-of-type {\n",
              "        vertical-align: middle;\n",
              "    }\n",
              "\n",
              "    .dataframe tbody tr th {\n",
              "        vertical-align: top;\n",
              "    }\n",
              "\n",
              "    .dataframe thead th {\n",
              "        text-align: right;\n",
              "    }\n",
              "</style>\n",
              "<table border=\"1\" class=\"dataframe\">\n",
              "  <thead>\n",
              "    <tr style=\"text-align: right;\">\n",
              "      <th></th>\n",
              "      <th>people_id</th>\n",
              "      <th>activity_category</th>\n",
              "      <th>activity_type</th>\n",
              "      <th>activity_id</th>\n",
              "      <th>outcome</th>\n",
              "      <th>char_1</th>\n",
              "      <th>char_2</th>\n",
              "      <th>char_3</th>\n",
              "      <th>char_4</th>\n",
              "      <th>char_5</th>\n",
              "      <th>char_6</th>\n",
              "      <th>char_7</th>\n",
              "      <th>char_8</th>\n",
              "      <th>char_9</th>\n",
              "      <th>char_10</th>\n",
              "      <th>char_11</th>\n",
              "      <th>char_12</th>\n",
              "      <th>char_13</th>\n",
              "      <th>char_14</th>\n",
              "      <th>char_15</th>\n",
              "      <th>char_16</th>\n",
              "      <th>char_17</th>\n",
              "      <th>char_18</th>\n",
              "      <th>char_19</th>\n",
              "      <th>char_20</th>\n",
              "      <th>char_21</th>\n",
              "      <th>char_22</th>\n",
              "      <th>char_23</th>\n",
              "      <th>char_24</th>\n",
              "      <th>char_25</th>\n",
              "      <th>char_26</th>\n",
              "      <th>char_27</th>\n",
              "      <th>char_28</th>\n",
              "      <th>char_29</th>\n",
              "      <th>char_30</th>\n",
              "      <th>char_31</th>\n",
              "      <th>char_32</th>\n",
              "      <th>char_33</th>\n",
              "      <th>char_34</th>\n",
              "      <th>char_35</th>\n",
              "      <th>char_36</th>\n",
              "      <th>char_37</th>\n",
              "      <th>char_38</th>\n",
              "      <th>Year</th>\n",
              "      <th>Month</th>\n",
              "      <th>Quarter</th>\n",
              "      <th>Week</th>\n",
              "      <th>WeekDay</th>\n",
              "      <th>Day</th>\n",
              "      <th>activity_Year</th>\n",
              "      <th>activity_Month</th>\n",
              "      <th>activity_Quarter</th>\n",
              "      <th>activity_Week</th>\n",
              "      <th>activity_WeekDay</th>\n",
              "      <th>activity_Day</th>\n",
              "    </tr>\n",
              "  </thead>\n",
              "  <tbody>\n",
              "    <tr>\n",
              "      <th>0</th>\n",
              "      <td>100.0</td>\n",
              "      <td>type 4</td>\n",
              "      <td>76</td>\n",
              "      <td>1734928.0</td>\n",
              "      <td>0.0</td>\n",
              "      <td>type 2</td>\n",
              "      <td>type 2</td>\n",
              "      <td>type 5</td>\n",
              "      <td>type 5</td>\n",
              "      <td>type 5</td>\n",
              "      <td>type 3</td>\n",
              "      <td>type 11</td>\n",
              "      <td>type 2</td>\n",
              "      <td>type 2</td>\n",
              "      <td>0</td>\n",
              "      <td>1</td>\n",
              "      <td>1</td>\n",
              "      <td>0</td>\n",
              "      <td>0</td>\n",
              "      <td>1</td>\n",
              "      <td>0</td>\n",
              "      <td>1</td>\n",
              "      <td>1</td>\n",
              "      <td>1</td>\n",
              "      <td>1</td>\n",
              "      <td>0</td>\n",
              "      <td>1</td>\n",
              "      <td>1</td>\n",
              "      <td>1</td>\n",
              "      <td>1</td>\n",
              "      <td>1</td>\n",
              "      <td>0</td>\n",
              "      <td>0</td>\n",
              "      <td>1</td>\n",
              "      <td>0</td>\n",
              "      <td>0</td>\n",
              "      <td>1</td>\n",
              "      <td>1</td>\n",
              "      <td>0</td>\n",
              "      <td>0</td>\n",
              "      <td>0</td>\n",
              "      <td>1</td>\n",
              "      <td>36</td>\n",
              "      <td>2021</td>\n",
              "      <td>6</td>\n",
              "      <td>2</td>\n",
              "      <td>26</td>\n",
              "      <td>1</td>\n",
              "      <td>29</td>\n",
              "      <td>2023</td>\n",
              "      <td>8</td>\n",
              "      <td>3</td>\n",
              "      <td>34</td>\n",
              "      <td>5</td>\n",
              "      <td>26</td>\n",
              "    </tr>\n",
              "    <tr>\n",
              "      <th>1</th>\n",
              "      <td>100.0</td>\n",
              "      <td>type 2</td>\n",
              "      <td>1</td>\n",
              "      <td>2434093.0</td>\n",
              "      <td>0.0</td>\n",
              "      <td>type 2</td>\n",
              "      <td>type 2</td>\n",
              "      <td>type 5</td>\n",
              "      <td>type 5</td>\n",
              "      <td>type 5</td>\n",
              "      <td>type 3</td>\n",
              "      <td>type 11</td>\n",
              "      <td>type 2</td>\n",
              "      <td>type 2</td>\n",
              "      <td>0</td>\n",
              "      <td>1</td>\n",
              "      <td>1</td>\n",
              "      <td>0</td>\n",
              "      <td>0</td>\n",
              "      <td>1</td>\n",
              "      <td>0</td>\n",
              "      <td>1</td>\n",
              "      <td>1</td>\n",
              "      <td>1</td>\n",
              "      <td>1</td>\n",
              "      <td>0</td>\n",
              "      <td>1</td>\n",
              "      <td>1</td>\n",
              "      <td>1</td>\n",
              "      <td>1</td>\n",
              "      <td>1</td>\n",
              "      <td>0</td>\n",
              "      <td>0</td>\n",
              "      <td>1</td>\n",
              "      <td>0</td>\n",
              "      <td>0</td>\n",
              "      <td>1</td>\n",
              "      <td>1</td>\n",
              "      <td>0</td>\n",
              "      <td>0</td>\n",
              "      <td>0</td>\n",
              "      <td>1</td>\n",
              "      <td>36</td>\n",
              "      <td>2021</td>\n",
              "      <td>6</td>\n",
              "      <td>2</td>\n",
              "      <td>26</td>\n",
              "      <td>1</td>\n",
              "      <td>29</td>\n",
              "      <td>2022</td>\n",
              "      <td>9</td>\n",
              "      <td>3</td>\n",
              "      <td>39</td>\n",
              "      <td>1</td>\n",
              "      <td>27</td>\n",
              "    </tr>\n",
              "    <tr>\n",
              "      <th>2</th>\n",
              "      <td>100.0</td>\n",
              "      <td>type 2</td>\n",
              "      <td>1</td>\n",
              "      <td>3404049.0</td>\n",
              "      <td>0.0</td>\n",
              "      <td>type 2</td>\n",
              "      <td>type 2</td>\n",
              "      <td>type 5</td>\n",
              "      <td>type 5</td>\n",
              "      <td>type 5</td>\n",
              "      <td>type 3</td>\n",
              "      <td>type 11</td>\n",
              "      <td>type 2</td>\n",
              "      <td>type 2</td>\n",
              "      <td>0</td>\n",
              "      <td>1</td>\n",
              "      <td>1</td>\n",
              "      <td>0</td>\n",
              "      <td>0</td>\n",
              "      <td>1</td>\n",
              "      <td>0</td>\n",
              "      <td>1</td>\n",
              "      <td>1</td>\n",
              "      <td>1</td>\n",
              "      <td>1</td>\n",
              "      <td>0</td>\n",
              "      <td>1</td>\n",
              "      <td>1</td>\n",
              "      <td>1</td>\n",
              "      <td>1</td>\n",
              "      <td>1</td>\n",
              "      <td>0</td>\n",
              "      <td>0</td>\n",
              "      <td>1</td>\n",
              "      <td>0</td>\n",
              "      <td>0</td>\n",
              "      <td>1</td>\n",
              "      <td>1</td>\n",
              "      <td>0</td>\n",
              "      <td>0</td>\n",
              "      <td>0</td>\n",
              "      <td>1</td>\n",
              "      <td>36</td>\n",
              "      <td>2021</td>\n",
              "      <td>6</td>\n",
              "      <td>2</td>\n",
              "      <td>26</td>\n",
              "      <td>1</td>\n",
              "      <td>29</td>\n",
              "      <td>2022</td>\n",
              "      <td>9</td>\n",
              "      <td>3</td>\n",
              "      <td>39</td>\n",
              "      <td>1</td>\n",
              "      <td>27</td>\n",
              "    </tr>\n",
              "    <tr>\n",
              "      <th>3</th>\n",
              "      <td>100.0</td>\n",
              "      <td>type 2</td>\n",
              "      <td>1</td>\n",
              "      <td>3651215.0</td>\n",
              "      <td>0.0</td>\n",
              "      <td>type 2</td>\n",
              "      <td>type 2</td>\n",
              "      <td>type 5</td>\n",
              "      <td>type 5</td>\n",
              "      <td>type 5</td>\n",
              "      <td>type 3</td>\n",
              "      <td>type 11</td>\n",
              "      <td>type 2</td>\n",
              "      <td>type 2</td>\n",
              "      <td>0</td>\n",
              "      <td>1</td>\n",
              "      <td>1</td>\n",
              "      <td>0</td>\n",
              "      <td>0</td>\n",
              "      <td>1</td>\n",
              "      <td>0</td>\n",
              "      <td>1</td>\n",
              "      <td>1</td>\n",
              "      <td>1</td>\n",
              "      <td>1</td>\n",
              "      <td>0</td>\n",
              "      <td>1</td>\n",
              "      <td>1</td>\n",
              "      <td>1</td>\n",
              "      <td>1</td>\n",
              "      <td>1</td>\n",
              "      <td>0</td>\n",
              "      <td>0</td>\n",
              "      <td>1</td>\n",
              "      <td>0</td>\n",
              "      <td>0</td>\n",
              "      <td>1</td>\n",
              "      <td>1</td>\n",
              "      <td>0</td>\n",
              "      <td>0</td>\n",
              "      <td>0</td>\n",
              "      <td>1</td>\n",
              "      <td>36</td>\n",
              "      <td>2021</td>\n",
              "      <td>6</td>\n",
              "      <td>2</td>\n",
              "      <td>26</td>\n",
              "      <td>1</td>\n",
              "      <td>29</td>\n",
              "      <td>2023</td>\n",
              "      <td>8</td>\n",
              "      <td>3</td>\n",
              "      <td>31</td>\n",
              "      <td>4</td>\n",
              "      <td>4</td>\n",
              "    </tr>\n",
              "    <tr>\n",
              "      <th>4</th>\n",
              "      <td>100.0</td>\n",
              "      <td>type 2</td>\n",
              "      <td>1</td>\n",
              "      <td>4109017.0</td>\n",
              "      <td>0.0</td>\n",
              "      <td>type 2</td>\n",
              "      <td>type 2</td>\n",
              "      <td>type 5</td>\n",
              "      <td>type 5</td>\n",
              "      <td>type 5</td>\n",
              "      <td>type 3</td>\n",
              "      <td>type 11</td>\n",
              "      <td>type 2</td>\n",
              "      <td>type 2</td>\n",
              "      <td>0</td>\n",
              "      <td>1</td>\n",
              "      <td>1</td>\n",
              "      <td>0</td>\n",
              "      <td>0</td>\n",
              "      <td>1</td>\n",
              "      <td>0</td>\n",
              "      <td>1</td>\n",
              "      <td>1</td>\n",
              "      <td>1</td>\n",
              "      <td>1</td>\n",
              "      <td>0</td>\n",
              "      <td>1</td>\n",
              "      <td>1</td>\n",
              "      <td>1</td>\n",
              "      <td>1</td>\n",
              "      <td>1</td>\n",
              "      <td>0</td>\n",
              "      <td>0</td>\n",
              "      <td>1</td>\n",
              "      <td>0</td>\n",
              "      <td>0</td>\n",
              "      <td>1</td>\n",
              "      <td>1</td>\n",
              "      <td>0</td>\n",
              "      <td>0</td>\n",
              "      <td>0</td>\n",
              "      <td>1</td>\n",
              "      <td>36</td>\n",
              "      <td>2021</td>\n",
              "      <td>6</td>\n",
              "      <td>2</td>\n",
              "      <td>26</td>\n",
              "      <td>1</td>\n",
              "      <td>29</td>\n",
              "      <td>2023</td>\n",
              "      <td>8</td>\n",
              "      <td>3</td>\n",
              "      <td>34</td>\n",
              "      <td>5</td>\n",
              "      <td>26</td>\n",
              "    </tr>\n",
              "    <tr>\n",
              "      <th>...</th>\n",
              "      <td>...</td>\n",
              "      <td>...</td>\n",
              "      <td>...</td>\n",
              "      <td>...</td>\n",
              "      <td>...</td>\n",
              "      <td>...</td>\n",
              "      <td>...</td>\n",
              "      <td>...</td>\n",
              "      <td>...</td>\n",
              "      <td>...</td>\n",
              "      <td>...</td>\n",
              "      <td>...</td>\n",
              "      <td>...</td>\n",
              "      <td>...</td>\n",
              "      <td>...</td>\n",
              "      <td>...</td>\n",
              "      <td>...</td>\n",
              "      <td>...</td>\n",
              "      <td>...</td>\n",
              "      <td>...</td>\n",
              "      <td>...</td>\n",
              "      <td>...</td>\n",
              "      <td>...</td>\n",
              "      <td>...</td>\n",
              "      <td>...</td>\n",
              "      <td>...</td>\n",
              "      <td>...</td>\n",
              "      <td>...</td>\n",
              "      <td>...</td>\n",
              "      <td>...</td>\n",
              "      <td>...</td>\n",
              "      <td>...</td>\n",
              "      <td>...</td>\n",
              "      <td>...</td>\n",
              "      <td>...</td>\n",
              "      <td>...</td>\n",
              "      <td>...</td>\n",
              "      <td>...</td>\n",
              "      <td>...</td>\n",
              "      <td>...</td>\n",
              "      <td>...</td>\n",
              "      <td>...</td>\n",
              "      <td>...</td>\n",
              "      <td>...</td>\n",
              "      <td>...</td>\n",
              "      <td>...</td>\n",
              "      <td>...</td>\n",
              "      <td>...</td>\n",
              "      <td>...</td>\n",
              "      <td>...</td>\n",
              "      <td>...</td>\n",
              "      <td>...</td>\n",
              "      <td>...</td>\n",
              "      <td>...</td>\n",
              "      <td>...</td>\n",
              "    </tr>\n",
              "    <tr>\n",
              "      <th>1358673</th>\n",
              "      <td>324026.0</td>\n",
              "      <td>type 4</td>\n",
              "      <td>1490</td>\n",
              "      <td>3437027.0</td>\n",
              "      <td>1.0</td>\n",
              "      <td>type 1</td>\n",
              "      <td>type 1</td>\n",
              "      <td>type 1</td>\n",
              "      <td>type 1</td>\n",
              "      <td>type 1</td>\n",
              "      <td>type 3</td>\n",
              "      <td>type 8</td>\n",
              "      <td>type 6</td>\n",
              "      <td>type 6</td>\n",
              "      <td>1</td>\n",
              "      <td>0</td>\n",
              "      <td>1</td>\n",
              "      <td>0</td>\n",
              "      <td>1</td>\n",
              "      <td>0</td>\n",
              "      <td>0</td>\n",
              "      <td>1</td>\n",
              "      <td>1</td>\n",
              "      <td>0</td>\n",
              "      <td>0</td>\n",
              "      <td>1</td>\n",
              "      <td>1</td>\n",
              "      <td>0</td>\n",
              "      <td>1</td>\n",
              "      <td>1</td>\n",
              "      <td>1</td>\n",
              "      <td>1</td>\n",
              "      <td>1</td>\n",
              "      <td>1</td>\n",
              "      <td>1</td>\n",
              "      <td>1</td>\n",
              "      <td>0</td>\n",
              "      <td>1</td>\n",
              "      <td>0</td>\n",
              "      <td>1</td>\n",
              "      <td>0</td>\n",
              "      <td>0</td>\n",
              "      <td>86</td>\n",
              "      <td>2022</td>\n",
              "      <td>4</td>\n",
              "      <td>2</td>\n",
              "      <td>17</td>\n",
              "      <td>3</td>\n",
              "      <td>28</td>\n",
              "      <td>2023</td>\n",
              "      <td>1</td>\n",
              "      <td>1</td>\n",
              "      <td>4</td>\n",
              "      <td>4</td>\n",
              "      <td>27</td>\n",
              "    </tr>\n",
              "    <tr>\n",
              "      <th>1358674</th>\n",
              "      <td>324026.0</td>\n",
              "      <td>type 3</td>\n",
              "      <td>52</td>\n",
              "      <td>3923712.0</td>\n",
              "      <td>1.0</td>\n",
              "      <td>type 1</td>\n",
              "      <td>type 1</td>\n",
              "      <td>type 1</td>\n",
              "      <td>type 1</td>\n",
              "      <td>type 1</td>\n",
              "      <td>type 3</td>\n",
              "      <td>type 8</td>\n",
              "      <td>type 6</td>\n",
              "      <td>type 6</td>\n",
              "      <td>1</td>\n",
              "      <td>0</td>\n",
              "      <td>1</td>\n",
              "      <td>0</td>\n",
              "      <td>1</td>\n",
              "      <td>0</td>\n",
              "      <td>0</td>\n",
              "      <td>1</td>\n",
              "      <td>1</td>\n",
              "      <td>0</td>\n",
              "      <td>0</td>\n",
              "      <td>1</td>\n",
              "      <td>1</td>\n",
              "      <td>0</td>\n",
              "      <td>1</td>\n",
              "      <td>1</td>\n",
              "      <td>1</td>\n",
              "      <td>1</td>\n",
              "      <td>1</td>\n",
              "      <td>1</td>\n",
              "      <td>1</td>\n",
              "      <td>1</td>\n",
              "      <td>0</td>\n",
              "      <td>1</td>\n",
              "      <td>0</td>\n",
              "      <td>1</td>\n",
              "      <td>0</td>\n",
              "      <td>0</td>\n",
              "      <td>86</td>\n",
              "      <td>2022</td>\n",
              "      <td>4</td>\n",
              "      <td>2</td>\n",
              "      <td>17</td>\n",
              "      <td>3</td>\n",
              "      <td>28</td>\n",
              "      <td>2023</td>\n",
              "      <td>1</td>\n",
              "      <td>1</td>\n",
              "      <td>4</td>\n",
              "      <td>4</td>\n",
              "      <td>27</td>\n",
              "    </tr>\n",
              "    <tr>\n",
              "      <th>1358675</th>\n",
              "      <td>324026.0</td>\n",
              "      <td>type 4</td>\n",
              "      <td>1490</td>\n",
              "      <td>3988938.0</td>\n",
              "      <td>1.0</td>\n",
              "      <td>type 1</td>\n",
              "      <td>type 1</td>\n",
              "      <td>type 1</td>\n",
              "      <td>type 1</td>\n",
              "      <td>type 1</td>\n",
              "      <td>type 3</td>\n",
              "      <td>type 8</td>\n",
              "      <td>type 6</td>\n",
              "      <td>type 6</td>\n",
              "      <td>1</td>\n",
              "      <td>0</td>\n",
              "      <td>1</td>\n",
              "      <td>0</td>\n",
              "      <td>1</td>\n",
              "      <td>0</td>\n",
              "      <td>0</td>\n",
              "      <td>1</td>\n",
              "      <td>1</td>\n",
              "      <td>0</td>\n",
              "      <td>0</td>\n",
              "      <td>1</td>\n",
              "      <td>1</td>\n",
              "      <td>0</td>\n",
              "      <td>1</td>\n",
              "      <td>1</td>\n",
              "      <td>1</td>\n",
              "      <td>1</td>\n",
              "      <td>1</td>\n",
              "      <td>1</td>\n",
              "      <td>1</td>\n",
              "      <td>1</td>\n",
              "      <td>0</td>\n",
              "      <td>1</td>\n",
              "      <td>0</td>\n",
              "      <td>1</td>\n",
              "      <td>0</td>\n",
              "      <td>0</td>\n",
              "      <td>86</td>\n",
              "      <td>2022</td>\n",
              "      <td>4</td>\n",
              "      <td>2</td>\n",
              "      <td>17</td>\n",
              "      <td>3</td>\n",
              "      <td>28</td>\n",
              "      <td>2023</td>\n",
              "      <td>1</td>\n",
              "      <td>1</td>\n",
              "      <td>4</td>\n",
              "      <td>4</td>\n",
              "      <td>27</td>\n",
              "    </tr>\n",
              "    <tr>\n",
              "      <th>1358676</th>\n",
              "      <td>324026.0</td>\n",
              "      <td>type 2</td>\n",
              "      <td>1</td>\n",
              "      <td>569263.0</td>\n",
              "      <td>1.0</td>\n",
              "      <td>type 1</td>\n",
              "      <td>type 1</td>\n",
              "      <td>type 1</td>\n",
              "      <td>type 1</td>\n",
              "      <td>type 1</td>\n",
              "      <td>type 3</td>\n",
              "      <td>type 8</td>\n",
              "      <td>type 6</td>\n",
              "      <td>type 6</td>\n",
              "      <td>1</td>\n",
              "      <td>0</td>\n",
              "      <td>1</td>\n",
              "      <td>0</td>\n",
              "      <td>1</td>\n",
              "      <td>0</td>\n",
              "      <td>0</td>\n",
              "      <td>1</td>\n",
              "      <td>1</td>\n",
              "      <td>0</td>\n",
              "      <td>0</td>\n",
              "      <td>1</td>\n",
              "      <td>1</td>\n",
              "      <td>0</td>\n",
              "      <td>1</td>\n",
              "      <td>1</td>\n",
              "      <td>1</td>\n",
              "      <td>1</td>\n",
              "      <td>1</td>\n",
              "      <td>1</td>\n",
              "      <td>1</td>\n",
              "      <td>1</td>\n",
              "      <td>0</td>\n",
              "      <td>1</td>\n",
              "      <td>0</td>\n",
              "      <td>1</td>\n",
              "      <td>0</td>\n",
              "      <td>0</td>\n",
              "      <td>86</td>\n",
              "      <td>2022</td>\n",
              "      <td>4</td>\n",
              "      <td>2</td>\n",
              "      <td>17</td>\n",
              "      <td>3</td>\n",
              "      <td>28</td>\n",
              "      <td>2023</td>\n",
              "      <td>1</td>\n",
              "      <td>1</td>\n",
              "      <td>2</td>\n",
              "      <td>3</td>\n",
              "      <td>12</td>\n",
              "    </tr>\n",
              "    <tr>\n",
              "      <th>1358677</th>\n",
              "      <td>324027.0</td>\n",
              "      <td>type 1</td>\n",
              "      <td>1</td>\n",
              "      <td>101333.0</td>\n",
              "      <td>0.0</td>\n",
              "      <td>type 2</td>\n",
              "      <td>type 2</td>\n",
              "      <td>type 11</td>\n",
              "      <td>type 7</td>\n",
              "      <td>type 2</td>\n",
              "      <td>type 5</td>\n",
              "      <td>type 18</td>\n",
              "      <td>type 3</td>\n",
              "      <td>type 3</td>\n",
              "      <td>1</td>\n",
              "      <td>1</td>\n",
              "      <td>1</td>\n",
              "      <td>1</td>\n",
              "      <td>1</td>\n",
              "      <td>1</td>\n",
              "      <td>1</td>\n",
              "      <td>1</td>\n",
              "      <td>1</td>\n",
              "      <td>1</td>\n",
              "      <td>1</td>\n",
              "      <td>1</td>\n",
              "      <td>1</td>\n",
              "      <td>1</td>\n",
              "      <td>1</td>\n",
              "      <td>1</td>\n",
              "      <td>1</td>\n",
              "      <td>1</td>\n",
              "      <td>1</td>\n",
              "      <td>1</td>\n",
              "      <td>1</td>\n",
              "      <td>1</td>\n",
              "      <td>1</td>\n",
              "      <td>1</td>\n",
              "      <td>1</td>\n",
              "      <td>1</td>\n",
              "      <td>1</td>\n",
              "      <td>1</td>\n",
              "      <td>0</td>\n",
              "      <td>2022</td>\n",
              "      <td>7</td>\n",
              "      <td>3</td>\n",
              "      <td>30</td>\n",
              "      <td>2</td>\n",
              "      <td>27</td>\n",
              "      <td>2023</td>\n",
              "      <td>1</td>\n",
              "      <td>1</td>\n",
              "      <td>3</td>\n",
              "      <td>2</td>\n",
              "      <td>18</td>\n",
              "    </tr>\n",
              "  </tbody>\n",
              "</table>\n",
              "<p>1358678 rows × 55 columns</p>\n",
              "</div>"
            ],
            "text/plain": [
              "         people_id activity_category  ...  activity_WeekDay  activity_Day\n",
              "0            100.0            type 4  ...                 5            26\n",
              "1            100.0            type 2  ...                 1            27\n",
              "2            100.0            type 2  ...                 1            27\n",
              "3            100.0            type 2  ...                 4             4\n",
              "4            100.0            type 2  ...                 5            26\n",
              "...            ...               ...  ...               ...           ...\n",
              "1358673   324026.0            type 4  ...                 4            27\n",
              "1358674   324026.0            type 3  ...                 4            27\n",
              "1358675   324026.0            type 4  ...                 4            27\n",
              "1358676   324026.0            type 2  ...                 3            12\n",
              "1358677   324027.0            type 1  ...                 2            18\n",
              "\n",
              "[1358678 rows x 55 columns]"
            ]
          },
          "metadata": {
            "tags": []
          },
          "execution_count": 411
        }
      ]
    },
    {
      "cell_type": "code",
      "metadata": {
        "id": "R0OfP-Ic-oV6",
        "colab_type": "code",
        "colab": {}
      },
      "source": [
        "df_new_final = temp"
      ],
      "execution_count": 0,
      "outputs": []
    },
    {
      "cell_type": "code",
      "metadata": {
        "id": "GyMCFiLWPPiw",
        "colab_type": "code",
        "outputId": "07407536-3793-4480-d4d3-c337b7bca234",
        "colab": {
          "base_uri": "https://localhost:8080/",
          "height": 163
        }
      },
      "source": [
        "df_new.columns[df_new.dtypes == 'bool']"
      ],
      "execution_count": 0,
      "outputs": [
        {
          "output_type": "error",
          "ename": "AttributeError",
          "evalue": "ignored",
          "traceback": [
            "\u001b[0;31m---------------------------------------------------------------------------\u001b[0m",
            "\u001b[0;31mAttributeError\u001b[0m                            Traceback (most recent call last)",
            "\u001b[0;32m<ipython-input-413-9feacec7d0d4>\u001b[0m in \u001b[0;36m<module>\u001b[0;34m()\u001b[0m\n\u001b[0;32m----> 1\u001b[0;31m \u001b[0mdf_new\u001b[0m\u001b[0;34m.\u001b[0m\u001b[0mcolumns\u001b[0m\u001b[0;34m[\u001b[0m\u001b[0mdf_new\u001b[0m\u001b[0;34m.\u001b[0m\u001b[0mdtypes\u001b[0m \u001b[0;34m==\u001b[0m \u001b[0;34m'bool'\u001b[0m\u001b[0;34m]\u001b[0m\u001b[0;34m\u001b[0m\u001b[0;34m\u001b[0m\u001b[0m\n\u001b[0m",
            "\u001b[0;31mAttributeError\u001b[0m: 'numpy.ndarray' object has no attribute 'columns'"
          ]
        }
      ]
    },
    {
      "cell_type": "code",
      "metadata": {
        "id": "8jpM23Q8P1AU",
        "colab_type": "code",
        "colab": {}
      },
      "source": [
        "# df_new.loc[:,['activity_category', 'char_1', 'group_1', 'char_2', 'char_3', 'char_4',\n",
        "#        'char_5', 'char_6', 'char_7', 'char_8', 'char_9', 'char_23', 'char_24',\n",
        "#        'char_25', 'char_26', 'char_27', 'char_28', 'char_29', 'char_30',\n",
        "#        'char_31', 'char_32', 'char_33', 'char_34', 'char_35', 'char_36',\n",
        "#        'char_37']].nunique().sum()"
      ],
      "execution_count": 0,
      "outputs": []
    },
    {
      "cell_type": "code",
      "metadata": {
        "id": "gOahJI3VQPEx",
        "colab_type": "code",
        "outputId": "bc286a9e-ec36-4df9-9a45-6b1fdae2c574",
        "colab": {
          "base_uri": "https://localhost:8080/",
          "height": 34
        }
      },
      "source": [
        "\n",
        "\n",
        "\n",
        "df_new_f['outcome'].shape\n",
        "# df_new_f.drop([1358677])\n",
        "# df_new_final.shape"
      ],
      "execution_count": 0,
      "outputs": [
        {
          "output_type": "execute_result",
          "data": {
            "text/plain": [
              "(1358678,)"
            ]
          },
          "metadata": {
            "tags": []
          },
          "execution_count": 461
        }
      ]
    },
    {
      "cell_type": "code",
      "metadata": {
        "id": "mVNT9oXiImwR",
        "colab_type": "code",
        "outputId": "78f3723b-b496-455b-d327-45f2ac891597",
        "colab": {
          "base_uri": "https://localhost:8080/",
          "height": 34
        }
      },
      "source": [
        "df_final = df_new_final.drop([1358677],axis=0)\n",
        "df_final.shape\n",
        "df_new_final.shape"
      ],
      "execution_count": 0,
      "outputs": [
        {
          "output_type": "execute_result",
          "data": {
            "text/plain": [
              "(1358678, 181)"
            ]
          },
          "metadata": {
            "tags": []
          },
          "execution_count": 460
        }
      ]
    },
    {
      "cell_type": "code",
      "metadata": {
        "id": "0hvn3BglV9A7",
        "colab_type": "code",
        "colab": {}
      },
      "source": [
        "from sklearn.model_selection import train_test_split\n",
        "x_train,x_test,y_train,y_test = train_test_split(df_new_final,df_new_f['outcome'],test_size = 0.2,random_state=212)"
      ],
      "execution_count": 0,
      "outputs": []
    },
    {
      "cell_type": "code",
      "metadata": {
        "id": "k6N4rYuA_yOa",
        "colab_type": "code",
        "colab": {}
      },
      "source": [
        "x_train,x_val,y_train,y_val = train_test_split(x_train,y_train,test_size=0.1,random_state=121)"
      ],
      "execution_count": 0,
      "outputs": []
    },
    {
      "cell_type": "code",
      "metadata": {
        "id": "HeV3Ie3KHyR_",
        "colab_type": "code",
        "outputId": "5ab88ef0-2ebd-486c-ec9a-affa7b33b07c",
        "colab": {
          "base_uri": "https://localhost:8080/",
          "height": 34
        }
      },
      "source": [
        "x_train.shape"
      ],
      "execution_count": 0,
      "outputs": [
        {
          "output_type": "execute_result",
          "data": {
            "text/plain": [
              "(978247, 181)"
            ]
          },
          "metadata": {
            "tags": []
          },
          "execution_count": 464
        }
      ]
    },
    {
      "cell_type": "code",
      "metadata": {
        "id": "lGtUD9zQH8e2",
        "colab_type": "code",
        "outputId": "63e080b0-bd52-434a-8b03-f959a58ac57c",
        "colab": {
          "base_uri": "https://localhost:8080/",
          "height": 34
        }
      },
      "source": [
        "y_train.shape"
      ],
      "execution_count": 0,
      "outputs": [
        {
          "output_type": "execute_result",
          "data": {
            "text/plain": [
              "(978247,)"
            ]
          },
          "metadata": {
            "tags": []
          },
          "execution_count": 465
        }
      ]
    },
    {
      "cell_type": "code",
      "metadata": {
        "id": "u5If9SAAAaiN",
        "colab_type": "code",
        "outputId": "3ec38f1e-40d5-482f-a2c7-e2c542ee9cae",
        "colab": {
          "base_uri": "https://localhost:8080/",
          "height": 34
        }
      },
      "source": [
        "df_new_final.dtypes.unique()"
      ],
      "execution_count": 0,
      "outputs": [
        {
          "output_type": "execute_result",
          "data": {
            "text/plain": [
              "array([dtype('int64'), dtype('float64')], dtype=object)"
            ]
          },
          "metadata": {
            "tags": []
          },
          "execution_count": 466
        }
      ]
    },
    {
      "cell_type": "markdown",
      "metadata": {
        "id": "CGcwrpMIFmoS",
        "colab_type": "text"
      },
      "source": [
        "# Model building "
      ]
    },
    {
      "cell_type": "code",
      "metadata": {
        "id": "CX44Ytn9FYBP",
        "colab_type": "code",
        "colab": {}
      },
      "source": [
        "from keras.models import  Sequential\n",
        "from keras.layers import Dense\n",
        "# design the deep neural network\n"
      ],
      "execution_count": 0,
      "outputs": []
    },
    {
      "cell_type": "code",
      "metadata": {
        "id": "En2TW8gsGH8i",
        "colab_type": "code",
        "colab": {}
      },
      "source": [
        "model = Sequential()\n",
        "model.add(Dense(256,input_dim=x_train.shape[1],activation='relu'))\n",
        "model.add(Dense(256,activation='relu'))\n",
        "model.add(Dense(1,activation='sigmoid'))\n"
      ],
      "execution_count": 0,
      "outputs": []
    },
    {
      "cell_type": "code",
      "metadata": {
        "id": "-cVvi_VVGikO",
        "colab_type": "code",
        "colab": {}
      },
      "source": [
        "model.compile(optimizer='Adam',loss='binary_crossentropy',metrics=['accuracy'])"
      ],
      "execution_count": 0,
      "outputs": []
    },
    {
      "cell_type": "code",
      "metadata": {
        "id": "k177mLcCGvRv",
        "colab_type": "code",
        "outputId": "08b3d992-2036-49e7-cdbc-29fd4095bb45",
        "colab": {
          "base_uri": "https://localhost:8080/",
          "height": 173
        }
      },
      "source": [
        "model.fit(x_train,y_train,validation_data= (x_val,y_val),batch_size=63,epochs=3)"
      ],
      "execution_count": 0,
      "outputs": [
        {
          "output_type": "stream",
          "text": [
            "Train on 978247 samples, validate on 108695 samples\n",
            "Epoch 1/3\n",
            "978247/978247 [==============================] - 71s 72us/step - loss: 8.8309 - acc: 0.4461 - val_loss: 8.8695 - val_acc: 0.4437\n",
            "Epoch 2/3\n",
            "978247/978247 [==============================] - 69s 71us/step - loss: 8.8313 - acc: 0.4461 - val_loss: 8.8695 - val_acc: 0.4437\n",
            "Epoch 3/3\n",
            "978247/978247 [==============================] - 69s 71us/step - loss: 8.8313 - acc: 0.4461 - val_loss: 8.8695 - val_acc: 0.4437\n"
          ],
          "name": "stdout"
        },
        {
          "output_type": "execute_result",
          "data": {
            "text/plain": [
              "<keras.callbacks.History at 0x7f345305a780>"
            ]
          },
          "metadata": {
            "tags": []
          },
          "execution_count": 470
        }
      ]
    },
    {
      "cell_type": "code",
      "metadata": {
        "id": "599EWAq0HFU3",
        "colab_type": "code",
        "colab": {}
      },
      "source": [
        "# df_new_f"
      ],
      "execution_count": 0,
      "outputs": []
    },
    {
      "cell_type": "code",
      "metadata": {
        "id": "crq5ZdGHJ7WP",
        "colab_type": "code",
        "colab": {}
      },
      "source": [
        "# increasing the number of neurans\n",
        "model = Sequential()\n",
        "model.add(Dense(512,input_dim=x_train.shape[1],activation='relu'))\n",
        "# model.add(Dense(256,activation='relu'))\n",
        "model.add(Dense(1,activation='sigmoid'))\n",
        "model.compile(optimizer='Adam',loss='binary_crossentropy',metrics=['accuracy'])"
      ],
      "execution_count": 0,
      "outputs": []
    },
    {
      "cell_type": "code",
      "metadata": {
        "id": "2lGbsouvL1LG",
        "colab_type": "code",
        "outputId": "b162ccd0-a919-4b52-c445-b20973a15c12",
        "colab": {
          "base_uri": "https://localhost:8080/",
          "height": 173
        }
      },
      "source": [
        "model.fit(x_train,y_train,validation_data= (x_val,y_val),batch_size=63,epochs=3)"
      ],
      "execution_count": 0,
      "outputs": [
        {
          "output_type": "stream",
          "text": [
            "Train on 978247 samples, validate on 108695 samples\n",
            "Epoch 1/3\n",
            "978247/978247 [==============================] - 66s 68us/step - loss: 7.7314 - acc: 0.5183 - val_loss: 7.1509 - val_acc: 0.5563\n",
            "Epoch 2/3\n",
            "978247/978247 [==============================] - 66s 68us/step - loss: 7.1895 - acc: 0.5539 - val_loss: 7.1509 - val_acc: 0.5563\n",
            "Epoch 3/3\n",
            "978247/978247 [==============================] - 61s 63us/step - loss: 7.1895 - acc: 0.5539 - val_loss: 7.1509 - val_acc: 0.5563\n"
          ],
          "name": "stdout"
        },
        {
          "output_type": "execute_result",
          "data": {
            "text/plain": [
              "<keras.callbacks.History at 0x7f3452d44240>"
            ]
          },
          "metadata": {
            "tags": []
          },
          "execution_count": 474
        }
      ]
    },
    {
      "cell_type": "code",
      "metadata": {
        "id": "oyo4943RL_k6",
        "colab_type": "code",
        "colab": {}
      },
      "source": [
        "model3 = Sequential()\n",
        "model3.add(Dense(512,input_dim=x_train.shape[1],activation='relu'))\n",
        "model3.add(Dense(512,activation='relu'))\n",
        "model3.add(Dense(1,activation='sigmoid'))\n",
        "model3.compile(optimizer='Adam',loss='binary_crossentropy',metrics=['accuracy'])"
      ],
      "execution_count": 0,
      "outputs": []
    },
    {
      "cell_type": "code",
      "metadata": {
        "id": "BRJ33PQVMy2U",
        "colab_type": "code",
        "outputId": "70fc3b25-a58f-4c47-be41-a6c8067265ac",
        "colab": {
          "base_uri": "https://localhost:8080/",
          "height": 173
        }
      },
      "source": [
        "model3.fit(x_train,y_train,validation_data=(x_val,y_val),epochs=3,batch_size=64)"
      ],
      "execution_count": 0,
      "outputs": [
        {
          "output_type": "stream",
          "text": [
            "Train on 978247 samples, validate on 108695 samples\n",
            "Epoch 1/3\n",
            "978247/978247 [==============================] - 128s 131us/step - loss: 8.8306 - acc: 0.4461 - val_loss: 8.8695 - val_acc: 0.4437\n",
            "Epoch 2/3\n",
            "978247/978247 [==============================] - 127s 130us/step - loss: 8.8313 - acc: 0.4461 - val_loss: 8.8695 - val_acc: 0.4437\n",
            "Epoch 3/3\n",
            "978247/978247 [==============================] - 126s 129us/step - loss: 8.8313 - acc: 0.4461 - val_loss: 8.8695 - val_acc: 0.4437\n"
          ],
          "name": "stdout"
        },
        {
          "output_type": "execute_result",
          "data": {
            "text/plain": [
              "<keras.callbacks.History at 0x7f3452641b00>"
            ]
          },
          "metadata": {
            "tags": []
          },
          "execution_count": 480
        }
      ]
    },
    {
      "cell_type": "markdown",
      "metadata": {
        "id": "P4_4j1TZPC0s",
        "colab_type": "text"
      },
      "source": [
        "# Standize, Normalize or scale the data"
      ]
    },
    {
      "cell_type": "code",
      "metadata": {
        "id": "FZBsVHWZNSV2",
        "colab_type": "code",
        "outputId": "89f0520d-7481-48c9-bd95-98263309a304",
        "colab": {
          "base_uri": "https://localhost:8080/",
          "height": 34
        }
      },
      "source": [
        "from sklearn.preprocessing import StandardScaler\n",
        "scaler = StandardScaler()\n",
        "scaler.fit(x_train)"
      ],
      "execution_count": 0,
      "outputs": [
        {
          "output_type": "execute_result",
          "data": {
            "text/plain": [
              "StandardScaler(copy=True, with_mean=True, with_std=True)"
            ]
          },
          "metadata": {
            "tags": []
          },
          "execution_count": 481
        }
      ]
    },
    {
      "cell_type": "code",
      "metadata": {
        "id": "Q6FrkRfaPchf",
        "colab_type": "code",
        "colab": {}
      },
      "source": [
        "x_train_scaled = scaler.transform(x_train)\n",
        "x_val_scaled = scaler.transform(x_val)\n",
        "x_test_scaled = scaler.transform(x_test)"
      ],
      "execution_count": 0,
      "outputs": []
    },
    {
      "cell_type": "markdown",
      "metadata": {
        "id": "pxMFlUNXQIpq",
        "colab_type": "text"
      },
      "source": [
        "# DNN with imporved data"
      ]
    },
    {
      "cell_type": "code",
      "metadata": {
        "id": "PS3WT-GWPzAW",
        "colab_type": "code",
        "colab": {}
      },
      "source": [
        "from keras.models import Sequential\n",
        "from keras.layers import Dense"
      ],
      "execution_count": 0,
      "outputs": []
    },
    {
      "cell_type": "code",
      "metadata": {
        "id": "Hhx35s5dQXiY",
        "colab_type": "code",
        "outputId": "2ad212cc-f0c1-47e3-8482-2ab212387e4f",
        "colab": {
          "base_uri": "https://localhost:8080/",
          "height": 173
        }
      },
      "source": [
        "model = Sequential()\n",
        "model.add(Dense(512,input_dim=x_train_scaled.shape[1],activation='relu'))\n",
        "model.add(Dense(512,activation='relu'))\n",
        "model.add(Dense(1,activation='sigmoid'))\n",
        "model.compile(optimizer='Adam',loss='binary_crossentropy',metrics=['accuracy'])\n",
        "model.fit(x_train_scaled,y_train,validation_data=(x_val_scaled,y_val),epochs=3,batch_size=64)"
      ],
      "execution_count": 0,
      "outputs": [
        {
          "output_type": "stream",
          "text": [
            "Train on 978247 samples, validate on 108695 samples\n",
            "Epoch 1/3\n",
            "978247/978247 [==============================] - 131s 134us/step - loss: 0.2077 - acc: 0.9116 - val_loss: 0.1461 - val_acc: 0.9412\n",
            "Epoch 2/3\n",
            "978247/978247 [==============================] - 129s 132us/step - loss: 0.1246 - acc: 0.9511 - val_loss: 0.1101 - val_acc: 0.9565\n",
            "Epoch 3/3\n",
            "978247/978247 [==============================] - 129s 132us/step - loss: 0.0954 - acc: 0.9634 - val_loss: 0.0961 - val_acc: 0.9637\n"
          ],
          "name": "stdout"
        },
        {
          "output_type": "execute_result",
          "data": {
            "text/plain": [
              "<keras.callbacks.History at 0x7f34525bf470>"
            ]
          },
          "metadata": {
            "tags": []
          },
          "execution_count": 484
        }
      ]
    },
    {
      "cell_type": "code",
      "metadata": {
        "id": "65mWQQ_fRhNH",
        "colab_type": "code",
        "outputId": "6d902d2d-795a-49e6-ec06-2190d371ee80",
        "colab": {
          "base_uri": "https://localhost:8080/",
          "height": 173
        }
      },
      "source": [
        "model = Sequential()\n",
        "model.add(Dense(512,input_dim=x_train_scaled.shape[1],activation='relu'))\n",
        "model.add(Dense(512,activation='relu'))\n",
        "model.add(Dense(1,activation='sigmoid'))\n",
        "model.compile(optimizer='Adam',loss='binary_crossentropy',metrics=['accuracy'])\n",
        "model.fit(x_train_scaled,y_train,validation_data=(x_val_scaled,y_val),epochs=3,batch_size=64)"
      ],
      "execution_count": 0,
      "outputs": [
        {
          "output_type": "stream",
          "text": [
            "Train on 978247 samples, validate on 108695 samples\n",
            "Epoch 1/3\n",
            "978247/978247 [==============================] - 133s 136us/step - loss: 0.2074 - acc: 0.9114 - val_loss: 0.1475 - val_acc: 0.9402\n",
            "Epoch 2/3\n",
            "978247/978247 [==============================] - 132s 135us/step - loss: 0.1244 - acc: 0.9508 - val_loss: 0.1118 - val_acc: 0.9568\n",
            "Epoch 3/3\n",
            "978247/978247 [==============================] - 133s 136us/step - loss: 0.0951 - acc: 0.9635 - val_loss: 0.0927 - val_acc: 0.9650\n"
          ],
          "name": "stdout"
        },
        {
          "output_type": "execute_result",
          "data": {
            "text/plain": [
              "<keras.callbacks.History at 0x7f34659cc400>"
            ]
          },
          "metadata": {
            "tags": []
          },
          "execution_count": 486
        }
      ]
    },
    {
      "cell_type": "code",
      "metadata": {
        "id": "tJEPU4I-TQ6y",
        "colab_type": "code",
        "outputId": "f7520966-5654-401a-91b0-7049a23581ce",
        "colab": {
          "base_uri": "https://localhost:8080/",
          "height": 173
        }
      },
      "source": [
        "model = Sequential()\n",
        "model.add(Dense(1024,input_dim=x_train_scaled.shape[1],activation='relu'))\n",
        "model.add(Dense(1024,activation='relu'))\n",
        "model.add(Dense(1,activation='sigmoid'))\n",
        "model.compile(optimizer='Adam',loss='binary_crossentropy',metrics=['accuracy'])\n",
        "model.fit(x_train_scaled,y_train,validation_data=(x_val_scaled,y_val),epochs=3,batch_size=64)"
      ],
      "execution_count": 0,
      "outputs": [
        {
          "output_type": "stream",
          "text": [
            "Train on 978247 samples, validate on 108695 samples\n",
            "Epoch 1/3\n",
            "978247/978247 [==============================] - 333s 341us/step - loss: 0.2102 - acc: 0.9095 - val_loss: 0.1529 - val_acc: 0.9387\n",
            "Epoch 2/3\n",
            "978247/978247 [==============================] - 337s 344us/step - loss: 0.1249 - acc: 0.9506 - val_loss: 0.1138 - val_acc: 0.9556\n",
            "Epoch 3/3\n",
            "978247/978247 [==============================] - 329s 336us/step - loss: 0.0941 - acc: 0.9633 - val_loss: 0.0944 - val_acc: 0.9651\n"
          ],
          "name": "stdout"
        },
        {
          "output_type": "execute_result",
          "data": {
            "text/plain": [
              "<keras.callbacks.History at 0x7f3465470898>"
            ]
          },
          "metadata": {
            "tags": []
          },
          "execution_count": 487
        }
      ]
    },
    {
      "cell_type": "code",
      "metadata": {
        "id": "KpXuo6kwU_O0",
        "colab_type": "code",
        "colab": {}
      },
      "source": [
        ""
      ],
      "execution_count": 0,
      "outputs": []
    }
  ]
}